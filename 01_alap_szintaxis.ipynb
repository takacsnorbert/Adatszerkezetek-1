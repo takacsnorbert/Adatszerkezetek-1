{
  "nbformat": 4,
  "nbformat_minor": 0,
  "metadata": {
    "anaconda-cloud": {},
    "hide_input": false,
    "kernelspec": {
      "display_name": "Python 3",
      "language": "python",
      "name": "python3"
    },
    "language_info": {
      "codemirror_mode": {
        "name": "ipython",
        "version": 3
      },
      "file_extension": ".py",
      "mimetype": "text/x-python",
      "name": "python",
      "nbconvert_exporter": "python",
      "pygments_lexer": "ipython3",
      "version": "3.5.2"
    },
    "latex_envs": {
      "bibliofile": "biblio.bib",
      "cite_by": "apalike",
      "current_citInitial": 1,
      "eqLabelWithNumbers": true,
      "eqNumInitial": 0
    },
    "name": "python-bevezeto.ipynb",
    "colab": {
      "name": "01_alap_szintaxis.ipynb",
      "provenance": []
    }
  },
  "cells": [
    {
      "cell_type": "markdown",
      "metadata": {
        "id": "Hha2ci3x2Vks"
      },
      "source": [
        "# Első lépések Pythonban, ismerkedés a változókkal\n",
        "Ebben a notebookban rövid példákon keresztül megismerkedünk a Python nyelv szintaxisával, illetve néhány alapvető adattípussal és adatstruktúrával. Később ezeket és az ezekből származtatott adatstruktúrákat fogjuk lépten-nyomon használni.\n",
        "\n",
        "---"
      ]
    },
    {
      "cell_type": "markdown",
      "metadata": {
        "id": "mKICQELZ2Vk8"
      },
      "source": [
        "## Megjegyzések (kommentek)\n",
        "A Pythonban a megjegyzések kettőskereszttel ('#') kezdődnek, és a sor végéig tartanak. Egy megjegyzés lehet sor elején, vagy követhet szóközt, tabulátor karaktert, de ha egy karakterlánc (string) belsejébe teszed, az nem lesz megjegyzés (lásd a példában!). A kettőskereszt karakter egy karakterláncon belül csak egy kettőskeresztet jelent."
      ]
    },
    {
      "cell_type": "code",
      "metadata": {
        "collapsed": true,
        "id": "ThRlDHVT2Vk9"
      },
      "source": [
        "# ez az első megjegyzés\n",
        "SPAM = 1                 # ez a második megjegyzés\n",
        "                         # ... és ez a harmadik.\n",
        "STRING = \"# Ez nem megjegyzés, mert idézőjelekben van.\""
      ],
      "execution_count": 1,
      "outputs": []
    },
    {
      "cell_type": "markdown",
      "metadata": {
        "id": "lBd9b0xK2Vk-"
      },
      "source": [
        "A komment csak a programozónak szól emlékeztetőül, vagy más programozók megértését segíti. Noha gyakran elmarad, a kódok rendszeres dokumentálása megjegyzésekkel később (amikor már a kód részleteit a feledés homálya borítja) nagyon kifizetődő lehet.\n",
        "\n",
        "---"
      ]
    },
    {
      "cell_type": "markdown",
      "metadata": {
        "id": "A8Efseo72Vk-"
      },
      "source": [
        "## A Python használata számológépként\n",
        "\n",
        "A notebookot lehet úgy használni, mint egy sima számológépet: be lehet írni egy kifejezést, és az kiszámolja az értékét. A kifejezések nyelvtana a szokásos: a +, -, * és / műveletek ugyanúgy működnek, mint a legtöbb nyelvben (például Fortran vagy C). A zárójeleket értelemszerűen az elvégzendő műveletek csoportosítására, a műveleti sorrend meghatározására használjuk. Például:"
      ]
    },
    {
      "cell_type": "code",
      "metadata": {
        "id": "9JPz9WCV2Vk_",
        "colab": {
          "base_uri": "https://localhost:8080/"
        },
        "outputId": "d50dfb57-a0a6-4d79-c2d4-39a4820fe5d2"
      },
      "source": [
        "2 + 2"
      ],
      "execution_count": 2,
      "outputs": [
        {
          "output_type": "execute_result",
          "data": {
            "text/plain": [
              "4"
            ]
          },
          "metadata": {
            "tags": []
          },
          "execution_count": 2
        }
      ]
    },
    {
      "cell_type": "code",
      "metadata": {
        "id": "fWkt8zQq2VlA",
        "colab": {
          "base_uri": "https://localhost:8080/"
        },
        "outputId": "bd97d6b4-02db-4b6e-a56f-d14b94050f3b"
      },
      "source": [
        "50 - 5*6"
      ],
      "execution_count": 3,
      "outputs": [
        {
          "output_type": "execute_result",
          "data": {
            "text/plain": [
              "20"
            ]
          },
          "metadata": {
            "tags": []
          },
          "execution_count": 3
        }
      ]
    },
    {
      "cell_type": "code",
      "metadata": {
        "id": "2jHA5lyp2VlB",
        "colab": {
          "base_uri": "https://localhost:8080/"
        },
        "outputId": "3089d594-9f52-40e0-d5c1-3efd0417f322"
      },
      "source": [
        "(50 - 5*6) / 4"
      ],
      "execution_count": 4,
      "outputs": [
        {
          "output_type": "execute_result",
          "data": {
            "text/plain": [
              "5.0"
            ]
          },
          "metadata": {
            "tags": []
          },
          "execution_count": 4
        }
      ]
    },
    {
      "cell_type": "code",
      "metadata": {
        "id": "8M3-HloI2VlB",
        "colab": {
          "base_uri": "https://localhost:8080/"
        },
        "outputId": "e3a4f680-749f-4453-a995-415033caa75d"
      },
      "source": [
        "8 / 5  # az osztás egész számok esetén is lebegőpontos eredményt ad. "
      ],
      "execution_count": 5,
      "outputs": [
        {
          "output_type": "execute_result",
          "data": {
            "text/plain": [
              "1.6"
            ]
          },
          "metadata": {
            "tags": []
          },
          "execution_count": 5
        }
      ]
    },
    {
      "cell_type": "markdown",
      "metadata": {
        "id": "cDzCDzhx2VlC"
      },
      "source": [
        "Az egész számok (pl. 2, 4, 20) alkotják az **int** típust, a valós számok (pl 5.0, 1.6) pedig a **float** típust. \n",
        "A Python 3-ban az osztás (/) mindig lebegőpontos értékeket ad vissza. Lefelé kerekítő egészosztás elvégzéséhez, amellyel egész értéket kapunk, a // operátor használható; az osztás maradékához a %-t hívhatjuk segítségül:"
      ]
    },
    {
      "cell_type": "code",
      "metadata": {
        "id": "6HAaW9uS2VlC",
        "colab": {
          "base_uri": "https://localhost:8080/"
        },
        "outputId": "2f1add75-7996-475c-ef19-7f90c8f48d84"
      },
      "source": [
        "17 / 3  # hagyományos osztás lebegőpontos eredménnyel"
      ],
      "execution_count": 6,
      "outputs": [
        {
          "output_type": "execute_result",
          "data": {
            "text/plain": [
              "5.666666666666667"
            ]
          },
          "metadata": {
            "tags": []
          },
          "execution_count": 6
        }
      ]
    },
    {
      "cell_type": "code",
      "metadata": {
        "id": "lKylUz1v2VlC",
        "colab": {
          "base_uri": "https://localhost:8080/"
        },
        "outputId": "75df42b8-0547-4394-eab9-31e380bcc9ef"
      },
      "source": [
        "17 // 3  # az egészosztással megszabadulunk a törtrésztől"
      ],
      "execution_count": 7,
      "outputs": [
        {
          "output_type": "execute_result",
          "data": {
            "text/plain": [
              "5"
            ]
          },
          "metadata": {
            "tags": []
          },
          "execution_count": 7
        }
      ]
    },
    {
      "cell_type": "code",
      "metadata": {
        "id": "hFhYlkt22VlD",
        "colab": {
          "base_uri": "https://localhost:8080/"
        },
        "outputId": "4ec5faa5-3a96-410f-c70b-f6cd6831244c"
      },
      "source": [
        "17 % 3  # a % operátor az osztás maradékával tér vissza"
      ],
      "execution_count": 8,
      "outputs": [
        {
          "output_type": "execute_result",
          "data": {
            "text/plain": [
              "2"
            ]
          },
          "metadata": {
            "tags": []
          },
          "execution_count": 8
        }
      ]
    },
    {
      "cell_type": "code",
      "metadata": {
        "id": "Jpmq582o2VlD",
        "colab": {
          "base_uri": "https://localhost:8080/"
        },
        "outputId": "ddd54858-6ba8-4684-cd61-4145c698484e"
      },
      "source": [
        "5 * 3 + 2  # eredmény * osztó + maradék"
      ],
      "execution_count": 9,
      "outputs": [
        {
          "output_type": "execute_result",
          "data": {
            "text/plain": [
              "17"
            ]
          },
          "metadata": {
            "tags": []
          },
          "execution_count": 9
        }
      ]
    },
    {
      "cell_type": "markdown",
      "metadata": {
        "id": "MbciwyNp2VlE"
      },
      "source": [
        "A Pythonban a ** operátor használható a hatvány kiszámítására:"
      ]
    },
    {
      "cell_type": "code",
      "metadata": {
        "id": "SoyBrZXl2VlE",
        "colab": {
          "base_uri": "https://localhost:8080/"
        },
        "outputId": "25d631df-2300-42b4-a6cc-6eb764731ee5"
      },
      "source": [
        "5 ** 2  # 5 négyzete"
      ],
      "execution_count": 10,
      "outputs": [
        {
          "output_type": "execute_result",
          "data": {
            "text/plain": [
              "25"
            ]
          },
          "metadata": {
            "tags": []
          },
          "execution_count": 10
        }
      ]
    },
    {
      "cell_type": "code",
      "metadata": {
        "id": "fgf3f7fX2VlE",
        "colab": {
          "base_uri": "https://localhost:8080/"
        },
        "outputId": "7e6fd61c-1c7f-4436-d22b-52a0c54ebb0f"
      },
      "source": [
        "2 ** 7  # 2 7. hatványa"
      ],
      "execution_count": 11,
      "outputs": [
        {
          "output_type": "execute_result",
          "data": {
            "text/plain": [
              "128"
            ]
          },
          "metadata": {
            "tags": []
          },
          "execution_count": 11
        }
      ]
    },
    {
      "cell_type": "markdown",
      "metadata": {
        "id": "kNzREfA32VlE"
      },
      "source": [
        "A `Python` a lebegőpontos számokat bizonyos tekintetben előnyben részesíti az egész számokhoz képest. Azok a műveletek, amelyeknél keverednek a típusok, az egészeket lebegőpontossá alakítják:"
      ]
    },
    {
      "cell_type": "code",
      "metadata": {
        "id": "SaY7qlsG2VlF",
        "colab": {
          "base_uri": "https://localhost:8080/"
        },
        "outputId": "9de4f5e7-c154-44d5-9728-3d548b95b50d"
      },
      "source": [
        "3 * 3.75 / 1.5"
      ],
      "execution_count": 12,
      "outputs": [
        {
          "output_type": "execute_result",
          "data": {
            "text/plain": [
              "7.5"
            ]
          },
          "metadata": {
            "tags": []
          },
          "execution_count": 12
        }
      ]
    },
    {
      "cell_type": "code",
      "metadata": {
        "id": "_Oa1CdwH2VlF",
        "colab": {
          "base_uri": "https://localhost:8080/"
        },
        "outputId": "e5e52f3a-0432-4309-d45b-19fae3222eca"
      },
      "source": [
        "7.0 / 2"
      ],
      "execution_count": 13,
      "outputs": [
        {
          "output_type": "execute_result",
          "data": {
            "text/plain": [
              "3.5"
            ]
          },
          "metadata": {
            "tags": []
          },
          "execution_count": 13
        }
      ]
    },
    {
      "cell_type": "markdown",
      "metadata": {
        "id": "eRVJj3Vz2VlF"
      },
      "source": [
        "Előfordul néha, hogy egyes függvények `int` típusú változót, várnak és ezt egy `float` típusúból kell előállítanunk. A típusok közti konverziót az int() és float() függvények segítségével tehetjük meg."
      ]
    },
    {
      "cell_type": "code",
      "metadata": {
        "id": "mxzYmsB72VlF",
        "colab": {
          "base_uri": "https://localhost:8080/"
        },
        "outputId": "364c5bb9-980f-4cf7-99fe-602bd5f26a73"
      },
      "source": [
        "int(3.1415)"
      ],
      "execution_count": 14,
      "outputs": [
        {
          "output_type": "execute_result",
          "data": {
            "text/plain": [
              "3"
            ]
          },
          "metadata": {
            "tags": []
          },
          "execution_count": 14
        }
      ]
    },
    {
      "cell_type": "code",
      "metadata": {
        "id": "qxYIWFMy2VlG",
        "colab": {
          "base_uri": "https://localhost:8080/"
        },
        "outputId": "3a699a93-d970-44bd-a31d-6fbbf3a7d4cb"
      },
      "source": [
        "float(42)"
      ],
      "execution_count": 15,
      "outputs": [
        {
          "output_type": "execute_result",
          "data": {
            "text/plain": [
              "42.0"
            ]
          },
          "metadata": {
            "tags": []
          },
          "execution_count": 15
        }
      ]
    },
    {
      "cell_type": "markdown",
      "metadata": {
        "id": "n4YWZ2Tr2VlG"
      },
      "source": [
        "A `Python` komplex számokat is tud kezelni, a képzetes részt a j vagy J jellel képezhetjük. A komplex számot (valós+képzetes j) formában írhatjuk:"
      ]
    },
    {
      "cell_type": "code",
      "metadata": {
        "id": "NAXsUuxP2VlG",
        "colab": {
          "base_uri": "https://localhost:8080/"
        },
        "outputId": "bf32d062-eddc-4685-c28f-df7a982192f4"
      },
      "source": [
        "1j * 1J"
      ],
      "execution_count": 16,
      "outputs": [
        {
          "output_type": "execute_result",
          "data": {
            "text/plain": [
              "(-1+0j)"
            ]
          },
          "metadata": {
            "tags": []
          },
          "execution_count": 16
        }
      ]
    },
    {
      "cell_type": "code",
      "metadata": {
        "id": "HgfDXgLk2VlG",
        "colab": {
          "base_uri": "https://localhost:8080/"
        },
        "outputId": "d9465d53-3cc9-473b-ba0c-118c678a9023"
      },
      "source": [
        "3+1j*3"
      ],
      "execution_count": 17,
      "outputs": [
        {
          "output_type": "execute_result",
          "data": {
            "text/plain": [
              "(3+3j)"
            ]
          },
          "metadata": {
            "tags": []
          },
          "execution_count": 17
        }
      ]
    },
    {
      "cell_type": "code",
      "metadata": {
        "id": "g690TpVv2VlH",
        "colab": {
          "base_uri": "https://localhost:8080/"
        },
        "outputId": "d9a1b591-54ff-40e0-97fe-1c02d859268d"
      },
      "source": [
        "(3+1j)*3"
      ],
      "execution_count": 18,
      "outputs": [
        {
          "output_type": "execute_result",
          "data": {
            "text/plain": [
              "(9+3j)"
            ]
          },
          "metadata": {
            "tags": []
          },
          "execution_count": 18
        }
      ]
    },
    {
      "cell_type": "code",
      "metadata": {
        "id": "0mOLP34b2VlH",
        "colab": {
          "base_uri": "https://localhost:8080/"
        },
        "outputId": "38c723e0-0b05-4993-e5e9-c9ac8dab107a"
      },
      "source": [
        "(1+2j)/(1+1j)"
      ],
      "execution_count": 19,
      "outputs": [
        {
          "output_type": "execute_result",
          "data": {
            "text/plain": [
              "(1.5+0.5j)"
            ]
          },
          "metadata": {
            "tags": []
          },
          "execution_count": 19
        }
      ]
    },
    {
      "cell_type": "markdown",
      "metadata": {
        "id": "hWSHOEOQ2VlH"
      },
      "source": [
        "A komplex számokat gyakran két lebegőpontos számmal ábrázolják: a képzetes és a valós résszel. A `z` komplex számnak ezeket a részeit talán kicsit szokatlan módon (a változó után írt `.` és a megfelelő szó ) a `z.real` és `z.imag` utasításokkal olvashatjuk vissza."
      ]
    },
    {
      "cell_type": "code",
      "metadata": {
        "id": "qBgvMRIK2VlH",
        "colab": {
          "base_uri": "https://localhost:8080/"
        },
        "outputId": "bddf7432-467b-4e7e-c301-14648a76bc3d"
      },
      "source": [
        "(1.5+0.5j).real"
      ],
      "execution_count": 20,
      "outputs": [
        {
          "output_type": "execute_result",
          "data": {
            "text/plain": [
              "1.5"
            ]
          },
          "metadata": {
            "tags": []
          },
          "execution_count": 20
        }
      ]
    },
    {
      "cell_type": "code",
      "metadata": {
        "id": "71p_gCAD2VlI",
        "colab": {
          "base_uri": "https://localhost:8080/"
        },
        "outputId": "1970a5f3-1493-4fdf-8b38-1f4e0e2c7f90"
      },
      "source": [
        "(1.5+0.5j).imag"
      ],
      "execution_count": 21,
      "outputs": [
        {
          "output_type": "execute_result",
          "data": {
            "text/plain": [
              "0.5"
            ]
          },
          "metadata": {
            "tags": []
          },
          "execution_count": 21
        }
      ]
    },
    {
      "cell_type": "markdown",
      "metadata": {
        "id": "lauKYjos2VlI"
      },
      "source": [
        "A lebegőpontos és egész típusú konverziós függvények (`float()` és `int()`) nem működnek komplex számokra.\n",
        "A komplex-valós átalakításnak több lehetséges módja is van: ahhoz, hogy egy komplex számból valósat csinálj, használd az abs(z) utasítást, hogy megkapd a nagyságát, vagy a fent már megismert `z.real` és `z.imag` utasítást, ha a valós része vagy a képzetes része kell. "
      ]
    },
    {
      "cell_type": "code",
      "metadata": {
        "id": "80OdDBUc2VlI",
        "colab": {
          "base_uri": "https://localhost:8080/"
        },
        "outputId": "20ec1d90-d91f-439d-eae1-b93bd0d51456"
      },
      "source": [
        "float(abs(3.0+4.0j)) # ez nem működik"
      ],
      "execution_count": 24,
      "outputs": [
        {
          "output_type": "execute_result",
          "data": {
            "text/plain": [
              "5.0"
            ]
          },
          "metadata": {
            "tags": []
          },
          "execution_count": 24
        }
      ]
    },
    {
      "cell_type": "code",
      "metadata": {
        "id": "iG9FYqxZ2VlI",
        "colab": {
          "base_uri": "https://localhost:8080/"
        },
        "outputId": "58c8146a-7bcd-4c4b-9ffb-92ff1713a7eb"
      },
      "source": [
        "abs(3.0+4.0j)  # sqrt(a.real**2 + a.imag**2)"
      ],
      "execution_count": 25,
      "outputs": [
        {
          "output_type": "execute_result",
          "data": {
            "text/plain": [
              "5.0"
            ]
          },
          "metadata": {
            "tags": []
          },
          "execution_count": 25
        }
      ]
    },
    {
      "cell_type": "markdown",
      "metadata": {
        "id": "zLBFPizz2VlJ"
      },
      "source": [
        "---"
      ]
    },
    {
      "cell_type": "markdown",
      "metadata": {
        "id": "2tNiVA8M2VlJ"
      },
      "source": [
        "## Változók\n",
        "\n",
        "Programozási feladatok során rendszerint változókban tároljuk a hasznos információkat. A megírt programok nem konkrét számértékekre, hanem változókra hivatkoznak, ez teszi lehetővé, hogy különböző bemeneti adatokra ugyanazt az algoritmust ha kell, többször is lefuttathassuk. A változók neveit rendszerint az angol ABC betűiből és esetleg néhány egyéb karakterből szokás összeállítani. Például: \n",
        "```python\n",
        "szelesseg        # ebben csak betűk vannak\n",
        "a_folyoso_hossza # ebben a változó névben szerepel a _ karakter is\n",
        "```\n",
        "\n",
        "A változók neveit célszerű úgy megválasztani, hogy később könnyen kitalálható legyen, mit is jelöltünk vele.\n",
        "A legtöbb programozási nyelvhez hasonlóan az egyenlőségjellel (=) lehet értéket adni egy változónak. Az értékadás után az értelmező újabb utasításra vár, látszólag nem történik semmi:"
      ]
    },
    {
      "cell_type": "code",
      "metadata": {
        "collapsed": true,
        "id": "rek0XreR2VlJ"
      },
      "source": [
        "szelesseg = 20\n",
        "magassag = 5*9"
      ],
      "execution_count": 26,
      "outputs": []
    },
    {
      "cell_type": "markdown",
      "metadata": {
        "id": "P6VHlVMh2VlJ"
      },
      "source": [
        "A háttérben viszont létrejöttek a `szelesseg` és `magassag` változók, amikkel most már hasznos dolgokat tudunk művelni. Számítsuk ki például a két változó szorzatát:"
      ]
    },
    {
      "cell_type": "code",
      "metadata": {
        "id": "mz9KBQTS2VlK",
        "colab": {
          "base_uri": "https://localhost:8080/"
        },
        "outputId": "3398b044-9b2b-4404-9411-d36262a7439a"
      },
      "source": [
        "szelesseg * magassag"
      ],
      "execution_count": 27,
      "outputs": [
        {
          "output_type": "execute_result",
          "data": {
            "text/plain": [
              "900"
            ]
          },
          "metadata": {
            "tags": []
          },
          "execution_count": 27
        }
      ]
    },
    {
      "cell_type": "markdown",
      "metadata": {
        "id": "fqyaCmyR2VlK"
      },
      "source": [
        "Ha egy változó nincs definiálva (nincs érték rendelve hozzá), és használni próbáljuk, akkor hibaüzenetet kapunk:"
      ]
    },
    {
      "cell_type": "code",
      "metadata": {
        "id": "MmuwYVIa2VlK",
        "colab": {
          "base_uri": "https://localhost:8080/",
          "height": 162
        },
        "outputId": "cf595896-d088-49c7-9bc3-df803b6bda9a"
      },
      "source": [
        "n  # Az n változót még nem definiáltuk"
      ],
      "execution_count": 28,
      "outputs": [
        {
          "output_type": "error",
          "ename": "NameError",
          "evalue": "ignored",
          "traceback": [
            "\u001b[0;31m---------------------------------------------------------------------------\u001b[0m",
            "\u001b[0;31mNameError\u001b[0m                                 Traceback (most recent call last)",
            "\u001b[0;32m<ipython-input-28-bbe70c791af0>\u001b[0m in \u001b[0;36m<module>\u001b[0;34m()\u001b[0m\n\u001b[0;32m----> 1\u001b[0;31m \u001b[0mn\u001b[0m  \u001b[0;31m# Az n változót még nem definiáltuk\u001b[0m\u001b[0;34m\u001b[0m\u001b[0;34m\u001b[0m\u001b[0m\n\u001b[0m",
            "\u001b[0;31mNameError\u001b[0m: name 'n' is not defined"
          ]
        }
      ]
    },
    {
      "cell_type": "markdown",
      "metadata": {
        "id": "EJjT-Rq92VlL"
      },
      "source": [
        "Az utoljára kiírt kifejezés értéke az _ (alsóvonás) változóban van. Így ha a Pythont asztali számológépként használod, akkor egyszerűbb folytatni a számolásokat, például:"
      ]
    },
    {
      "cell_type": "code",
      "metadata": {
        "collapsed": true,
        "id": "keVE1ako2VlL"
      },
      "source": [
        "ado = 12.5 / 100"
      ],
      "execution_count": 29,
      "outputs": []
    },
    {
      "cell_type": "code",
      "metadata": {
        "collapsed": true,
        "id": "a2QDX95r2VlL"
      },
      "source": [
        "ar = 100.50"
      ],
      "execution_count": 30,
      "outputs": []
    },
    {
      "cell_type": "code",
      "metadata": {
        "id": "djPXUlKb2VlL",
        "colab": {
          "base_uri": "https://localhost:8080/"
        },
        "outputId": "8ad48ad1-3261-4efb-b515-ef53033bdd42"
      },
      "source": [
        "ar * ado"
      ],
      "execution_count": 31,
      "outputs": [
        {
          "output_type": "execute_result",
          "data": {
            "text/plain": [
              "12.5625"
            ]
          },
          "metadata": {
            "tags": []
          },
          "execution_count": 31
        }
      ]
    },
    {
      "cell_type": "code",
      "metadata": {
        "id": "dyeTASBL2VlL",
        "colab": {
          "base_uri": "https://localhost:8080/"
        },
        "outputId": "61df3b18-c83e-4539-e20b-ae486f2a81f2"
      },
      "source": [
        "ar + _"
      ],
      "execution_count": 32,
      "outputs": [
        {
          "output_type": "execute_result",
          "data": {
            "text/plain": [
              "113.0625"
            ]
          },
          "metadata": {
            "tags": []
          },
          "execution_count": 32
        }
      ]
    },
    {
      "cell_type": "code",
      "metadata": {
        "id": "ikjPbw0c2VlM",
        "colab": {
          "base_uri": "https://localhost:8080/"
        },
        "outputId": "f67c8f04-6fc1-4680-99a0-77a80341e600"
      },
      "source": [
        "round(_, 2) #kerekítés 2 tizedes jegyre"
      ],
      "execution_count": 33,
      "outputs": [
        {
          "output_type": "execute_result",
          "data": {
            "text/plain": [
              "113.06"
            ]
          },
          "metadata": {
            "tags": []
          },
          "execution_count": 33
        }
      ]
    },
    {
      "cell_type": "markdown",
      "metadata": {
        "id": "V5n59wTV2VlM"
      },
      "source": [
        "Ezt a változót csak olvasható változóként kezelhetjük. Ne adjunk értéket neki, mert ha adunk, akkor létrehozunk egy független helyi változót azonos névvel, amely meggátolja a beépített változó elérését, amely mágikus módon viselkedik. (Ha egy globális változó nevével létrehozunk egy helyi változót, akkor az értelmező a helyit használja.)"
      ]
    },
    {
      "cell_type": "markdown",
      "metadata": {
        "id": "UAsl--D12VlM"
      },
      "source": [
        "A notebookban az előző eredményen kívül jóval korábbi eredményekre is hivatkozhatunk. Például 2. parancs kimenetére a következőképpen:"
      ]
    },
    {
      "cell_type": "code",
      "metadata": {
        "id": "gBXxdvE02VlM",
        "colab": {
          "base_uri": "https://localhost:8080/"
        },
        "outputId": "9b6e5939-c062-48f8-c0a3-8eafc1d346fb"
      },
      "source": [
        "Out[2]"
      ],
      "execution_count": 34,
      "outputs": [
        {
          "output_type": "execute_result",
          "data": {
            "text/plain": [
              "4"
            ]
          },
          "metadata": {
            "tags": []
          },
          "execution_count": 34
        }
      ]
    },
    {
      "cell_type": "markdown",
      "metadata": {
        "id": "8EAGZ0iB2VlN"
      },
      "source": [
        "---"
      ]
    },
    {
      "cell_type": "markdown",
      "metadata": {
        "id": "eeCHyDM52VlN"
      },
      "source": [
        "## Logikai Bool-változók és feltételes végrehajtás\n",
        "Ahhoz, hogy a program reagálni tudjon bemenetekre, vagy egy már kiszámolt részeredménytől függhessen további működése, szükség van feltételek vizsgálatára. Gondoljunk például a másodfokú egyenlet megoldóképletére! Attól függően, hogy a diszkrimináns pozitív vagy negatív, léteznek, ill. nem léteznek valós gyökök, így értelemszerűen egy ilyen programnak \"döntenie\" kell. A döntés egy feltétel vizsgálatán alapul (pl. poz. vagy neg. diszkrimináns), ami lehet igaz vagy hamis, angolul *True*, ill. *False*. Az igaz és hamis értéket tárolni képes változó típusa: **boolean** (Bool-változó). (Emlékezzünk vissza az **int** ill. **float** típusokra.)"
      ]
    },
    {
      "cell_type": "markdown",
      "metadata": {
        "id": "jR1O0_v32VlN"
      },
      "source": [
        "Két objektum azonosságáról dupla egyenlőségjellel, azaz a == operátor segítségével tájékozódhatunk. "
      ]
    },
    {
      "cell_type": "code",
      "metadata": {
        "id": "-gGTWf6-2VlN",
        "colab": {
          "base_uri": "https://localhost:8080/"
        },
        "outputId": "4bb4c296-a470-4fbb-9d36-d2efa0074bf9"
      },
      "source": [
        "1 == 1  # 1 megeggyezik 1-gyel ?"
      ],
      "execution_count": 35,
      "outputs": [
        {
          "output_type": "execute_result",
          "data": {
            "text/plain": [
              "True"
            ]
          },
          "metadata": {
            "tags": []
          },
          "execution_count": 35
        }
      ]
    },
    {
      "cell_type": "code",
      "metadata": {
        "id": "4edkt0Y52VlN",
        "colab": {
          "base_uri": "https://localhost:8080/"
        },
        "outputId": "931b3046-2490-4626-b3dd-c3249d81879c"
      },
      "source": [
        "1 == 2 # 1 megeggyezik 2-vel ?"
      ],
      "execution_count": 36,
      "outputs": [
        {
          "output_type": "execute_result",
          "data": {
            "text/plain": [
              "False"
            ]
          },
          "metadata": {
            "tags": []
          },
          "execution_count": 36
        }
      ]
    },
    {
      "cell_type": "markdown",
      "metadata": {
        "id": "7kZzs2tD2VlO"
      },
      "source": [
        "Ha arról akarunk meggyőződni, hogy két objektum nem ugyanaz, akkor ezt a != operátor segítségével tehetjük meg:"
      ]
    },
    {
      "cell_type": "code",
      "metadata": {
        "id": "5cJh1PjE2VlO",
        "outputId": "c9e8088a-caad-4b64-9ecb-f00e952ac5ec"
      },
      "source": [
        "1!=2 #1 nem 2 ?"
      ],
      "execution_count": null,
      "outputs": [
        {
          "output_type": "execute_result",
          "data": {
            "text/plain": [
              "True"
            ]
          },
          "metadata": {
            "tags": []
          },
          "execution_count": 34
        }
      ]
    },
    {
      "cell_type": "markdown",
      "metadata": {
        "id": "0vEd8SJc2VlO"
      },
      "source": [
        "Természetszerűen számok esetén a <,> operátorok segítségével dönthetjük el, hogy melyik szám a nagyobb:"
      ]
    },
    {
      "cell_type": "code",
      "metadata": {
        "id": "fLcGT-LA2VlO",
        "outputId": "d216d971-8de7-41fd-8b75-5e6ff1eb1f82"
      },
      "source": [
        "1>2"
      ],
      "execution_count": null,
      "outputs": [
        {
          "output_type": "execute_result",
          "data": {
            "text/plain": [
              "False"
            ]
          },
          "metadata": {
            "tags": []
          },
          "execution_count": 35
        }
      ]
    },
    {
      "cell_type": "code",
      "metadata": {
        "id": "Rap6qz-o2VlP",
        "outputId": "aab49c65-79f9-43cf-9a34-a0e438d35a37"
      },
      "source": [
        "1<2"
      ],
      "execution_count": null,
      "outputs": [
        {
          "output_type": "execute_result",
          "data": {
            "text/plain": [
              "True"
            ]
          },
          "metadata": {
            "tags": []
          },
          "execution_count": 36
        }
      ]
    },
    {
      "cell_type": "code",
      "metadata": {
        "id": "pBFstba22VlP",
        "outputId": "1c90ae5b-7d73-4e95-9eef-e86562f83f07"
      },
      "source": [
        "1j+3>2 # komplex számokra nem értelmezzük a <> jeleket!!"
      ],
      "execution_count": null,
      "outputs": [
        {
          "output_type": "error",
          "ename": "TypeError",
          "evalue": "unorderable types: complex() > int()",
          "traceback": [
            "\u001b[0;31m---------------------------------------------------------------------------\u001b[0m",
            "\u001b[0;31mTypeError\u001b[0m                                 Traceback (most recent call last)",
            "\u001b[0;32m<ipython-input-2-e379c1b94aed>\u001b[0m in \u001b[0;36m<module>\u001b[0;34m()\u001b[0m\n\u001b[0;32m----> 1\u001b[0;31m \u001b[0;36m1j\u001b[0m\u001b[0;34m+\u001b[0m\u001b[0;36m3\u001b[0m\u001b[0;34m>\u001b[0m\u001b[0;36m2\u001b[0m \u001b[0;31m# komplex számokra nem értelmezzük a <> jeleket!!\u001b[0m\u001b[0;34m\u001b[0m\u001b[0m\n\u001b[0m",
            "\u001b[0;31mTypeError\u001b[0m: unorderable types: complex() > int()"
          ]
        }
      ]
    },
    {
      "cell_type": "markdown",
      "metadata": {
        "id": "RlkbdzFj2VlP"
      },
      "source": [
        "Egy igaz/hamis értéket változóban is tárolhatunk:"
      ]
    },
    {
      "cell_type": "code",
      "metadata": {
        "collapsed": true,
        "id": "ZgsYTNOZ2VlP"
      },
      "source": [
        "igazvagyhamis= 2*2==5"
      ],
      "execution_count": null,
      "outputs": []
    },
    {
      "cell_type": "code",
      "metadata": {
        "id": "7L-wXDLH2VlP",
        "outputId": "4e81d45a-6381-4ef0-e743-6562b2231337"
      },
      "source": [
        "igazvagyhamis"
      ],
      "execution_count": null,
      "outputs": [
        {
          "output_type": "execute_result",
          "data": {
            "text/plain": [
              "False"
            ]
          },
          "metadata": {
            "tags": []
          },
          "execution_count": 39
        }
      ]
    },
    {
      "cell_type": "markdown",
      "metadata": {
        "id": "L0K2ssRn2VlQ"
      },
      "source": [
        "Relációkat láncolhatunk is, például: az a < b == c megvizsgálja, hogy az a kisebb-e mint b, és ezen felül b egyenlő-e c-vel."
      ]
    },
    {
      "cell_type": "code",
      "metadata": {
        "id": "8WIFZmKM2VlQ",
        "outputId": "e0177f64-f842-4bc1-a7b0-2fea4cfc4e83"
      },
      "source": [
        "b=2\n",
        "1 < 2 == b"
      ],
      "execution_count": null,
      "outputs": [
        {
          "output_type": "execute_result",
          "data": {
            "text/plain": [
              "True"
            ]
          },
          "metadata": {
            "tags": []
          },
          "execution_count": 40
        }
      ]
    },
    {
      "cell_type": "code",
      "metadata": {
        "id": "TeWEQQgZ2VlQ",
        "outputId": "90d41aa0-938c-473c-ef13-b0c42add0d91"
      },
      "source": [
        "b=3\n",
        "1 < 2 == b"
      ],
      "execution_count": null,
      "outputs": [
        {
          "output_type": "execute_result",
          "data": {
            "text/plain": [
              "False"
            ]
          },
          "metadata": {
            "tags": []
          },
          "execution_count": 41
        }
      ]
    },
    {
      "cell_type": "markdown",
      "metadata": {
        "id": "YNEaLG802VlQ"
      },
      "source": [
        "A relációkat összefűzhetjük **and** és **or** logikai műveletekkel is. Egy reláció erdményét (vagy bármely logikai műveletét) az ellentettjére változtathatjuk a **not** művelettel."
      ]
    },
    {
      "cell_type": "code",
      "metadata": {
        "id": "U6wsXEGj2VlR",
        "outputId": "c844f66c-0738-4270-cab1-b61d7ac699a1"
      },
      "source": [
        "not 2*2==5"
      ],
      "execution_count": null,
      "outputs": [
        {
          "output_type": "execute_result",
          "data": {
            "text/plain": [
              "True"
            ]
          },
          "metadata": {
            "tags": []
          },
          "execution_count": 42
        }
      ]
    },
    {
      "cell_type": "markdown",
      "metadata": {
        "id": "jzTfvj1K2VlR"
      },
      "source": [
        "Az **and**, **or** és **not** függvények – ha zárójelezést nem alkalmazunk – akkor a relációjelek után kerülnek kiértékelésre (más szóval mondva a relációjelekhez képest alacsonyabb a precedenciájuk). \n",
        "A három logikai művelet közül a **not** értékelődik ki legelőször (neki a magasabb a precedenciája a másik kettőhöz képest), és az **or** értékelődik ki utolsónak. \n",
        "\n",
        "Tehát az A and not B or C ugyanazt jelenti, mint az (A and (not B)) or C. Természetesen a zárójeleket használhatunk a kívánt műveleti sorrendű feltétel eléréséhez."
      ]
    },
    {
      "cell_type": "code",
      "metadata": {
        "id": "J8eUlCxE2VlR",
        "outputId": "e0370042-8be9-4efe-b4e4-d66f262cd35a"
      },
      "source": [
        "b=3\n",
        "((1==2) and (3==4)) or (b==3)"
      ],
      "execution_count": null,
      "outputs": [
        {
          "output_type": "execute_result",
          "data": {
            "text/plain": [
              "True"
            ]
          },
          "metadata": {
            "tags": []
          },
          "execution_count": 43
        }
      ]
    },
    {
      "cell_type": "markdown",
      "metadata": {
        "id": "fYTqSTj_2VlS"
      },
      "source": [
        "---"
      ]
    },
    {
      "cell_type": "markdown",
      "metadata": {
        "id": "PEX8pJgV2VlT"
      },
      "source": [
        "## Karakterláncok (Stringek)\n",
        "\n",
        "A számok mellett a Python karakterláncokkal, például szavakkal is tud műveleteket végezni. A karakterláncokat egyszeres ('...') vagy dupla idézőjelek (\"...\") közé lehet zárni. A két jelölés között nincs jelentős különbség. A \\\\ használható arra, hogy a karakterláncbeli idézőjeleket levédjük:"
      ]
    },
    {
      "cell_type": "code",
      "metadata": {
        "id": "9PaLADmy2VlV",
        "colab": {
          "base_uri": "https://localhost:8080/",
          "height": 35
        },
        "outputId": "fcaa7229-692d-4d8d-e15f-7fef538da824"
      },
      "source": [
        "'spam eggs'"
      ],
      "execution_count": 37,
      "outputs": [
        {
          "output_type": "execute_result",
          "data": {
            "application/vnd.google.colaboratory.intrinsic+json": {
              "type": "string"
            },
            "text/plain": [
              "'spam eggs'"
            ]
          },
          "metadata": {
            "tags": []
          },
          "execution_count": 37
        }
      ]
    },
    {
      "cell_type": "code",
      "metadata": {
        "id": "fb4n6Pk12VlZ",
        "colab": {
          "base_uri": "https://localhost:8080/",
          "height": 35
        },
        "outputId": "95165600-4764-4c32-ca06-38960f98533a"
      },
      "source": [
        "'doesn\\'t'"
      ],
      "execution_count": 38,
      "outputs": [
        {
          "output_type": "execute_result",
          "data": {
            "application/vnd.google.colaboratory.intrinsic+json": {
              "type": "string"
            },
            "text/plain": [
              "\"doesn't\""
            ]
          },
          "metadata": {
            "tags": []
          },
          "execution_count": 38
        }
      ]
    },
    {
      "cell_type": "code",
      "metadata": {
        "id": "WgfH26j42Vlg",
        "colab": {
          "base_uri": "https://localhost:8080/",
          "height": 35
        },
        "outputId": "4b501324-1a1a-4536-8765-488a011196dd"
      },
      "source": [
        "\"doesn't\""
      ],
      "execution_count": 39,
      "outputs": [
        {
          "output_type": "execute_result",
          "data": {
            "application/vnd.google.colaboratory.intrinsic+json": {
              "type": "string"
            },
            "text/plain": [
              "\"doesn't\""
            ]
          },
          "metadata": {
            "tags": []
          },
          "execution_count": 39
        }
      ]
    },
    {
      "cell_type": "code",
      "metadata": {
        "id": "tOf2uHeg2Vll",
        "colab": {
          "base_uri": "https://localhost:8080/",
          "height": 35
        },
        "outputId": "2d76c389-601b-49ca-e2f1-c6b4678e3cf0"
      },
      "source": [
        "'\"Yes,\" he said.'"
      ],
      "execution_count": 40,
      "outputs": [
        {
          "output_type": "execute_result",
          "data": {
            "application/vnd.google.colaboratory.intrinsic+json": {
              "type": "string"
            },
            "text/plain": [
              "'\"Yes,\" he said.'"
            ]
          },
          "metadata": {
            "tags": []
          },
          "execution_count": 40
        }
      ]
    },
    {
      "cell_type": "code",
      "metadata": {
        "id": "COdidD_j2Vlw",
        "colab": {
          "base_uri": "https://localhost:8080/",
          "height": 35
        },
        "outputId": "e61c6192-1dbf-485f-84c4-a5d6d4f93392"
      },
      "source": [
        "\"\\\"Yes,\\\" he said.\""
      ],
      "execution_count": 41,
      "outputs": [
        {
          "output_type": "execute_result",
          "data": {
            "application/vnd.google.colaboratory.intrinsic+json": {
              "type": "string"
            },
            "text/plain": [
              "'\"Yes,\" he said.'"
            ]
          },
          "metadata": {
            "tags": []
          },
          "execution_count": 41
        }
      ]
    },
    {
      "cell_type": "code",
      "metadata": {
        "id": "TPocv4JX2Vl2",
        "colab": {
          "base_uri": "https://localhost:8080/",
          "height": 35
        },
        "outputId": "81fdd2c1-b70d-429d-9f26-4f2d08e23694"
      },
      "source": [
        "'\"Isn\\'t,\" she said.'"
      ],
      "execution_count": 53,
      "outputs": [
        {
          "output_type": "execute_result",
          "data": {
            "application/vnd.google.colaboratory.intrinsic+json": {
              "type": "string"
            },
            "text/plain": [
              "'\"Isn\\'t,\" she said.'"
            ]
          },
          "metadata": {
            "tags": []
          },
          "execution_count": 53
        }
      ]
    },
    {
      "cell_type": "markdown",
      "metadata": {
        "id": "pHiP-cEl2Vl4"
      },
      "source": [
        "A kimeneti karakterlánc idézőjelekben jelenik meg, a speciális karakterek vissza-perrel (\\\\) levédve. Bár ez néha különbözőnek látszik a bemenettől (az idézőjel fajtája megváltozhat), a két karakterlánc egyenértékű. A print() függvény egy sokkal olvashatóbb kimenetet eredményez, elhagyva az idézőjeleket és kiírva a levédett és speciális karaktereket:"
      ]
    },
    {
      "cell_type": "code",
      "metadata": {
        "id": "LDOocvwp2Vl4",
        "colab": {
          "base_uri": "https://localhost:8080/"
        },
        "outputId": "53892388-4a54-4878-8e73-378801268357"
      },
      "source": [
        "print('\"Isn\\'t,\" she said.')"
      ],
      "execution_count": 43,
      "outputs": [
        {
          "output_type": "stream",
          "text": [
            "\"Isn't,\" she said.\n"
          ],
          "name": "stdout"
        }
      ]
    },
    {
      "cell_type": "code",
      "metadata": {
        "collapsed": true,
        "id": "bvelwfxk2Vl5"
      },
      "source": [
        "s = 'First line.\\nSecond line.'  # \\n újsort jelent"
      ],
      "execution_count": 54,
      "outputs": []
    },
    {
      "cell_type": "code",
      "metadata": {
        "id": "TPM9OH002Vl6",
        "colab": {
          "base_uri": "https://localhost:8080/",
          "height": 35
        },
        "outputId": "b8641ba5-d1e4-4f51-a545-bd23b041ed3d"
      },
      "source": [
        "s  # print() nélkül a \\n benne van a kimenetben"
      ],
      "execution_count": 55,
      "outputs": [
        {
          "output_type": "execute_result",
          "data": {
            "application/vnd.google.colaboratory.intrinsic+json": {
              "type": "string"
            },
            "text/plain": [
              "'First line.\\nSecond line.'"
            ]
          },
          "metadata": {
            "tags": []
          },
          "execution_count": 55
        }
      ]
    },
    {
      "cell_type": "code",
      "metadata": {
        "id": "8nnDiHTi2Vl6",
        "colab": {
          "base_uri": "https://localhost:8080/"
        },
        "outputId": "1555c421-2947-47a4-bd16-e771420c1e7e"
      },
      "source": [
        "print(s)  # print()-tel az \\n újsort hoz létre"
      ],
      "execution_count": 56,
      "outputs": [
        {
          "output_type": "stream",
          "text": [
            "First line.\n",
            "Second line.\n"
          ],
          "name": "stdout"
        }
      ]
    },
    {
      "cell_type": "markdown",
      "metadata": {
        "id": "B8ZYbBIk2Vl7"
      },
      "source": [
        "Ha nem akarod, hogy a \\ jellel kezdődő karakterek speciális karakterként értelmeződjenek, akkor nyers karakterláncokat használhatsz egy r-et helyezve a kezdő idézőjel elé:"
      ]
    },
    {
      "cell_type": "code",
      "metadata": {
        "id": "s0afBOr_2Vl7",
        "colab": {
          "base_uri": "https://localhost:8080/"
        },
        "outputId": "7d57f636-c1fd-445b-9e59-b4e10c92dc1f"
      },
      "source": [
        "print('C:\\some\\name')  # \\n újsort jelent"
      ],
      "execution_count": 47,
      "outputs": [
        {
          "output_type": "stream",
          "text": [
            "C:\\some\n",
            "ame\n"
          ],
          "name": "stdout"
        }
      ]
    },
    {
      "cell_type": "code",
      "metadata": {
        "id": "3STVBIBn2Vl8",
        "colab": {
          "base_uri": "https://localhost:8080/"
        },
        "outputId": "639904b3-a8e3-4ae2-e600-717460861c7d"
      },
      "source": [
        "print(r'C:\\some\\name')  # r van az idézőjel előtt"
      ],
      "execution_count": 48,
      "outputs": [
        {
          "output_type": "stream",
          "text": [
            "C:\\some\\name\n"
          ],
          "name": "stdout"
        }
      ]
    },
    {
      "cell_type": "markdown",
      "metadata": {
        "id": "BvGkA49q2Vl8"
      },
      "source": [
        "A literális karakterláncok többsorosak is lehetnek. Egy lehetőség erre a hármas idézőjelek használata: \"\"\"...\"\"\" vagy '''...'''. Ilyenkor az újsorok automatikusan belekerülnek a karakterláncba, de ez a viselkedés megszüntethető, ha a sor végére egy \\\\-t adsz. A következő példa"
      ]
    },
    {
      "cell_type": "code",
      "metadata": {
        "id": "gVXibPEv2Vl8",
        "colab": {
          "base_uri": "https://localhost:8080/"
        },
        "outputId": "e678d13c-a998-411e-9398-929e8e1c1f24"
      },
      "source": [
        "print(\"\"\"\\\n",
        "Usage: thingy [OPTIONS]\n",
        "     -h                        Display this usage message\n",
        "     -H hostname               Hostname to connect to\n",
        "\"\"\")"
      ],
      "execution_count": 49,
      "outputs": [
        {
          "output_type": "stream",
          "text": [
            "Usage: thingy [OPTIONS]\n",
            "     -h                        Display this usage message\n",
            "     -H hostname               Hostname to connect to\n",
            "\n"
          ],
          "name": "stdout"
        }
      ]
    },
    {
      "cell_type": "markdown",
      "metadata": {
        "id": "idzNdzbF2Vl9"
      },
      "source": [
        "Karakterláncokat a + művelettel ragaszthatunk össze, és *-gal ismételhetünk."
      ]
    },
    {
      "cell_type": "code",
      "metadata": {
        "id": "37HlQ8S-2Vl9",
        "colab": {
          "base_uri": "https://localhost:8080/",
          "height": 35
        },
        "outputId": "9c1f49ba-d9ca-4cdf-ae11-1163cb12b4fa"
      },
      "source": [
        "3 * 'un' + 'ium'"
      ],
      "execution_count": 50,
      "outputs": [
        {
          "output_type": "execute_result",
          "data": {
            "application/vnd.google.colaboratory.intrinsic+json": {
              "type": "string"
            },
            "text/plain": [
              "'unununium'"
            ]
          },
          "metadata": {
            "tags": []
          },
          "execution_count": 50
        }
      ]
    },
    {
      "cell_type": "markdown",
      "metadata": {
        "id": "lDD3SteE2Vl9"
      },
      "source": [
        "Két egymást követő literális karakterláncot (azokat, amik idézőjelben vannak, és nem egy változóban, vagy nem egy függvény hoz létre) az értelmező magától összefűz:"
      ]
    },
    {
      "cell_type": "code",
      "metadata": {
        "id": "vIc-ODYz2Vl-",
        "colab": {
          "base_uri": "https://localhost:8080/",
          "height": 35
        },
        "outputId": "1b1e95b3-9c67-4acd-9b2a-f63164dcb48e"
      },
      "source": [
        "'Py' 'thon'"
      ],
      "execution_count": 51,
      "outputs": [
        {
          "output_type": "execute_result",
          "data": {
            "application/vnd.google.colaboratory.intrinsic+json": {
              "type": "string"
            },
            "text/plain": [
              "'Python'"
            ]
          },
          "metadata": {
            "tags": []
          },
          "execution_count": 51
        }
      ]
    },
    {
      "cell_type": "markdown",
      "metadata": {
        "id": "0O1RYIrT2Vl-"
      },
      "source": [
        "De ez csak két literálissal működik, változóval vagy kifejezéssel nem:"
      ]
    },
    {
      "cell_type": "code",
      "metadata": {
        "id": "Yq7nkWZ32Vl_",
        "colab": {
          "base_uri": "https://localhost:8080/",
          "height": 128
        },
        "outputId": "85f8d32d-dde1-4c85-cb2d-6314ff64c79f"
      },
      "source": [
        "prefix = 'Py'\n",
        "prefix 'thon'  # nem tud változót és literális karakterláncot összefűzni"
      ],
      "execution_count": 52,
      "outputs": [
        {
          "output_type": "error",
          "ename": "SyntaxError",
          "evalue": "ignored",
          "traceback": [
            "\u001b[0;36m  File \u001b[0;32m\"<ipython-input-52-c48a70ec6ed1>\"\u001b[0;36m, line \u001b[0;32m2\u001b[0m\n\u001b[0;31m    prefix 'thon'  # nem tud változót és literális karakterláncot összefűzni\u001b[0m\n\u001b[0m                ^\u001b[0m\n\u001b[0;31mSyntaxError\u001b[0m\u001b[0;31m:\u001b[0m invalid syntax\n"
          ]
        }
      ]
    },
    {
      "cell_type": "markdown",
      "metadata": {
        "id": "q8gmgHvf2VmB"
      },
      "source": [
        "Ha változókat akarsz összefűzni, vagy változót literálissal, használj + műveletet:"
      ]
    },
    {
      "cell_type": "code",
      "metadata": {
        "id": "Hu_wxfVT2VmC",
        "colab": {
          "base_uri": "https://localhost:8080/",
          "height": 35
        },
        "outputId": "07ce1c59-30fe-4d90-d7ab-bf1b35eb8882"
      },
      "source": [
        "prefix = 'Py'\n",
        "prefix + 'thon'"
      ],
      "execution_count": 57,
      "outputs": [
        {
          "output_type": "execute_result",
          "data": {
            "application/vnd.google.colaboratory.intrinsic+json": {
              "type": "string"
            },
            "text/plain": [
              "'Python'"
            ]
          },
          "metadata": {
            "tags": []
          },
          "execution_count": 57
        }
      ]
    },
    {
      "cell_type": "markdown",
      "metadata": {
        "id": "61QrQTcr2VmC"
      },
      "source": [
        "A literálisok összefűzése különösen hasznos hosszú sorok széttörésére:"
      ]
    },
    {
      "cell_type": "code",
      "metadata": {
        "id": "7Hnmxpfo2VmC",
        "colab": {
          "base_uri": "https://localhost:8080/",
          "height": 35
        },
        "outputId": "30a97e4d-5bc3-49a8-f09a-1240b8ab970d"
      },
      "source": [
        "text = ('Több karakterláncot írhatunk zárójelbe, '\n",
        "            'hogy összefűzhessük azokat.')\n",
        "text"
      ],
      "execution_count": 58,
      "outputs": [
        {
          "output_type": "execute_result",
          "data": {
            "application/vnd.google.colaboratory.intrinsic+json": {
              "type": "string"
            },
            "text/plain": [
              "'Több karakterláncot írhatunk zárójelbe, hogy összefűzhessük azokat.'"
            ]
          },
          "metadata": {
            "tags": []
          },
          "execution_count": 58
        }
      ]
    },
    {
      "cell_type": "markdown",
      "metadata": {
        "id": "-Kn2mYi-2VmD"
      },
      "source": [
        "Minden karakterhez a karakterláncban a `Python` rendel egy sorszámot (indexet). Az első karakterhez tartozik a `0` index, a következőhöz az `1`-es index és így tovább. (Ez a konvenció tükrözi a C-ben megszokottakat.) "
      ]
    },
    {
      "cell_type": "code",
      "metadata": {
        "collapsed": true,
        "id": "4hHJwnIp2VmD"
      },
      "source": [
        "szo = 'Python'"
      ],
      "execution_count": 59,
      "outputs": []
    },
    {
      "cell_type": "code",
      "metadata": {
        "id": "SipL1kw42VmD",
        "colab": {
          "base_uri": "https://localhost:8080/",
          "height": 35
        },
        "outputId": "6002dbf3-56ed-410e-b16e-ae2c6203b83a"
      },
      "source": [
        "szo[0]  # karakter a 0 pozícióban"
      ],
      "execution_count": 60,
      "outputs": [
        {
          "output_type": "execute_result",
          "data": {
            "application/vnd.google.colaboratory.intrinsic+json": {
              "type": "string"
            },
            "text/plain": [
              "'P'"
            ]
          },
          "metadata": {
            "tags": []
          },
          "execution_count": 60
        }
      ]
    },
    {
      "cell_type": "code",
      "metadata": {
        "id": "zYPSa4oh2VmE",
        "colab": {
          "base_uri": "https://localhost:8080/",
          "height": 35
        },
        "outputId": "62910528-208a-42e4-b750-d21ac7f4c44d"
      },
      "source": [
        "szo[5]  # karakter a 5 pozícióban"
      ],
      "execution_count": 61,
      "outputs": [
        {
          "output_type": "execute_result",
          "data": {
            "application/vnd.google.colaboratory.intrinsic+json": {
              "type": "string"
            },
            "text/plain": [
              "'n'"
            ]
          },
          "metadata": {
            "tags": []
          },
          "execution_count": 61
        }
      ]
    },
    {
      "cell_type": "markdown",
      "metadata": {
        "id": "8AOHBrmC2VmE"
      },
      "source": [
        "Az indexek negatívak is lehetnek, ilyenkor jobbról kezdünk el számolni:"
      ]
    },
    {
      "cell_type": "code",
      "metadata": {
        "id": "NDoSzcB32VmE",
        "colab": {
          "base_uri": "https://localhost:8080/",
          "height": 35
        },
        "outputId": "47208996-1406-4105-b0e2-83bd340dff9c"
      },
      "source": [
        "szo[-1]  # utolsó karakter"
      ],
      "execution_count": 62,
      "outputs": [
        {
          "output_type": "execute_result",
          "data": {
            "application/vnd.google.colaboratory.intrinsic+json": {
              "type": "string"
            },
            "text/plain": [
              "'n'"
            ]
          },
          "metadata": {
            "tags": []
          },
          "execution_count": 62
        }
      ]
    },
    {
      "cell_type": "code",
      "metadata": {
        "id": "NfOhYh9M2VmF",
        "colab": {
          "base_uri": "https://localhost:8080/",
          "height": 35
        },
        "outputId": "c1840f70-3c37-49b2-b827-e77c306c3d81"
      },
      "source": [
        "szo[-2]  # utolsó előtti karakter"
      ],
      "execution_count": 63,
      "outputs": [
        {
          "output_type": "execute_result",
          "data": {
            "application/vnd.google.colaboratory.intrinsic+json": {
              "type": "string"
            },
            "text/plain": [
              "'o'"
            ]
          },
          "metadata": {
            "tags": []
          },
          "execution_count": 63
        }
      ]
    },
    {
      "cell_type": "code",
      "metadata": {
        "id": "wBCEaEvr2VmG",
        "colab": {
          "base_uri": "https://localhost:8080/",
          "height": 35
        },
        "outputId": "e1199a41-612d-4a14-f579-96cfec43affd"
      },
      "source": [
        "szo[-6]"
      ],
      "execution_count": 64,
      "outputs": [
        {
          "output_type": "execute_result",
          "data": {
            "application/vnd.google.colaboratory.intrinsic+json": {
              "type": "string"
            },
            "text/plain": [
              "'P'"
            ]
          },
          "metadata": {
            "tags": []
          },
          "execution_count": 64
        }
      ]
    },
    {
      "cell_type": "markdown",
      "metadata": {
        "id": "X8V6Oz_n2VmG"
      },
      "source": [
        "Az indexelésen felül a szeletelés is támogatott. Míg az indexelés egyetlen karaktert jelöl ki, a szeletelés egy részkarakterláncot:"
      ]
    },
    {
      "cell_type": "code",
      "metadata": {
        "id": "PL6sTAi82VmG",
        "colab": {
          "base_uri": "https://localhost:8080/",
          "height": 35
        },
        "outputId": "48d5ae6a-98ba-4669-987d-f84f37329b83"
      },
      "source": [
        "szo[0:2]  # karakterek a 0 pozíciótól (benne van) a 2-esig (az már nem)"
      ],
      "execution_count": 65,
      "outputs": [
        {
          "output_type": "execute_result",
          "data": {
            "application/vnd.google.colaboratory.intrinsic+json": {
              "type": "string"
            },
            "text/plain": [
              "'Py'"
            ]
          },
          "metadata": {
            "tags": []
          },
          "execution_count": 65
        }
      ]
    },
    {
      "cell_type": "code",
      "metadata": {
        "id": "RxgbM7__2VmG",
        "colab": {
          "base_uri": "https://localhost:8080/",
          "height": 35
        },
        "outputId": "159a02e7-eaac-49a8-9ac6-0dd0f7822bb4"
      },
      "source": [
        "szo[2:5]  # karakterek a 2 pozíciótól (benne van) a 5-esig (az már nem)"
      ],
      "execution_count": 66,
      "outputs": [
        {
          "output_type": "execute_result",
          "data": {
            "application/vnd.google.colaboratory.intrinsic+json": {
              "type": "string"
            },
            "text/plain": [
              "'tho'"
            ]
          },
          "metadata": {
            "tags": []
          },
          "execution_count": 66
        }
      ]
    },
    {
      "cell_type": "markdown",
      "metadata": {
        "id": "AZEVuUsH2VmH"
      },
      "source": [
        "A kezdő index mindig beleértendő az eredménybe, a végső index pedig nem. Ez teszi lehetővé, hogy s[:i] + s[i:] mindig egyenlő legyen s-el:"
      ]
    },
    {
      "cell_type": "code",
      "metadata": {
        "id": "RmZ-C_bp2VmH",
        "colab": {
          "base_uri": "https://localhost:8080/",
          "height": 35
        },
        "outputId": "86906ea7-0e7c-433e-cc80-af0dceabff30"
      },
      "source": [
        "szo[:2] + szo[2:]"
      ],
      "execution_count": 67,
      "outputs": [
        {
          "output_type": "execute_result",
          "data": {
            "application/vnd.google.colaboratory.intrinsic+json": {
              "type": "string"
            },
            "text/plain": [
              "'Python'"
            ]
          },
          "metadata": {
            "tags": []
          },
          "execution_count": 67
        }
      ]
    },
    {
      "cell_type": "code",
      "metadata": {
        "id": "Hz17hjyN2VmH",
        "colab": {
          "base_uri": "https://localhost:8080/",
          "height": 35
        },
        "outputId": "8c932713-6602-4fd0-a5d9-3e336af34f95"
      },
      "source": [
        "szo[:4] + szo[4:]"
      ],
      "execution_count": 68,
      "outputs": [
        {
          "output_type": "execute_result",
          "data": {
            "application/vnd.google.colaboratory.intrinsic+json": {
              "type": "string"
            },
            "text/plain": [
              "'Python'"
            ]
          },
          "metadata": {
            "tags": []
          },
          "execution_count": 68
        }
      ]
    },
    {
      "cell_type": "markdown",
      "metadata": {
        "id": "dRcV0WdQ2VmH"
      },
      "source": [
        "A szeletek indexeinek hasznos alapértékei vannak; a kihagyott első index alapértéke 0, az elhagyott második index alapértéke a szeletelendő karakterlánc hossza:"
      ]
    },
    {
      "cell_type": "code",
      "metadata": {
        "id": "ITsqqsdl2VmI",
        "colab": {
          "base_uri": "https://localhost:8080/",
          "height": 35
        },
        "outputId": "428ca469-4dc9-4d12-a3df-060c2cdfa45b"
      },
      "source": [
        "szo[:2]  # karakterek az elejétől a 2-esig (már nincs benne)"
      ],
      "execution_count": 69,
      "outputs": [
        {
          "output_type": "execute_result",
          "data": {
            "application/vnd.google.colaboratory.intrinsic+json": {
              "type": "string"
            },
            "text/plain": [
              "'Py'"
            ]
          },
          "metadata": {
            "tags": []
          },
          "execution_count": 69
        }
      ]
    },
    {
      "cell_type": "code",
      "metadata": {
        "id": "WLe9HMIU2VmI",
        "colab": {
          "base_uri": "https://localhost:8080/",
          "height": 35
        },
        "outputId": "270c2a52-cfd0-424f-a364-5d550485d28a"
      },
      "source": [
        "szo[4:]  # karekterek a 4-es pozíciótól (benne van) a végéig"
      ],
      "execution_count": 70,
      "outputs": [
        {
          "output_type": "execute_result",
          "data": {
            "application/vnd.google.colaboratory.intrinsic+json": {
              "type": "string"
            },
            "text/plain": [
              "'on'"
            ]
          },
          "metadata": {
            "tags": []
          },
          "execution_count": 70
        }
      ]
    },
    {
      "cell_type": "code",
      "metadata": {
        "id": "oxgvu47e2VmJ",
        "colab": {
          "base_uri": "https://localhost:8080/",
          "height": 35
        },
        "outputId": "0c9ad8a2-dc4c-48ec-ed65-55b896412d62"
      },
      "source": [
        "szo[-2:] # karakterek az utolsó előttitől (beleértve) a végéig"
      ],
      "execution_count": 71,
      "outputs": [
        {
          "output_type": "execute_result",
          "data": {
            "application/vnd.google.colaboratory.intrinsic+json": {
              "type": "string"
            },
            "text/plain": [
              "'on'"
            ]
          },
          "metadata": {
            "tags": []
          },
          "execution_count": 71
        }
      ]
    },
    {
      "cell_type": "markdown",
      "metadata": {
        "id": "wjZWncvj2VmJ"
      },
      "source": [
        "Jegyezd meg, hogy a -0 valóban azonos a 0-val, így ez nem jobbról számol!"
      ]
    },
    {
      "cell_type": "code",
      "metadata": {
        "id": "7X5yJmC42VmJ",
        "colab": {
          "base_uri": "https://localhost:8080/",
          "height": 35
        },
        "outputId": "5c90aadf-5434-4e02-8c16-7e37519c4908"
      },
      "source": [
        "szo[-0]     # mivel -0 és 0 egyenlőek"
      ],
      "execution_count": 72,
      "outputs": [
        {
          "output_type": "execute_result",
          "data": {
            "application/vnd.google.colaboratory.intrinsic+json": {
              "type": "string"
            },
            "text/plain": [
              "'P'"
            ]
          },
          "metadata": {
            "tags": []
          },
          "execution_count": 72
        }
      ]
    },
    {
      "cell_type": "markdown",
      "metadata": {
        "id": "gFOiyrwk2VmK"
      },
      "source": [
        "A nem negatív indexek esetén a szelet hossza az indexek különbségével egyenlő, ha mindkettő a valódi szóhatárokon belül van. Például a szo[1:3] hossza 2.\n",
        "Ha olyan indexet használunk, amely túl nagy, az eredmény hibát ad:"
      ]
    },
    {
      "cell_type": "code",
      "metadata": {
        "id": "qCGLZdKe2VmK",
        "colab": {
          "base_uri": "https://localhost:8080/",
          "height": 162
        },
        "outputId": "7b7b2f98-4f60-4b66-a92c-b2b2083d826f"
      },
      "source": [
        "szo[42]  # a szó csak 7 karakteres"
      ],
      "execution_count": 73,
      "outputs": [
        {
          "output_type": "error",
          "ename": "IndexError",
          "evalue": "ignored",
          "traceback": [
            "\u001b[0;31m---------------------------------------------------------------------------\u001b[0m",
            "\u001b[0;31mIndexError\u001b[0m                                Traceback (most recent call last)",
            "\u001b[0;32m<ipython-input-73-f3fc9d799fef>\u001b[0m in \u001b[0;36m<module>\u001b[0;34m()\u001b[0m\n\u001b[0;32m----> 1\u001b[0;31m \u001b[0mszo\u001b[0m\u001b[0;34m[\u001b[0m\u001b[0;36m42\u001b[0m\u001b[0;34m]\u001b[0m  \u001b[0;31m# a szó csak 7 karakteres\u001b[0m\u001b[0;34m\u001b[0m\u001b[0;34m\u001b[0m\u001b[0m\n\u001b[0m",
            "\u001b[0;31mIndexError\u001b[0m: string index out of range"
          ]
        }
      ]
    },
    {
      "cell_type": "markdown",
      "metadata": {
        "id": "6FlsrvIE2VmK"
      },
      "source": [
        "A Python karakterláncait nem lehet megváltoztatni, azok megváltoztathatatlanok. Ezért, ha egy adott indexű helyhez értéket rendelünk, hibát kapunk:"
      ]
    },
    {
      "cell_type": "code",
      "metadata": {
        "id": "Hdg1lnzs2VmK",
        "colab": {
          "base_uri": "https://localhost:8080/",
          "height": 162
        },
        "outputId": "8c172143-6c7c-4c38-dd96-f982d769d16c"
      },
      "source": [
        "szo[0] = 'J'"
      ],
      "execution_count": 74,
      "outputs": [
        {
          "output_type": "error",
          "ename": "TypeError",
          "evalue": "ignored",
          "traceback": [
            "\u001b[0;31m---------------------------------------------------------------------------\u001b[0m",
            "\u001b[0;31mTypeError\u001b[0m                                 Traceback (most recent call last)",
            "\u001b[0;32m<ipython-input-74-fe6969283340>\u001b[0m in \u001b[0;36m<module>\u001b[0;34m()\u001b[0m\n\u001b[0;32m----> 1\u001b[0;31m \u001b[0mszo\u001b[0m\u001b[0;34m[\u001b[0m\u001b[0;36m0\u001b[0m\u001b[0;34m]\u001b[0m \u001b[0;34m=\u001b[0m \u001b[0;34m'J'\u001b[0m\u001b[0;34m\u001b[0m\u001b[0;34m\u001b[0m\u001b[0m\n\u001b[0m",
            "\u001b[0;31mTypeError\u001b[0m: 'str' object does not support item assignment"
          ]
        }
      ]
    },
    {
      "cell_type": "markdown",
      "metadata": {
        "id": "NMYFxB8K2VmK"
      },
      "source": [
        "Ha másik karakterláncra van szükség, alkothatunk egy újat:"
      ]
    },
    {
      "cell_type": "code",
      "metadata": {
        "id": "Qqe5UsTI2VmL",
        "colab": {
          "base_uri": "https://localhost:8080/",
          "height": 35
        },
        "outputId": "54b11569-6ff8-4503-985d-7d9b217b8647"
      },
      "source": [
        "'J' + szo[1:]"
      ],
      "execution_count": 75,
      "outputs": [
        {
          "output_type": "execute_result",
          "data": {
            "application/vnd.google.colaboratory.intrinsic+json": {
              "type": "string"
            },
            "text/plain": [
              "'Jython'"
            ]
          },
          "metadata": {
            "tags": []
          },
          "execution_count": 75
        }
      ]
    },
    {
      "cell_type": "code",
      "metadata": {
        "id": "lrB_EC5_2VmL",
        "colab": {
          "base_uri": "https://localhost:8080/",
          "height": 35
        },
        "outputId": "56c1de18-3c40-4605-88c8-0d4eb4321bad"
      },
      "source": [
        "szo[:2] + 'py'"
      ],
      "execution_count": 76,
      "outputs": [
        {
          "output_type": "execute_result",
          "data": {
            "application/vnd.google.colaboratory.intrinsic+json": {
              "type": "string"
            },
            "text/plain": [
              "'Pypy'"
            ]
          },
          "metadata": {
            "tags": []
          },
          "execution_count": 76
        }
      ]
    },
    {
      "cell_type": "markdown",
      "metadata": {
        "id": "ZOJMXVpf2VmL"
      },
      "source": [
        "A beépített len() függvény a karakterlánc hosszával tér vissza:"
      ]
    },
    {
      "cell_type": "code",
      "metadata": {
        "id": "oMinSkPN2VmL",
        "colab": {
          "base_uri": "https://localhost:8080/"
        },
        "outputId": "57a1a24f-4ac5-42e6-e96b-cf49ff4908da"
      },
      "source": [
        "s = 'legeslegelkáposztásíthatatlanságoskodásaitokért'\n",
        "len(s)"
      ],
      "execution_count": 77,
      "outputs": [
        {
          "output_type": "execute_result",
          "data": {
            "text/plain": [
              "47"
            ]
          },
          "metadata": {
            "tags": []
          },
          "execution_count": 77
        }
      ]
    },
    {
      "cell_type": "markdown",
      "metadata": {
        "id": "ze9PG9Sv2VmM"
      },
      "source": [
        "---"
      ]
    },
    {
      "cell_type": "markdown",
      "metadata": {
        "id": "9WU_Gn4j2VmM"
      },
      "source": [
        "## Listák (List)"
      ]
    },
    {
      "cell_type": "markdown",
      "metadata": {
        "id": "jnqkbnnT2VmN"
      },
      "source": [
        "A Python többfajta összetett adattípust ismer, amellyel több különböző értéket csoportosíthatunk. Egy igen sokoldalú összetett adattípus a lista, amelyet vesszőkkel elválasztott értékekként írhatunk be szögletes zárójelbe zárva. Az alábbiakban a listákkal kapcsolatos műveletek alapjait tekintjük át. Listákról magyarul [itt](http://django.arek.uni-obuda.hu/python3-doc/html/tutorial/datastructures.html#a-listakrol-bovebben) egy kicsit bővebben olvashattok. A lista elemeinek nem kell azonos típusúaknak lenniük, bár sok alkalmazásban minden elem azonos típusú."
      ]
    },
    {
      "cell_type": "code",
      "metadata": {
        "id": "fk5kLf6H2VmN",
        "colab": {
          "base_uri": "https://localhost:8080/"
        },
        "outputId": "6f547fc0-5f33-4605-d575-8db71622acbe"
      },
      "source": [
        "a = ['spam', 'tojások', 100, 1234]\n",
        "a\n",
        "['spam', 'tojások', 100, 1234]"
      ],
      "execution_count": 78,
      "outputs": [
        {
          "output_type": "execute_result",
          "data": {
            "text/plain": [
              "['spam', 'tojások', 100, 1234]"
            ]
          },
          "metadata": {
            "tags": []
          },
          "execution_count": 78
        }
      ]
    },
    {
      "cell_type": "markdown",
      "metadata": {
        "id": "R6U2sJFq2VmN"
      },
      "source": [
        "Ahogy a karakterláncokat, a listákat is indexelhetjük és szeletelhetjük:"
      ]
    },
    {
      "cell_type": "code",
      "metadata": {
        "id": "viU20i372VmN",
        "colab": {
          "base_uri": "https://localhost:8080/",
          "height": 35
        },
        "outputId": "3b61438e-702a-488b-e856-7e2b379a8129"
      },
      "source": [
        "a[0]"
      ],
      "execution_count": 79,
      "outputs": [
        {
          "output_type": "execute_result",
          "data": {
            "application/vnd.google.colaboratory.intrinsic+json": {
              "type": "string"
            },
            "text/plain": [
              "'spam'"
            ]
          },
          "metadata": {
            "tags": []
          },
          "execution_count": 79
        }
      ]
    },
    {
      "cell_type": "code",
      "metadata": {
        "id": "51Qvm3Hl2VmO",
        "colab": {
          "base_uri": "https://localhost:8080/"
        },
        "outputId": "70edf4e2-e499-42c0-ebef-8b2b4b1c7cda"
      },
      "source": [
        "a[3]"
      ],
      "execution_count": 80,
      "outputs": [
        {
          "output_type": "execute_result",
          "data": {
            "text/plain": [
              "1234"
            ]
          },
          "metadata": {
            "tags": []
          },
          "execution_count": 80
        }
      ]
    },
    {
      "cell_type": "code",
      "metadata": {
        "id": "vyLBSgvu2VmO",
        "colab": {
          "base_uri": "https://localhost:8080/"
        },
        "outputId": "a4ecd8c1-8607-4826-dfee-fe9a2c0191ed"
      },
      "source": [
        "a[-2] "
      ],
      "execution_count": 81,
      "outputs": [
        {
          "output_type": "execute_result",
          "data": {
            "text/plain": [
              "100"
            ]
          },
          "metadata": {
            "tags": []
          },
          "execution_count": 81
        }
      ]
    },
    {
      "cell_type": "code",
      "metadata": {
        "id": "gjM09juR2VmP",
        "colab": {
          "base_uri": "https://localhost:8080/"
        },
        "outputId": "20cd976a-549e-4ed6-f652-e3e45469d204"
      },
      "source": [
        "a[1:-1]   # a szeletelés új listát ad"
      ],
      "execution_count": 82,
      "outputs": [
        {
          "output_type": "execute_result",
          "data": {
            "text/plain": [
              "['tojások', 100]"
            ]
          },
          "metadata": {
            "tags": []
          },
          "execution_count": 82
        }
      ]
    },
    {
      "cell_type": "markdown",
      "metadata": {
        "id": "ftOA-Txi2VmP"
      },
      "source": [
        "A listák az összefűzést is támogatják:"
      ]
    },
    {
      "cell_type": "code",
      "metadata": {
        "id": "0xHz4iRv2VmQ",
        "colab": {
          "base_uri": "https://localhost:8080/"
        },
        "outputId": "590fb791-87e6-4b55-bdec-78ea00b6abd8"
      },
      "source": [
        "a[:2] + ['sonka', 2*2]"
      ],
      "execution_count": 83,
      "outputs": [
        {
          "output_type": "execute_result",
          "data": {
            "text/plain": [
              "['spam', 'tojások', 'sonka', 4]"
            ]
          },
          "metadata": {
            "tags": []
          },
          "execution_count": 83
        }
      ]
    },
    {
      "cell_type": "code",
      "metadata": {
        "id": "x6V4PI8H2VmQ",
        "colab": {
          "base_uri": "https://localhost:8080/"
        },
        "outputId": "63945e2b-ba42-4a3d-e708-0e87c0dd72cc"
      },
      "source": [
        "3*a[:3] + ['Boe!']"
      ],
      "execution_count": 84,
      "outputs": [
        {
          "output_type": "execute_result",
          "data": {
            "text/plain": [
              "['spam',\n",
              " 'tojások',\n",
              " 100,\n",
              " 'spam',\n",
              " 'tojások',\n",
              " 100,\n",
              " 'spam',\n",
              " 'tojások',\n",
              " 100,\n",
              " 'Boe!']"
            ]
          },
          "metadata": {
            "tags": []
          },
          "execution_count": 84
        }
      ]
    },
    {
      "cell_type": "markdown",
      "metadata": {
        "id": "MeI4ps202VmR"
      },
      "source": [
        "A karakterláncokkal ellentétben – amelyek megváltoztathatatlanok – a listák egyes elemeit módosíthatjuk:"
      ]
    },
    {
      "cell_type": "code",
      "metadata": {
        "id": "A-2_CXTS2VmR",
        "colab": {
          "base_uri": "https://localhost:8080/"
        },
        "outputId": "d9a0db64-95ef-40db-f799-67b5932ac1ce"
      },
      "source": [
        "a[2] = a[2] + 23\n",
        "a"
      ],
      "execution_count": 85,
      "outputs": [
        {
          "output_type": "execute_result",
          "data": {
            "text/plain": [
              "['spam', 'tojások', 123, 1234]"
            ]
          },
          "metadata": {
            "tags": []
          },
          "execution_count": 85
        }
      ]
    },
    {
      "cell_type": "markdown",
      "metadata": {
        "id": "8cCUvH9E2VmR"
      },
      "source": [
        "A szeleteknek értékeket is adhatunk, és ez akár a lista elemszámát is megváltoztathatja:"
      ]
    },
    {
      "cell_type": "code",
      "metadata": {
        "id": "mKMcxvSG2VmR",
        "colab": {
          "base_uri": "https://localhost:8080/"
        },
        "outputId": "82d3e489-6a9f-48c6-8d44-2480039024ab"
      },
      "source": [
        "a[0:2] = [1, 12] # Pár elem átírása:\n",
        "a"
      ],
      "execution_count": 86,
      "outputs": [
        {
          "output_type": "execute_result",
          "data": {
            "text/plain": [
              "[1, 12, 123, 1234]"
            ]
          },
          "metadata": {
            "tags": []
          },
          "execution_count": 86
        }
      ]
    },
    {
      "cell_type": "code",
      "metadata": {
        "id": "A1ptrkE82VmS",
        "colab": {
          "base_uri": "https://localhost:8080/"
        },
        "outputId": "6eee965f-0762-40b5-9f77-bd383b05201b"
      },
      "source": [
        "a[0:2] = [] # Pár elem törlése:\n",
        "a"
      ],
      "execution_count": 87,
      "outputs": [
        {
          "output_type": "execute_result",
          "data": {
            "text/plain": [
              "[123, 1234]"
            ]
          },
          "metadata": {
            "tags": []
          },
          "execution_count": 87
        }
      ]
    },
    {
      "cell_type": "code",
      "metadata": {
        "id": "MeD7ilLV2VmS",
        "colab": {
          "base_uri": "https://localhost:8080/"
        },
        "outputId": "b8588205-da81-4d17-ad50-3272a7c2100f"
      },
      "source": [
        "a = ['spam', 'tojások', 100, 1234]\n",
        "a[1:1] = ['bletch', 'xyzzy'] # Pár elem beszúrása:\n",
        "a"
      ],
      "execution_count": 88,
      "outputs": [
        {
          "output_type": "execute_result",
          "data": {
            "text/plain": [
              "['spam', 'bletch', 'xyzzy', 'tojások', 100, 1234]"
            ]
          },
          "metadata": {
            "tags": []
          },
          "execution_count": 88
        }
      ]
    },
    {
      "cell_type": "code",
      "metadata": {
        "id": "-vZ_8FRF2VmT",
        "colab": {
          "base_uri": "https://localhost:8080/"
        },
        "outputId": "8665c444-d077-4e68-95d2-e1369d090ac7"
      },
      "source": [
        "a[0:0] = [\"szia\"]     # Beszúrja magát (pontosabban egy másolatát) a saját elejére.\n",
        "a"
      ],
      "execution_count": 93,
      "outputs": [
        {
          "output_type": "execute_result",
          "data": {
            "text/plain": [
              "['szia',\n",
              " 's',\n",
              " 'z',\n",
              " 'i',\n",
              " 'a',\n",
              " 's',\n",
              " 'z',\n",
              " 'i',\n",
              " 'a',\n",
              " 'spam',\n",
              " 'bletch',\n",
              " 'xyzzy',\n",
              " 'tojások',\n",
              " 100,\n",
              " 1234,\n",
              " 'spam',\n",
              " 'bletch',\n",
              " 'xyzzy',\n",
              " 'tojások',\n",
              " 100,\n",
              " 1234,\n",
              " 'spam',\n",
              " 'bletch',\n",
              " 'xyzzy',\n",
              " 'tojások',\n",
              " 100,\n",
              " 1234,\n",
              " 'spam',\n",
              " 'bletch',\n",
              " 'xyzzy',\n",
              " 'tojások',\n",
              " 100,\n",
              " 1234]"
            ]
          },
          "metadata": {
            "tags": []
          },
          "execution_count": 93
        }
      ]
    },
    {
      "cell_type": "markdown",
      "metadata": {
        "id": "dQdTDnHi2VmT"
      },
      "source": [
        "A beépített len() függvény listákra is alkalmazható:"
      ]
    },
    {
      "cell_type": "code",
      "metadata": {
        "id": "SH-mL8c52VmT",
        "colab": {
          "base_uri": "https://localhost:8080/"
        },
        "outputId": "914bf5a8-e88d-4f62-94ef-c46b5bced58f"
      },
      "source": [
        "len(a)"
      ],
      "execution_count": 94,
      "outputs": [
        {
          "output_type": "execute_result",
          "data": {
            "text/plain": [
              "33"
            ]
          },
          "metadata": {
            "tags": []
          },
          "execution_count": 94
        }
      ]
    },
    {
      "cell_type": "markdown",
      "metadata": {
        "id": "RSP-QLPu2VmU"
      },
      "source": [
        "A listák egymásba ágyazhatóak, azaz listába elhelyezhetünk listát elemként:"
      ]
    },
    {
      "cell_type": "code",
      "metadata": {
        "id": "ef7Uqqj_2VmU",
        "colab": {
          "base_uri": "https://localhost:8080/"
        },
        "outputId": "c08d69eb-432a-4539-844f-553ba42d2ebe"
      },
      "source": [
        "a = ['a', 'b', 'c']\n",
        "n = [1, 2, 3]\n",
        "x = [a, n]\n",
        "x[1:]"
      ],
      "execution_count": 98,
      "outputs": [
        {
          "output_type": "execute_result",
          "data": {
            "text/plain": [
              "[[1, 2, 3]]"
            ]
          },
          "metadata": {
            "tags": []
          },
          "execution_count": 98
        }
      ]
    },
    {
      "cell_type": "code",
      "metadata": {
        "id": "0IjjIbMa2VmU",
        "outputId": "c21d6886-5a9f-490c-cf9e-ee3119759b3e"
      },
      "source": [
        "x[0]"
      ],
      "execution_count": null,
      "outputs": [
        {
          "output_type": "execute_result",
          "data": {
            "text/plain": [
              "['a', 'b', 'c']"
            ]
          },
          "metadata": {
            "tags": []
          },
          "execution_count": 95
        }
      ]
    },
    {
      "cell_type": "code",
      "metadata": {
        "id": "eF9zu43q2VmU",
        "colab": {
          "base_uri": "https://localhost:8080/",
          "height": 35
        },
        "outputId": "fa786842-1827-4eb9-dfc8-8060aec8731d"
      },
      "source": [
        "x[0][1]"
      ],
      "execution_count": 99,
      "outputs": [
        {
          "output_type": "execute_result",
          "data": {
            "application/vnd.google.colaboratory.intrinsic+json": {
              "type": "string"
            },
            "text/plain": [
              "'b'"
            ]
          },
          "metadata": {
            "tags": []
          },
          "execution_count": 99
        }
      ]
    },
    {
      "cell_type": "code",
      "metadata": {
        "id": "iF9Kcf1k2VmV",
        "colab": {
          "base_uri": "https://localhost:8080/",
          "height": 35
        },
        "outputId": "33a2b3ab-bfd8-44d1-e52f-6aef58c12fcb"
      },
      "source": [
        "x[0][1]"
      ],
      "execution_count": 100,
      "outputs": [
        {
          "output_type": "execute_result",
          "data": {
            "application/vnd.google.colaboratory.intrinsic+json": {
              "type": "string"
            },
            "text/plain": [
              "'b'"
            ]
          },
          "metadata": {
            "tags": []
          },
          "execution_count": 100
        }
      ]
    },
    {
      "cell_type": "markdown",
      "metadata": {
        "id": "jcllwnq92VmV"
      },
      "source": [
        "Előfordul, hogy meg szeretnénk tudni, hogy egy adott elem hányadik helyen van a listában: ezt az `.index()` függvény alkalmazásával kaphatjuk meg. Például nézzük meg, hogy a lent definiált `autok` lista hányadik eleme a `'merci'` karakter:"
      ]
    },
    {
      "cell_type": "code",
      "metadata": {
        "id": "3SHWrjv42VmV"
      },
      "source": [
        "autok=['skoda','vw','merci','mazda']"
      ],
      "execution_count": 101,
      "outputs": []
    },
    {
      "cell_type": "code",
      "metadata": {
        "id": "SUl3jY9H2VmW",
        "colab": {
          "base_uri": "https://localhost:8080/"
        },
        "outputId": "e3108717-0072-4b50-cbf1-889ed14c691e"
      },
      "source": [
        "autok.index('merci')"
      ],
      "execution_count": 102,
      "outputs": [
        {
          "output_type": "execute_result",
          "data": {
            "text/plain": [
              "2"
            ]
          },
          "metadata": {
            "tags": []
          },
          "execution_count": 102
        }
      ]
    },
    {
      "cell_type": "markdown",
      "metadata": {
        "id": "Xipr4rf92VmW"
      },
      "source": [
        "Mint ahogy azt láttuk, a karakterláncok is indexelhetőek. Karakterláncban szereplő karakterek indexére is rákérdezhetünk az `.index()` paranccsal:"
      ]
    },
    {
      "cell_type": "code",
      "metadata": {
        "collapsed": true,
        "id": "LUt2aGwK2VmW"
      },
      "source": [
        "betuk='abcdef'"
      ],
      "execution_count": 103,
      "outputs": []
    },
    {
      "cell_type": "code",
      "metadata": {
        "id": "tJOy-Nll2VmX",
        "colab": {
          "base_uri": "https://localhost:8080/"
        },
        "outputId": "8ae41c50-5485-4602-9bfc-94e564256ca6"
      },
      "source": [
        "betuk.index('e')"
      ],
      "execution_count": 104,
      "outputs": [
        {
          "output_type": "execute_result",
          "data": {
            "text/plain": [
              "4"
            ]
          },
          "metadata": {
            "tags": []
          },
          "execution_count": 104
        }
      ]
    },
    {
      "cell_type": "markdown",
      "metadata": {
        "id": "Boa1Vin42VmY"
      },
      "source": [
        "Szintén sokszor felmerülő probléma, hogy valamilyen objektumról el szeretnénk dönteni, hogy része egy listának. Például hogy mondjuk meg, hogy egy karakterlánc szerepel egy adott hosszú listában? Erre alkalmazható az **in** kulcsszó."
      ]
    },
    {
      "cell_type": "code",
      "metadata": {
        "collapsed": true,
        "id": "MLTLt9yR2VmY"
      },
      "source": [
        "Tage_der_Woche=['Montag','Dienstag','Mittwoch','Donnerstag','Freitag','Samstag','Sonntag']"
      ],
      "execution_count": 105,
      "outputs": []
    },
    {
      "cell_type": "code",
      "metadata": {
        "id": "rOtJEWpr2VmZ",
        "colab": {
          "base_uri": "https://localhost:8080/"
        },
        "outputId": "8e1a1fbe-caf4-4907-a71d-07fd4b4b3c29"
      },
      "source": [
        "'hetfo' in Tage_der_Woche"
      ],
      "execution_count": 106,
      "outputs": [
        {
          "output_type": "execute_result",
          "data": {
            "text/plain": [
              "False"
            ]
          },
          "metadata": {
            "tags": []
          },
          "execution_count": 106
        }
      ]
    },
    {
      "cell_type": "code",
      "metadata": {
        "id": "sRCTqOEA2VmZ",
        "colab": {
          "base_uri": "https://localhost:8080/"
        },
        "outputId": "fc7d3315-e1ea-46f1-da2b-fc21910423f6"
      },
      "source": [
        "'Montag' in Tage_der_Woche"
      ],
      "execution_count": 107,
      "outputs": [
        {
          "output_type": "execute_result",
          "data": {
            "text/plain": [
              "True"
            ]
          },
          "metadata": {
            "tags": []
          },
          "execution_count": 107
        }
      ]
    },
    {
      "cell_type": "markdown",
      "metadata": {
        "id": "9f5eJjnw2Vma"
      },
      "source": [
        "---"
      ]
    },
    {
      "cell_type": "markdown",
      "metadata": {
        "id": "Msi92vJe2Vma"
      },
      "source": [
        "### Még egy hasznos adatstruktúra: Szótárak (Dict-ek)"
      ]
    },
    {
      "cell_type": "markdown",
      "metadata": {
        "id": "YmLfWYvt2Vmb"
      },
      "source": [
        "Sokszor előfordul, hogy adatokat nem valamilyen sorrendben, hanem inkább valamilyen címke szerint szeretnénk tárolni. Tipikus példája ennek egy idegen nyelvű szótár, ahol egy magyar kifejezést egy más nyelvbeli kifejezéssel párosítunk. Ezeknél a struktúráknál sokszor nem lényeges a sorrend, gondoljunk itt például valamilyen tárgy tulajdonságaira. Legyen mondjuk egy autónk ami \n",
        "\n",
        "- piros színű\n",
        "- 1976-ban gyártották\n",
        "- 3 m hosszú \n",
        "- AOK-621 rendszámú\n",
        "\n",
        "Ezek a tulajdonságok egyértelműen meghatározzák az autót attól függetlenül, hogy a felsorolást milyen sorrendben tettük. \n",
        "Ilyen jellegű adatstruktúra a Python nyelvben a [szótár](http://django.arek.uni-obuda.hu/python3-doc/html/tutorial/datastructures.html#szotarak) vagy angolul a dictionary, röviden dict. \n",
        "A szótárak létrehozása kulcsszavak és a hozzájuk rendelt érték segítségével az alábbi szintaxis alapján történik:"
      ]
    },
    {
      "cell_type": "code",
      "metadata": {
        "id": "bypInfpq2Vmc",
        "colab": {
          "base_uri": "https://localhost:8080/"
        },
        "outputId": "03f7b94e-70ed-421d-cbe5-93c13ea6f12c"
      },
      "source": [
        "tel = {'János': 4098, 'Simon': 4139}\n",
        "tel['Norbi'] = 4366\n",
        "tel['Norbi']\n",
        "\n"
      ],
      "execution_count": 136,
      "outputs": [
        {
          "output_type": "execute_result",
          "data": {
            "text/plain": [
              "4366"
            ]
          },
          "metadata": {
            "tags": []
          },
          "execution_count": 136
        }
      ]
    },
    {
      "cell_type": "markdown",
      "metadata": {
        "id": "y8Ui1xWZ2Vme"
      },
      "source": [
        "A listákkal ellenben, ahol sorszám alapján hivatkozunk egy elemre, itt kulcsszó alapján:"
      ]
    },
    {
      "cell_type": "code",
      "metadata": {
        "id": "K8iRWvnS2Vme",
        "colab": {
          "base_uri": "https://localhost:8080/"
        },
        "outputId": "62c7c95c-b7f6-4e17-def1-836bf8435f26"
      },
      "source": [
        "tel['János']"
      ],
      "execution_count": 109,
      "outputs": [
        {
          "output_type": "execute_result",
          "data": {
            "text/plain": [
              "4098"
            ]
          },
          "metadata": {
            "tags": []
          },
          "execution_count": 109
        }
      ]
    },
    {
      "cell_type": "markdown",
      "metadata": {
        "id": "6fpX6ohr2Vme"
      },
      "source": [
        "Új elemet is kulcsszó alapján adhatunk egy dict-hez:"
      ]
    },
    {
      "cell_type": "code",
      "metadata": {
        "id": "mwjTogaL2Vme",
        "colab": {
          "base_uri": "https://localhost:8080/"
        },
        "outputId": "6f5f7337-4674-4091-e1c8-5173e6a62c43"
      },
      "source": [
        "tel['Géza'] = 4127\n",
        "tel"
      ],
      "execution_count": 110,
      "outputs": [
        {
          "output_type": "execute_result",
          "data": {
            "text/plain": [
              "{'Géza': 4127, 'János': 4098, 'Simon': 4139}"
            ]
          },
          "metadata": {
            "tags": []
          },
          "execution_count": 110
        }
      ]
    },
    {
      "cell_type": "markdown",
      "metadata": {
        "id": "W77TDzrj2Vmf"
      },
      "source": [
        "Természetesen nem csak számokat adhatunk meg a szótárunkba mint hozzárendelt értéket:"
      ]
    },
    {
      "cell_type": "code",
      "metadata": {
        "id": "v6SX5GuC2Vmf",
        "colab": {
          "base_uri": "https://localhost:8080/"
        },
        "outputId": "250b9afe-2783-40ca-efa7-361494909307"
      },
      "source": [
        "tel['Brünhilda']='NEM TUDOM A SZÁMÁT'\n",
        "tel"
      ],
      "execution_count": 111,
      "outputs": [
        {
          "output_type": "execute_result",
          "data": {
            "text/plain": [
              "{'Brünhilda': 'NEM TUDOM A SZÁMÁT', 'Géza': 4127, 'János': 4098, 'Simon': 4139}"
            ]
          },
          "metadata": {
            "tags": []
          },
          "execution_count": 111
        }
      ]
    },
    {
      "cell_type": "markdown",
      "metadata": {
        "id": "to9Q4ELd2Vmf"
      },
      "source": [
        "Így törlünk valakit a telefonkönyvből:"
      ]
    },
    {
      "cell_type": "code",
      "metadata": {
        "id": "ZuISsprx2Vmg",
        "colab": {
          "base_uri": "https://localhost:8080/"
        },
        "outputId": "0d16c21d-b8a1-4bb1-e24c-2dbc25705c67"
      },
      "source": [
        "del tel['Simon']\n",
        "tel"
      ],
      "execution_count": 112,
      "outputs": [
        {
          "output_type": "execute_result",
          "data": {
            "text/plain": [
              "{'Brünhilda': 'NEM TUDOM A SZÁMÁT', 'Géza': 4127, 'János': 4098}"
            ]
          },
          "metadata": {
            "tags": []
          },
          "execution_count": 112
        }
      ]
    },
    {
      "cell_type": "markdown",
      "metadata": {
        "id": "i9ipPyq42Vmg"
      },
      "source": [
        "A dict-ben szereplő kulcsszavakat a \".keys()\" metódus alkalmazásával tudjuk elérni. "
      ]
    },
    {
      "cell_type": "code",
      "metadata": {
        "id": "O9KuqUyT2Vmg",
        "colab": {
          "base_uri": "https://localhost:8080/"
        },
        "outputId": "71e446cb-610d-4b7a-c86e-43d60567d271"
      },
      "source": [
        "tel.keys()"
      ],
      "execution_count": 113,
      "outputs": [
        {
          "output_type": "execute_result",
          "data": {
            "text/plain": [
              "dict_keys(['János', 'Géza', 'Brünhilda'])"
            ]
          },
          "metadata": {
            "tags": []
          },
          "execution_count": 113
        }
      ]
    },
    {
      "cell_type": "markdown",
      "metadata": {
        "id": "_3bD50tR2Vmg"
      },
      "source": [
        "A fenti parancs kimenete látszólag tartalmazza az általunk kért információt. Sokszor azonban célszerű ezt az outputot a `list()` parancs segítségével listává konvertálni:"
      ]
    },
    {
      "cell_type": "code",
      "metadata": {
        "id": "ht-2ACn72Vmh",
        "colab": {
          "base_uri": "https://localhost:8080/"
        },
        "outputId": "8b331280-7b72-47ae-bd59-35a1cb6db954"
      },
      "source": [
        "list(tel.keys())"
      ],
      "execution_count": 114,
      "outputs": [
        {
          "output_type": "execute_result",
          "data": {
            "text/plain": [
              "['János', 'Géza', 'Brünhilda']"
            ]
          },
          "metadata": {
            "tags": []
          },
          "execution_count": 114
        }
      ]
    },
    {
      "cell_type": "markdown",
      "metadata": {
        "id": "Xn92XPfp2Vmh"
      },
      "source": [
        "Vajon Géza benne van a telefonkönyvben? Ezt a listáknál megismert `in` parancsal tudjuk ellenőrizni:"
      ]
    },
    {
      "cell_type": "code",
      "metadata": {
        "id": "cYMaHcwo2Vmh",
        "colab": {
          "base_uri": "https://localhost:8080/"
        },
        "outputId": "16902453-cfe8-4858-90cb-58a047b4846b"
      },
      "source": [
        "'Géza' in tel"
      ],
      "execution_count": 115,
      "outputs": [
        {
          "output_type": "execute_result",
          "data": {
            "text/plain": [
              "True"
            ]
          },
          "metadata": {
            "tags": []
          },
          "execution_count": 115
        }
      ]
    },
    {
      "cell_type": "markdown",
      "metadata": {
        "id": "nS-Ioio92Vmi"
      },
      "source": [
        "*Megjegyzés:* Nyilván attól, mert Brünhilda benne van a telefonkönyvben, nem biztos, hogy tudjuk a telefonszámát:"
      ]
    },
    {
      "cell_type": "code",
      "metadata": {
        "id": "-aRZlY-C2Vmi",
        "colab": {
          "base_uri": "https://localhost:8080/"
        },
        "outputId": "71fb8aed-ab0c-4b12-e78b-8c8185640bae"
      },
      "source": [
        "'Brünhilda' in tel"
      ],
      "execution_count": 116,
      "outputs": [
        {
          "output_type": "execute_result",
          "data": {
            "text/plain": [
              "True"
            ]
          },
          "metadata": {
            "tags": []
          },
          "execution_count": 116
        }
      ]
    },
    {
      "cell_type": "code",
      "metadata": {
        "id": "o-2kihWu2Vmi",
        "colab": {
          "base_uri": "https://localhost:8080/",
          "height": 35
        },
        "outputId": "131f1fe5-944f-4eb2-f24c-a1bb33d5aeb5"
      },
      "source": [
        "tel['Brünhilda']"
      ],
      "execution_count": 117,
      "outputs": [
        {
          "output_type": "execute_result",
          "data": {
            "application/vnd.google.colaboratory.intrinsic+json": {
              "type": "string"
            },
            "text/plain": [
              "'NEM TUDOM A SZÁMÁT'"
            ]
          },
          "metadata": {
            "tags": []
          },
          "execution_count": 117
        }
      ]
    },
    {
      "cell_type": "markdown",
      "metadata": {
        "id": "IXlAzumW2Vmj"
      },
      "source": [
        "Az `in` konstrukció tehát szótárak esetén azt ellenőrzi hogy egy bizonyos elem a szótár kulcsszavai között szerepel."
      ]
    },
    {
      "cell_type": "markdown",
      "metadata": {
        "id": "uBBJRtu02Vmj"
      },
      "source": [
        "A **dict** függvény segítségével az alábbi módon is definiálhatunk szótárakat. Ez a szintaxisa hasznos lehet majd, ha változó argumentumszámú függvényekkel, vagy a `plotly` csomaggal dolgozunk."
      ]
    },
    {
      "cell_type": "code",
      "metadata": {
        "id": "XdCV9OYn2Vmk",
        "colab": {
          "base_uri": "https://localhost:8080/"
        },
        "outputId": "132d6548-034d-4d52-fd57-815a7c8c4138"
      },
      "source": [
        "tel2=dict(Ica=1234,Maca=4321,Dada=5567)\n",
        "tel2"
      ],
      "execution_count": 118,
      "outputs": [
        {
          "output_type": "execute_result",
          "data": {
            "text/plain": [
              "{'Dada': 5567, 'Ica': 1234, 'Maca': 4321}"
            ]
          },
          "metadata": {
            "tags": []
          },
          "execution_count": 118
        }
      ]
    },
    {
      "cell_type": "markdown",
      "metadata": {
        "id": "qgDACw9j2Vmk"
      },
      "source": [
        "---"
      ]
    },
    {
      "cell_type": "markdown",
      "metadata": {
        "id": "sBua1Wln2Vmk"
      },
      "source": [
        "## Bool változók és más változók kapcsolata\n",
        "Ahogy fentebb láttuk, egy objektumot egész számmá (**int()** függvény) vagy lebegőpontos számmá tudunk konvertálni ( **float()** függvény), illetve láttunk példát arra is hogy listává konvertáljunk valamit. Objektumokat Bool-változóvá is tudunk konvertálni. Erre szolgál a **bool()** függvény. Alább néhány példát nézzünk meg, hogy bizonyos dolgok mivé konvertálódnak a **bool()** függvénnyel.\n",
        "\n",
        "Egy szám vagy  egy karakterlánc **True** értéket ad:"
      ]
    },
    {
      "cell_type": "code",
      "metadata": {
        "id": "kyNXE03Z2Vmk",
        "outputId": "ed4adc78-cf3f-44d4-b586-2c3ac33ec6c8"
      },
      "source": [
        "bool(1.0)"
      ],
      "execution_count": null,
      "outputs": [
        {
          "output_type": "execute_result",
          "data": {
            "text/plain": [
              "True"
            ]
          },
          "metadata": {
            "tags": []
          },
          "execution_count": 116
        }
      ]
    },
    {
      "cell_type": "code",
      "metadata": {
        "id": "iRh-ooKg2Vml",
        "outputId": "a5b70979-2650-4dcf-9884-f1813fbdd1dd"
      },
      "source": [
        "bool('szoveg')"
      ],
      "execution_count": null,
      "outputs": [
        {
          "output_type": "execute_result",
          "data": {
            "text/plain": [
              "True"
            ]
          },
          "metadata": {
            "tags": []
          },
          "execution_count": 117
        }
      ]
    },
    {
      "cell_type": "markdown",
      "metadata": {
        "id": "A_80UTqZ2Vmm"
      },
      "source": [
        "Hasonlóan **True** értéked ad, ha egy nem üres listát vagy általában egy más létező objektumot vizsgálunk:"
      ]
    },
    {
      "cell_type": "code",
      "metadata": {
        "id": "YvTTs_Tm2Vmm",
        "outputId": "24c61aff-f811-48eb-e9ef-42b7a197e8f4"
      },
      "source": [
        "bool([1,'Bela'])"
      ],
      "execution_count": null,
      "outputs": [
        {
          "output_type": "execute_result",
          "data": {
            "text/plain": [
              "True"
            ]
          },
          "metadata": {
            "tags": []
          },
          "execution_count": 118
        }
      ]
    },
    {
      "cell_type": "markdown",
      "metadata": {
        "id": "cFqdf_Xj2Vmm"
      },
      "source": [
        "**False** értéket ad a 0, az üres karakterlánc, illetve az üres lista:"
      ]
    },
    {
      "cell_type": "code",
      "metadata": {
        "id": "--g91WP_2Vmn",
        "outputId": "114b2b8a-3b4e-4e19-e80d-9d4cbe2d7aa3"
      },
      "source": [
        "bool(0)"
      ],
      "execution_count": null,
      "outputs": [
        {
          "output_type": "execute_result",
          "data": {
            "text/plain": [
              "False"
            ]
          },
          "metadata": {
            "tags": []
          },
          "execution_count": 119
        }
      ]
    },
    {
      "cell_type": "code",
      "metadata": {
        "id": "5QuwMwbN2Vmn",
        "outputId": "a3de812d-e536-4948-9972-f2f62aa61454"
      },
      "source": [
        "bool(0.0)"
      ],
      "execution_count": null,
      "outputs": [
        {
          "output_type": "execute_result",
          "data": {
            "text/plain": [
              "False"
            ]
          },
          "metadata": {
            "tags": []
          },
          "execution_count": 120
        }
      ]
    },
    {
      "cell_type": "code",
      "metadata": {
        "id": "Yh_Ruvl42Vmo",
        "outputId": "4f4a0867-f011-4465-a7a9-beb338a67823"
      },
      "source": [
        "bool('')"
      ],
      "execution_count": null,
      "outputs": [
        {
          "output_type": "execute_result",
          "data": {
            "text/plain": [
              "False"
            ]
          },
          "metadata": {
            "tags": []
          },
          "execution_count": 121
        }
      ]
    },
    {
      "cell_type": "code",
      "metadata": {
        "id": "hMrmvBuP2Vmo",
        "outputId": "4ae7df36-15b9-4c16-bd2b-b0341db23ea2"
      },
      "source": [
        "bool([])"
      ],
      "execution_count": null,
      "outputs": [
        {
          "output_type": "execute_result",
          "data": {
            "text/plain": [
              "False"
            ]
          },
          "metadata": {
            "tags": []
          },
          "execution_count": 122
        }
      ]
    },
    {
      "cell_type": "markdown",
      "metadata": {
        "id": "t6pfwEmd2Vmo"
      },
      "source": [
        "Egy látszólag rosszul működő példa:"
      ]
    },
    {
      "cell_type": "code",
      "metadata": {
        "id": "VNQdVmPZ2Vmo",
        "outputId": "e352cf8a-dbcc-4013-9367-6cb36fc97a25"
      },
      "source": [
        "'a' == ('a' or 'b') "
      ],
      "execution_count": null,
      "outputs": [
        {
          "output_type": "execute_result",
          "data": {
            "text/plain": [
              "True"
            ]
          },
          "metadata": {
            "tags": []
          },
          "execution_count": 123
        }
      ]
    },
    {
      "cell_type": "code",
      "metadata": {
        "id": "L_acm1g72Vmp",
        "outputId": "7b9222aa-d1e7-4c77-b89e-e70e7d6d57cb"
      },
      "source": [
        "'b' == ('a' or 'b') "
      ],
      "execution_count": null,
      "outputs": [
        {
          "output_type": "execute_result",
          "data": {
            "text/plain": [
              "False"
            ]
          },
          "metadata": {
            "tags": []
          },
          "execution_count": 124
        }
      ]
    },
    {
      "cell_type": "code",
      "metadata": {
        "id": "vOg17ljF2Vmp",
        "outputId": "c638996d-af04-4b15-ac84-8a17b2e8fd67"
      },
      "source": [
        "'a' == ('a' and 'b') "
      ],
      "execution_count": null,
      "outputs": [
        {
          "output_type": "execute_result",
          "data": {
            "text/plain": [
              "False"
            ]
          },
          "metadata": {
            "tags": []
          },
          "execution_count": 125
        }
      ]
    },
    {
      "cell_type": "code",
      "metadata": {
        "id": "rj1HmVau2Vmp",
        "outputId": "6193c6cb-f7c1-4482-a4f3-5dce70804f89"
      },
      "source": [
        "'b' == ('a' and 'b') "
      ],
      "execution_count": null,
      "outputs": [
        {
          "output_type": "execute_result",
          "data": {
            "text/plain": [
              "True"
            ]
          },
          "metadata": {
            "tags": []
          },
          "execution_count": 126
        }
      ]
    },
    {
      "cell_type": "markdown",
      "metadata": {
        "id": "S2EBR1dQ2Vmq"
      },
      "source": [
        "A második példa vajon miért **False**, ha az első **True** ? A harmadik miért  **False**, ha a látszólag hasonló negyedik **True**?\n",
        "Ezen a ponton úgy tűnhet, hogy az **and** és **or** utasítások nem működnek megfelelően! Ha részletesen kiböngésszük, hogy mit is csinál a Python-értelmező, akkor kiderül, hogy pontosan azt teszi, amire megkértük. DE ez nem pontosan az, amire elsőnek gondolnánk! Az első két példa tehát nem azt ellenőrzi, hogy a **==** előtt álló karakter az szerepel-e a zárójelben. Mi is történik pontosan?\n",
        "Amikor a Python egy **or** kifejezéssel találkozik (a zárójeleken belül), sorba megy az **or** kifejezés által kapcsolatba hozott elemeken, és az első **True**-ként kiértékelhető objektum **értékét** adja vissza, tehát nem **True** vagy **False**-t hanem a változó értékét. Ez azért van így, mert ha egy **or** kifejezés egyik tagja igaz, akkor az egész kifejezés igaz. Az **and** ezzel szemben addig lépdel végig az alkotó kifejezéseken, amíg meggyőződött róla, hogy mindegyik kifejezés igaznak számít, és a legutolsó értéket adja vissza. A bool operációk ezen viselkedését *rövid zár*-nak hívják, és sok programozási nyelvben hasonlóan működik. \n",
        "Tehát ha arról akarunk meggyőződni, hogy egy kifejezés valamely kifejezéscsoport egyikével megegyezik, akkor az alábbiak szerint szükséges eljárni: "
      ]
    },
    {
      "cell_type": "code",
      "metadata": {
        "id": "tgeo34Qz2Vmq",
        "outputId": "18d27562-4aa5-4172-d828-10ef605bfa08"
      },
      "source": [
        "(('a' == 'a') or ('a' == 'b'))"
      ],
      "execution_count": null,
      "outputs": [
        {
          "output_type": "execute_result",
          "data": {
            "text/plain": [
              "True"
            ]
          },
          "metadata": {
            "tags": []
          },
          "execution_count": 127
        }
      ]
    },
    {
      "cell_type": "code",
      "metadata": {
        "id": "P9mAjYhW2Vmq",
        "outputId": "a4e87821-8d6c-420a-854d-7796e50fcbd4"
      },
      "source": [
        "(('b' == 'a') or ('b' == 'b'))"
      ],
      "execution_count": null,
      "outputs": [
        {
          "output_type": "execute_result",
          "data": {
            "text/plain": [
              "True"
            ]
          },
          "metadata": {
            "tags": []
          },
          "execution_count": 128
        }
      ]
    }
  ]
}