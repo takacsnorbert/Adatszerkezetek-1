{
  "nbformat": 4,
  "nbformat_minor": 0,
  "metadata": {
    "hide_input": false,
    "kernelspec": {
      "display_name": "Python 3",
      "language": "python",
      "name": "python3"
    },
    "language_info": {
      "codemirror_mode": {
        "name": "ipython",
        "version": 3
      },
      "file_extension": ".py",
      "mimetype": "text/x-python",
      "name": "python",
      "nbconvert_exporter": "python",
      "pygments_lexer": "ipython3",
      "version": "3.7.1"
    },
    "colab": {
      "name": "lab09.ipynb",
      "provenance": [],
      "collapsed_sections": []
    }
  },
  "cells": [
    {
      "cell_type": "markdown",
      "metadata": {
        "id": "uXnfck1X5fzI"
      },
      "source": [
        "# FP-Growth algoritmus\n",
        "\n",
        "\n",
        "\n",
        "----\n"
      ]
    },
    {
      "cell_type": "markdown",
      "metadata": {
        "id": "pfChBnUs5fzJ"
      },
      "source": [
        "Az Apriori algoritmus lentről felfele építkezve, minden lépésben jelölteket generál. A jelöltek száma igencsak nagy lehet és előállításukhoz minden lépésben az adatbázist át kell olvasni.\n",
        "\n",
        "\n",
        "Az [FP-bővítés](https://gyires.inf.unideb.hu/KMITT/a04/ch06s06.html) (angol elnevezése [FP-Growth](https://www.softwaretestinghelp.com/fp-growth-algorithm-data-mining/)-) szintén egy gyakori elemhalmazok kinyerésére szolgáló algoritmus, amely hatékonyabb eredményt képes elérni, mivel nem a generál és tesztel paradigmát követi. Ehelyett az adathalmazt egy kompakt struktúrába sűríti, melynek neve az FP-fa (gyakori mintázatok fája), ezután a gyakori elemhalmazokat közvetlenül ebből a strúktúrából nyerhetőek ki. Az algoritmus csak kétszer kell végigolvassa az adatlhalmazt, elöszőr az elemek támogatottsági szintjének megállapítására, másodszor pedig az FP-fa felépítésére.  "
      ]
    },
    {
      "cell_type": "markdown",
      "metadata": {
        "id": "uQTugELQ5fzL"
      },
      "source": [
        "Az algoritmus egyik Python [implementációja](https://github.com/evandempsey/fp-growth) a [pygrowth](https://pypi.org/project/pygrowth/) csomagban érhető el. \n",
        "\n"
      ]
    },
    {
      "cell_type": "code",
      "metadata": {
        "id": "rWoO-2cQ5oHX",
        "colab": {
          "base_uri": "https://localhost:8080/"
        },
        "outputId": "9b4915fa-c39f-406d-c817-5e0d2b3d4a47"
      },
      "source": [
        "!pip install pyfpgrowth"
      ],
      "execution_count": 1,
      "outputs": [
        {
          "output_type": "stream",
          "text": [
            "Collecting pyfpgrowth\n",
            "\u001b[?25l  Downloading https://files.pythonhosted.org/packages/d2/4c/8b7cd90b4118ff0286d6584909b99e1ca5642bdc9072fa5a8dd361c864a0/pyfpgrowth-1.0.tar.gz (1.6MB)\n",
            "\r\u001b[K     |▏                               | 10kB 18.8MB/s eta 0:00:01\r\u001b[K     |▍                               | 20kB 27.4MB/s eta 0:00:01\r\u001b[K     |▋                               | 30kB 33.9MB/s eta 0:00:01\r\u001b[K     |▉                               | 40kB 30.6MB/s eta 0:00:01\r\u001b[K     |█                               | 51kB 14.5MB/s eta 0:00:01\r\u001b[K     |█▏                              | 61kB 11.8MB/s eta 0:00:01\r\u001b[K     |█▍                              | 71kB 12.7MB/s eta 0:00:01\r\u001b[K     |█▋                              | 81kB 14.0MB/s eta 0:00:01\r\u001b[K     |█▉                              | 92kB 15.3MB/s eta 0:00:01\r\u001b[K     |██                              | 102kB 16.6MB/s eta 0:00:01\r\u001b[K     |██▏                             | 112kB 16.6MB/s eta 0:00:01\r\u001b[K     |██▍                             | 122kB 16.6MB/s eta 0:00:01\r\u001b[K     |██▋                             | 133kB 16.6MB/s eta 0:00:01\r\u001b[K     |██▉                             | 143kB 16.6MB/s eta 0:00:01\r\u001b[K     |███                             | 153kB 16.6MB/s eta 0:00:01\r\u001b[K     |███▏                            | 163kB 16.6MB/s eta 0:00:01\r\u001b[K     |███▍                            | 174kB 16.6MB/s eta 0:00:01\r\u001b[K     |███▋                            | 184kB 16.6MB/s eta 0:00:01\r\u001b[K     |███▉                            | 194kB 16.6MB/s eta 0:00:01\r\u001b[K     |████                            | 204kB 16.6MB/s eta 0:00:01\r\u001b[K     |████▏                           | 215kB 16.6MB/s eta 0:00:01\r\u001b[K     |████▍                           | 225kB 16.6MB/s eta 0:00:01\r\u001b[K     |████▋                           | 235kB 16.6MB/s eta 0:00:01\r\u001b[K     |████▉                           | 245kB 16.6MB/s eta 0:00:01\r\u001b[K     |█████                           | 256kB 16.6MB/s eta 0:00:01\r\u001b[K     |█████▏                          | 266kB 16.6MB/s eta 0:00:01\r\u001b[K     |█████▍                          | 276kB 16.6MB/s eta 0:00:01\r\u001b[K     |█████▋                          | 286kB 16.6MB/s eta 0:00:01\r\u001b[K     |█████▉                          | 296kB 16.6MB/s eta 0:00:01\r\u001b[K     |██████                          | 307kB 16.6MB/s eta 0:00:01\r\u001b[K     |██████▏                         | 317kB 16.6MB/s eta 0:00:01\r\u001b[K     |██████▍                         | 327kB 16.6MB/s eta 0:00:01\r\u001b[K     |██████▋                         | 337kB 16.6MB/s eta 0:00:01\r\u001b[K     |██████▉                         | 348kB 16.6MB/s eta 0:00:01\r\u001b[K     |███████                         | 358kB 16.6MB/s eta 0:00:01\r\u001b[K     |███████▏                        | 368kB 16.6MB/s eta 0:00:01\r\u001b[K     |███████▍                        | 378kB 16.6MB/s eta 0:00:01\r\u001b[K     |███████▋                        | 389kB 16.6MB/s eta 0:00:01\r\u001b[K     |███████▉                        | 399kB 16.6MB/s eta 0:00:01\r\u001b[K     |████████                        | 409kB 16.6MB/s eta 0:00:01\r\u001b[K     |████████▏                       | 419kB 16.6MB/s eta 0:00:01\r\u001b[K     |████████▍                       | 430kB 16.6MB/s eta 0:00:01\r\u001b[K     |████████▋                       | 440kB 16.6MB/s eta 0:00:01\r\u001b[K     |████████▉                       | 450kB 16.6MB/s eta 0:00:01\r\u001b[K     |█████████                       | 460kB 16.6MB/s eta 0:00:01\r\u001b[K     |█████████▏                      | 471kB 16.6MB/s eta 0:00:01\r\u001b[K     |█████████▍                      | 481kB 16.6MB/s eta 0:00:01\r\u001b[K     |█████████▋                      | 491kB 16.6MB/s eta 0:00:01\r\u001b[K     |█████████▉                      | 501kB 16.6MB/s eta 0:00:01\r\u001b[K     |██████████                      | 512kB 16.6MB/s eta 0:00:01\r\u001b[K     |██████████▏                     | 522kB 16.6MB/s eta 0:00:01\r\u001b[K     |██████████▍                     | 532kB 16.6MB/s eta 0:00:01\r\u001b[K     |██████████▋                     | 542kB 16.6MB/s eta 0:00:01\r\u001b[K     |██████████▉                     | 552kB 16.6MB/s eta 0:00:01\r\u001b[K     |███████████                     | 563kB 16.6MB/s eta 0:00:01\r\u001b[K     |███████████▏                    | 573kB 16.6MB/s eta 0:00:01\r\u001b[K     |███████████▍                    | 583kB 16.6MB/s eta 0:00:01\r\u001b[K     |███████████▋                    | 593kB 16.6MB/s eta 0:00:01\r\u001b[K     |███████████▉                    | 604kB 16.6MB/s eta 0:00:01\r\u001b[K     |████████████                    | 614kB 16.6MB/s eta 0:00:01\r\u001b[K     |████████████▏                   | 624kB 16.6MB/s eta 0:00:01\r\u001b[K     |████████████▍                   | 634kB 16.6MB/s eta 0:00:01\r\u001b[K     |████████████▋                   | 645kB 16.6MB/s eta 0:00:01\r\u001b[K     |████████████▊                   | 655kB 16.6MB/s eta 0:00:01\r\u001b[K     |█████████████                   | 665kB 16.6MB/s eta 0:00:01\r\u001b[K     |█████████████▏                  | 675kB 16.6MB/s eta 0:00:01\r\u001b[K     |█████████████▍                  | 686kB 16.6MB/s eta 0:00:01\r\u001b[K     |█████████████▋                  | 696kB 16.6MB/s eta 0:00:01\r\u001b[K     |█████████████▊                  | 706kB 16.6MB/s eta 0:00:01\r\u001b[K     |██████████████                  | 716kB 16.6MB/s eta 0:00:01\r\u001b[K     |██████████████▏                 | 727kB 16.6MB/s eta 0:00:01\r\u001b[K     |██████████████▍                 | 737kB 16.6MB/s eta 0:00:01\r\u001b[K     |██████████████▋                 | 747kB 16.6MB/s eta 0:00:01\r\u001b[K     |██████████████▊                 | 757kB 16.6MB/s eta 0:00:01\r\u001b[K     |███████████████                 | 768kB 16.6MB/s eta 0:00:01\r\u001b[K     |███████████████▏                | 778kB 16.6MB/s eta 0:00:01\r\u001b[K     |███████████████▍                | 788kB 16.6MB/s eta 0:00:01\r\u001b[K     |███████████████▋                | 798kB 16.6MB/s eta 0:00:01\r\u001b[K     |███████████████▊                | 808kB 16.6MB/s eta 0:00:01\r\u001b[K     |████████████████                | 819kB 16.6MB/s eta 0:00:01\r\u001b[K     |████████████████▏               | 829kB 16.6MB/s eta 0:00:01\r\u001b[K     |████████████████▍               | 839kB 16.6MB/s eta 0:00:01\r\u001b[K     |████████████████▋               | 849kB 16.6MB/s eta 0:00:01\r\u001b[K     |████████████████▊               | 860kB 16.6MB/s eta 0:00:01\r\u001b[K     |█████████████████               | 870kB 16.6MB/s eta 0:00:01\r\u001b[K     |█████████████████▏              | 880kB 16.6MB/s eta 0:00:01\r\u001b[K     |█████████████████▍              | 890kB 16.6MB/s eta 0:00:01\r\u001b[K     |█████████████████▋              | 901kB 16.6MB/s eta 0:00:01\r\u001b[K     |█████████████████▊              | 911kB 16.6MB/s eta 0:00:01\r\u001b[K     |██████████████████              | 921kB 16.6MB/s eta 0:00:01\r\u001b[K     |██████████████████▏             | 931kB 16.6MB/s eta 0:00:01\r\u001b[K     |██████████████████▍             | 942kB 16.6MB/s eta 0:00:01\r\u001b[K     |██████████████████▋             | 952kB 16.6MB/s eta 0:00:01\r\u001b[K     |██████████████████▊             | 962kB 16.6MB/s eta 0:00:01\r\u001b[K     |███████████████████             | 972kB 16.6MB/s eta 0:00:01\r\u001b[K     |███████████████████▏            | 983kB 16.6MB/s eta 0:00:01\r\u001b[K     |███████████████████▍            | 993kB 16.6MB/s eta 0:00:01\r\u001b[K     |███████████████████▋            | 1.0MB 16.6MB/s eta 0:00:01\r\u001b[K     |███████████████████▊            | 1.0MB 16.6MB/s eta 0:00:01\r\u001b[K     |████████████████████            | 1.0MB 16.6MB/s eta 0:00:01\r\u001b[K     |████████████████████▏           | 1.0MB 16.6MB/s eta 0:00:01\r\u001b[K     |████████████████████▍           | 1.0MB 16.6MB/s eta 0:00:01\r\u001b[K     |████████████████████▋           | 1.1MB 16.6MB/s eta 0:00:01\r\u001b[K     |████████████████████▊           | 1.1MB 16.6MB/s eta 0:00:01\r\u001b[K     |█████████████████████           | 1.1MB 16.6MB/s eta 0:00:01\r\u001b[K     |█████████████████████▏          | 1.1MB 16.6MB/s eta 0:00:01\r\u001b[K     |█████████████████████▍          | 1.1MB 16.6MB/s eta 0:00:01\r\u001b[K     |█████████████████████▋          | 1.1MB 16.6MB/s eta 0:00:01\r\u001b[K     |█████████████████████▊          | 1.1MB 16.6MB/s eta 0:00:01\r\u001b[K     |██████████████████████          | 1.1MB 16.6MB/s eta 0:00:01\r\u001b[K     |██████████████████████▏         | 1.1MB 16.6MB/s eta 0:00:01\r\u001b[K     |██████████████████████▍         | 1.1MB 16.6MB/s eta 0:00:01\r\u001b[K     |██████████████████████▋         | 1.2MB 16.6MB/s eta 0:00:01\r\u001b[K     |██████████████████████▊         | 1.2MB 16.6MB/s eta 0:00:01\r\u001b[K     |███████████████████████         | 1.2MB 16.6MB/s eta 0:00:01\r\u001b[K     |███████████████████████▏        | 1.2MB 16.6MB/s eta 0:00:01\r\u001b[K     |███████████████████████▍        | 1.2MB 16.6MB/s eta 0:00:01\r\u001b[K     |███████████████████████▋        | 1.2MB 16.6MB/s eta 0:00:01\r\u001b[K     |███████████████████████▊        | 1.2MB 16.6MB/s eta 0:00:01\r\u001b[K     |████████████████████████        | 1.2MB 16.6MB/s eta 0:00:01\r\u001b[K     |████████████████████████▏       | 1.2MB 16.6MB/s eta 0:00:01\r\u001b[K     |████████████████████████▍       | 1.2MB 16.6MB/s eta 0:00:01\r\u001b[K     |████████████████████████▌       | 1.3MB 16.6MB/s eta 0:00:01\r\u001b[K     |████████████████████████▊       | 1.3MB 16.6MB/s eta 0:00:01\r\u001b[K     |█████████████████████████       | 1.3MB 16.6MB/s eta 0:00:01\r\u001b[K     |█████████████████████████▏      | 1.3MB 16.6MB/s eta 0:00:01\r\u001b[K     |█████████████████████████▍      | 1.3MB 16.6MB/s eta 0:00:01\r\u001b[K     |█████████████████████████▌      | 1.3MB 16.6MB/s eta 0:00:01\r\u001b[K     |█████████████████████████▊      | 1.3MB 16.6MB/s eta 0:00:01\r\u001b[K     |██████████████████████████      | 1.3MB 16.6MB/s eta 0:00:01\r\u001b[K     |██████████████████████████▏     | 1.3MB 16.6MB/s eta 0:00:01\r\u001b[K     |██████████████████████████▍     | 1.4MB 16.6MB/s eta 0:00:01\r\u001b[K     |██████████████████████████▌     | 1.4MB 16.6MB/s eta 0:00:01\r\u001b[K     |██████████████████████████▊     | 1.4MB 16.6MB/s eta 0:00:01\r\u001b[K     |███████████████████████████     | 1.4MB 16.6MB/s eta 0:00:01\r\u001b[K     |███████████████████████████▏    | 1.4MB 16.6MB/s eta 0:00:01\r\u001b[K     |███████████████████████████▍    | 1.4MB 16.6MB/s eta 0:00:01\r\u001b[K     |███████████████████████████▌    | 1.4MB 16.6MB/s eta 0:00:01\r\u001b[K     |███████████████████████████▊    | 1.4MB 16.6MB/s eta 0:00:01\r\u001b[K     |████████████████████████████    | 1.4MB 16.6MB/s eta 0:00:01\r\u001b[K     |████████████████████████████▏   | 1.4MB 16.6MB/s eta 0:00:01\r\u001b[K     |████████████████████████████▍   | 1.5MB 16.6MB/s eta 0:00:01\r\u001b[K     |████████████████████████████▌   | 1.5MB 16.6MB/s eta 0:00:01\r\u001b[K     |████████████████████████████▊   | 1.5MB 16.6MB/s eta 0:00:01\r\u001b[K     |█████████████████████████████   | 1.5MB 16.6MB/s eta 0:00:01\r\u001b[K     |█████████████████████████████▏  | 1.5MB 16.6MB/s eta 0:00:01\r\u001b[K     |█████████████████████████████▍  | 1.5MB 16.6MB/s eta 0:00:01\r\u001b[K     |█████████████████████████████▌  | 1.5MB 16.6MB/s eta 0:00:01\r\u001b[K     |█████████████████████████████▊  | 1.5MB 16.6MB/s eta 0:00:01\r\u001b[K     |██████████████████████████████  | 1.5MB 16.6MB/s eta 0:00:01\r\u001b[K     |██████████████████████████████▏ | 1.5MB 16.6MB/s eta 0:00:01\r\u001b[K     |██████████████████████████████▍ | 1.6MB 16.6MB/s eta 0:00:01\r\u001b[K     |██████████████████████████████▌ | 1.6MB 16.6MB/s eta 0:00:01\r\u001b[K     |██████████████████████████████▊ | 1.6MB 16.6MB/s eta 0:00:01\r\u001b[K     |███████████████████████████████ | 1.6MB 16.6MB/s eta 0:00:01\r\u001b[K     |███████████████████████████████▏| 1.6MB 16.6MB/s eta 0:00:01\r\u001b[K     |███████████████████████████████▍| 1.6MB 16.6MB/s eta 0:00:01\r\u001b[K     |███████████████████████████████▌| 1.6MB 16.6MB/s eta 0:00:01\r\u001b[K     |███████████████████████████████▊| 1.6MB 16.6MB/s eta 0:00:01\r\u001b[K     |████████████████████████████████| 1.6MB 16.6MB/s eta 0:00:01\r\u001b[K     |████████████████████████████████| 1.6MB 16.6MB/s \n",
            "\u001b[?25hBuilding wheels for collected packages: pyfpgrowth\n",
            "  Building wheel for pyfpgrowth (setup.py) ... \u001b[?25l\u001b[?25hdone\n",
            "  Created wheel for pyfpgrowth: filename=pyfpgrowth-1.0-py2.py3-none-any.whl size=5504 sha256=fa682286a6f231481d3bcaaa71db8a9cc709035582c74ec0423af03ea30b1e68\n",
            "  Stored in directory: /root/.cache/pip/wheels/3b/3f/0d/a04bb8b17887c1eca7d0f1a48d4aa0c09c96eb221ff7fa56c1\n",
            "Successfully built pyfpgrowth\n",
            "Installing collected packages: pyfpgrowth\n",
            "Successfully installed pyfpgrowth-1.0\n"
          ],
          "name": "stdout"
        }
      ]
    },
    {
      "cell_type": "markdown",
      "metadata": {
        "id": "r2heZeSllmVl"
      },
      "source": [
        "A gyakori minták meghatározására a `find_frequent_patterns` metódust használjuk míg az asszociációs szabályok kinyerésére a `generate_association_rules`-t. Ezekre építve könnyen definiálhatunk egy függvényt mely adott megakapozotság és megbizhatóság szerint megkeresi egy adathalmazból a kinyeri a gyakori mintákat és asszociációs szabályokat."
      ]
    },
    {
      "cell_type": "code",
      "metadata": {
        "id": "tFSBUmthlnQw"
      },
      "source": [
        "import pyfpgrowth as fpg\n",
        "\n",
        "def mine_fp_growth_association_rules(records, minsup, minconf):\n",
        "    freq_patterns = fpg.find_frequent_patterns(records, minsup * len(records))\n",
        "    rules = fpg.generate_association_rules(freq_patterns, minconf)\n",
        "    return (freq_patterns, rules)\n",
        "\n",
        "# example usage: patterns, rules = mine_fp_growth_association_rules(records, 0.01, 0.1)"
      ],
      "execution_count": 2,
      "outputs": []
    },
    {
      "cell_type": "markdown",
      "metadata": {
        "id": "YmiYFeQpp_Ns"
      },
      "source": [
        "# Feladatok\n",
        "\n",
        "1. Olvassa el a következő cikkeket és röviden vázolja fel a fő különbségeket az Apriori és FP-Growth módszerek között, ismertesse az FP-Growth előnyeit és hátrányait:    \n",
        "  - [Az FP-bővítés algoritmus](https://gyires.inf.unideb.hu/KMITT/a04/ch06s06.html)\n",
        "  - [Frequent Pattern (FP) Growth Algorithm In Data Mining](https://www.softwaretestinghelp.com/fp-growth-algorithm-data-mining/)   \n",
        "\n",
        "2. A múlt laborórán megtisztított (`nan`-t nem tartalmazó) adatokra futtassa le az FP-Growth algoritmust, mutassa be a kinyert gyakori mintákat és asszociációs szabályokat.  "
      ]
    },
    {
      "cell_type": "markdown",
      "metadata": {
        "id": "J3katxpcDBAD"
      },
      "source": [
        "**1 Feladat**"
      ]
    },
    {
      "cell_type": "markdown",
      "metadata": {
        "id": "Fu2EXygBDL-p"
      },
      "source": [
        "Előnyök:\n",
        "\n",
        "- Ennek az algoritmusnak csak kétszer kell átkutatnia az adatbázist, összehasonlítva az Apriori-val, amely az egyes iterációknál vizsgálja a tranzakciókat.\n",
        "\n",
        "- Az elemek párosítása ebben az algoritmusban nem történik meg, és ez gyorsabbá teszi.\n",
        "\n",
        "- Az adatbázist kompakt változatban tárolják a memóriában.\n",
        "Hatékony és méretezhető hosszú és rövid gyakori minták bányászatára.\n",
        "\n",
        "Hátrányok:\n",
        "\n",
        "- Az FP Tree nehézkesebb és nehezebben építhető, mint az Apriori.\n",
        "\n",
        "- Lehet, hogy drága.\n",
        "\n",
        "- Ha az adatbázis nagy, akkor előfordulhat, hogy az algoritmus nem fér el a megosztott memóriában."
      ]
    }
  ]
}