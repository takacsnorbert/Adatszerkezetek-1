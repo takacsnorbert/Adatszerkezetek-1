{
  "nbformat": 4,
  "nbformat_minor": 0,
  "metadata": {
    "anaconda-cloud": {},
    "hide_input": false,
    "kernelspec": {
      "display_name": "Python 3",
      "language": "python",
      "name": "python3"
    },
    "language_info": {
      "codemirror_mode": {
        "name": "ipython",
        "version": 3
      },
      "file_extension": ".py",
      "mimetype": "text/x-python",
      "name": "python",
      "nbconvert_exporter": "python",
      "pygments_lexer": "ipython3",
      "version": "3.5.2"
    },
    "latex_envs": {
      "bibliofile": "biblio.bib",
      "cite_by": "apalike",
      "current_citInitial": 1,
      "eqLabelWithNumbers": true,
      "eqNumInitial": 0
    },
    "name": "python-bevezeto.ipynb",
    "toc": {
      "toc_cell": false,
      "toc_number_sections": true,
      "toc_threshold": 6,
      "toc_window_display": false
    },
    "colab": {
      "name": "02_vezerles.ipynb",
      "provenance": []
    }
  },
  "cells": [
    {
      "cell_type": "markdown",
      "metadata": {
        "id": "p9exj6x_n3Au"
      },
      "source": [
        "# Alapvető vezérlőutasítások\n",
        "\n",
        "Bonyolultabb programok sok egymás után következő utasítás végrehajtásából állnak. Azt, hogy melyik utasítás mikor kerül végrehajtásra, a vezérlőutasítások határozzák meg. Minden programnyelvben mindenképpen megtalálható két alapvető vezérlő utasítás, a feltételválasztó és a ciklusszervező."
      ]
    },
    {
      "cell_type": "markdown",
      "metadata": {
        "id": "18x9kUDsn3Ay"
      },
      "source": [
        "## Az `if` utasítás\n",
        "Az **`if`** utasítás tölti be a legtöbb nyelvben a feltételválasztó utasítás szerepét. Segítségével határozhatjuk meg, hogy bizonyos körülmények teljesülésekor a program a megfelelő utasításokat hajtsa végre. \n",
        "Lássunk erre egy példát:"
      ]
    },
    {
      "cell_type": "code",
      "metadata": {
        "colab": {
          "base_uri": "https://localhost:8080/"
        },
        "id": "p-hKIl9sn3Az",
        "outputId": "6c74d124-e842-4120-a069-d826f3bdd815"
      },
      "source": [
        "if 2+2==4:\n",
        "    print('A matematika még mindig működik')\n"
      ],
      "execution_count": 1,
      "outputs": [
        {
          "output_type": "stream",
          "text": [
            "A matematika még mindig működik\n"
          ],
          "name": "stdout"
        }
      ]
    },
    {
      "cell_type": "markdown",
      "metadata": {
        "id": "FDvEi542n3A1"
      },
      "source": [
        "<p style=\"color:darkred;\"> <b>Figyelem, a második sort beljebb húztuk!</b> A behúzás a Python jelölése az utasítások csoportosítására! </p> A behúzás mértékére általánosan bevett szokás, hogy a szintaktikailag alacsonyabb szintű programrészek négy szóközzel beljebb vannak tolva. Ha tehát két **`if`** utasítást ágyazunk egymásba, akkor a második által teljesítendő utasítások 8 szóközzel lesznek beljebb húzva. Ez a behúzás a `jupyter` notebook kódcelláiban automatikusan is megtörténik. A `:` utáni ENTER leütése után a következő sor 4 szóközzel kerül beljebb, további ENTER leütése hatására a hierarchia azonos szintjén kezdjük az új sort. Ha feljebb szeretnénk lépni, akkor a behúzást ki kell törölni. A C, C++, Java nyelvekben kapcsos zárójeleket {} használnak az egybefüggő kódrészletek elkülönítésére, kb. így: \n",
        "```C\n",
        "if (i==10) {\n",
        "print i\n",
        "}\n",
        "```\n",
        "A FORTRAN nyelvben az *END* szócska kiírása jelzi a kódrészlet végét. A pythonban a kettőspont (\":\"), majd szóközökkel beljebb írt sorok szolgálnak erre. Ha más programokból másolunk át részleteket, figyeljünk arra, hogy a behúzás helyett nem TAB-ot használ-e. (A TAB néhol megengedett, de kerülendő. A modern [python kódolási stílusirányzat](http://django.arek.uni-obuda.hu/python3-doc/html/tutorial/controlflow.html#intermezzo-kodolasi-stilus) minden behúzást, ahogy azt fent is említettük, 4 szóköznek javasol.)"
      ]
    },
    {
      "cell_type": "code",
      "metadata": {
        "id": "DoOif8r5n3A2",
        "outputId": "2a8356b8-159b-43d1-e736-492161abb663"
      },
      "source": [
        "today='Monday';\n",
        "time='12:00';\n",
        "if today=='Monday':\n",
        "    if time=='12:00':\n",
        "        print('Nyomassuk a pythont!')"
      ],
      "execution_count": null,
      "outputs": [
        {
          "output_type": "stream",
          "text": [
            "Nyomassuk a pythont!\n"
          ],
          "name": "stdout"
        }
      ]
    },
    {
      "cell_type": "markdown",
      "metadata": {
        "id": "KX0CK8KJn3A2"
      },
      "source": [
        "Bonyolultabb kritériumszerkezetet az **`else`** és **`elif`** parancsok segítségével konstruálhatunk:"
      ]
    },
    {
      "cell_type": "code",
      "metadata": {
        "id": "LriUQsATn3A3",
        "outputId": "a51438c7-6248-424f-e9c8-2bebb9b98719"
      },
      "source": [
        "x = 1\n",
        "if x < 0:\n",
        "    x = 0\n",
        "    print('Negatív, lecseréltem nullára')\n",
        "elif x == 0:\n",
        "    print('Nulla')\n",
        "elif x == 1:\n",
        "    print('Egy')\n",
        "else:\n",
        "    print('Egynél több.')"
      ],
      "execution_count": null,
      "outputs": [
        {
          "output_type": "stream",
          "text": [
            "Egy\n"
          ],
          "name": "stdout"
        }
      ]
    },
    {
      "cell_type": "markdown",
      "metadata": {
        "id": "a4tk5zHzn3A4"
      },
      "source": [
        "Hiányozhat, de lehet egy vagy akár egynél több **`elif`** rész, az **`else`** rész szintén elmaradhat. Az **`elif`** kulcsszó – amely az ‘else if’ rövidítése – hasznos a felesleges behúzások elkerülésre. Egy **`if`** ...**`elif`** ... **`elif`** ... sor helyettesíti a más nyelvekben található `switch` és `case` utasításokat."
      ]
    },
    {
      "cell_type": "markdown",
      "metadata": {
        "id": "a_odS_lan3A4"
      },
      "source": [
        "## A **`for`** és `while` utasítások\n",
        "A számítógépek legfontosabb tulajdonságai közt szerepel az, hogy nagyon gyorsak és \"fáradhatatlanok\". Olyan feladatok megoldásában a leghatékonyabbak, amikor a feladatot kevés munkával meg lehet fogalmazni (\"az alkotó pihen\") de végrehajtása nagyon sok ismétlést, iterációt igényel (\"a gép forog\"). Az iteráció (angol: iterate) azt jelenti, hogy például egy lista elemein egyesével végigmegy a program, és műveleteket végez el rajtuk. A Python-ban az egyik erre használható utasítás a **`for`** utasítás (magyarul kb. a ...-ra, azaz pl. a hét minden napjára, a lista minden elemére):"
      ]
    },
    {
      "cell_type": "code",
      "metadata": {
        "collapsed": true,
        "id": "BPgpqLpyn3A4"
      },
      "source": [
        "days_of_the_week = [\"Sunday\",\"Monday\",\"Tuesday\",\"Wednesday\",\"Thursday\",\"Friday\",\"Saturday\"]"
      ],
      "execution_count": 2,
      "outputs": []
    },
    {
      "cell_type": "code",
      "metadata": {
        "colab": {
          "base_uri": "https://localhost:8080/"
        },
        "id": "elHej0znn3A5",
        "outputId": "d26bb9e1-a01a-487b-8403-19caa8401a6a"
      },
      "source": [
        "for day in days_of_the_week:\n",
        "    print(day)"
      ],
      "execution_count": 3,
      "outputs": [
        {
          "output_type": "stream",
          "text": [
            "Sunday\n",
            "Monday\n",
            "Tuesday\n",
            "Wednesday\n",
            "Thursday\n",
            "Friday\n",
            "Saturday\n"
          ],
          "name": "stdout"
        }
      ]
    },
    {
      "cell_type": "markdown",
      "metadata": {
        "id": "rKFnbc4sn3A5"
      },
      "source": [
        "Ez a kódrészlet a `days_of_the_week` listán megy végig, és a meglátogatott elemet hozzárendeli a `day` változóhoz, amit *ciklusváltozónak* is neveznek. Ezek után mindent végrehajt, amit a beljebb tabulált (angolul: *indented*) parancsblokkban írtunk (most csak egy `print` utasítás), amihez felhasználhatja a ciklusváltozót is. Miután vége a beljebb tabulált régiónak, kilép a ciklusból.\n",
        "Annak semmi jelentősége nincs, hogy a példában a **day** nevet adtuk az iterációban szereplő *ciklusváltozó*nak. A program semmit se tud az emberi időszámításról, például, hogy a hétben napok vannak és nem kiscicák:"
      ]
    },
    {
      "cell_type": "code",
      "metadata": {
        "colab": {
          "base_uri": "https://localhost:8080/"
        },
        "id": "E6hmgVANn3A6",
        "outputId": "a67ee31e-bf55-4f59-bcb0-60b7750aaf2c"
      },
      "source": [
        "for macska in days_of_the_week:\n",
        "    print(macska)"
      ],
      "execution_count": 4,
      "outputs": [
        {
          "output_type": "stream",
          "text": [
            "Sunday\n",
            "Monday\n",
            "Tuesday\n",
            "Wednesday\n",
            "Thursday\n",
            "Friday\n",
            "Saturday\n"
          ],
          "name": "stdout"
        }
      ]
    },
    {
      "cell_type": "markdown",
      "metadata": {
        "id": "kjHbuPrKn3A6"
      },
      "source": [
        "A ciklus utasításblokkja állhat több utasításból is:"
      ]
    },
    {
      "cell_type": "code",
      "metadata": {
        "id": "DsowjU0Nn3A7",
        "outputId": "bb96c3bd-87c6-4b76-9e8e-6cbd4b3bb0ac"
      },
      "source": [
        "for day in days_of_the_week:\n",
        "    statement = \"Today is \" + day\n",
        "    print(statement)"
      ],
      "execution_count": null,
      "outputs": [
        {
          "output_type": "stream",
          "text": [
            "Today is Sunday\n",
            "Today is Monday\n",
            "Today is Tuesday\n",
            "Today is Wednesday\n",
            "Today is Thursday\n",
            "Today is Friday\n",
            "Today is Saturday\n"
          ],
          "name": "stdout"
        }
      ]
    },
    {
      "cell_type": "markdown",
      "metadata": {
        "id": "NZLa-kUmn3A7"
      },
      "source": [
        "A **`range()`** parancs remekül használható, ha a **`for`** ciklusban adott számú műveletet szeretnénk elvégezni:"
      ]
    },
    {
      "cell_type": "code",
      "metadata": {
        "id": "mqFt7o1Qn3A8",
        "outputId": "e3298e06-347c-4d1e-c2f0-7866cfc613f5"
      },
      "source": [
        "for i in range(20):\n",
        "    print(i,\" szer \",i ,\"az pontosan \",i*i)"
      ],
      "execution_count": null,
      "outputs": [
        {
          "output_type": "stream",
          "text": [
            "0  szer  0 az pontosan  0\n",
            "1  szer  1 az pontosan  1\n",
            "2  szer  2 az pontosan  4\n",
            "3  szer  3 az pontosan  9\n",
            "4  szer  4 az pontosan  16\n",
            "5  szer  5 az pontosan  25\n",
            "6  szer  6 az pontosan  36\n",
            "7  szer  7 az pontosan  49\n",
            "8  szer  8 az pontosan  64\n",
            "9  szer  9 az pontosan  81\n",
            "10  szer  10 az pontosan  100\n",
            "11  szer  11 az pontosan  121\n",
            "12  szer  12 az pontosan  144\n",
            "13  szer  13 az pontosan  169\n",
            "14  szer  14 az pontosan  196\n",
            "15  szer  15 az pontosan  225\n",
            "16  szer  16 az pontosan  256\n",
            "17  szer  17 az pontosan  289\n",
            "18  szer  18 az pontosan  324\n",
            "19  szer  19 az pontosan  361\n"
          ],
          "name": "stdout"
        }
      ]
    },
    {
      "cell_type": "markdown",
      "metadata": {
        "id": "FB0Qht44n3A8"
      },
      "source": [
        "Akkor válik mindez még érdekesebbé, ha az eddig tanult iterációt és feltételvizsgálatot kombináljuk:"
      ]
    },
    {
      "cell_type": "code",
      "metadata": {
        "id": "zz1rNlgqn3A8",
        "outputId": "647b45c5-d07b-4f7a-c422-1ae38f54392f"
      },
      "source": [
        "for day in days_of_the_week:\n",
        "    statement = \"Today is \" + day\n",
        "    print(statement)\n",
        "    if day == \"Sunday\":\n",
        "        print (\"   Sleep in\")\n",
        "    elif day == \"Saturday\":\n",
        "        print (\"   Do chores\")\n",
        "    else:\n",
        "        print (\"   Go to work\")"
      ],
      "execution_count": null,
      "outputs": [
        {
          "output_type": "stream",
          "text": [
            "Today is Sunday\n",
            "   Sleep in\n",
            "Today is Monday\n",
            "   Go to work\n",
            "Today is Tuesday\n",
            "   Go to work\n",
            "Today is Wednesday\n",
            "   Go to work\n",
            "Today is Thursday\n",
            "   Go to work\n",
            "Today is Friday\n",
            "   Go to work\n",
            "Today is Saturday\n",
            "   Do chores\n"
          ],
          "name": "stdout"
        }
      ]
    },
    {
      "cell_type": "markdown",
      "metadata": {
        "id": "nnl_S0pOn3A9"
      },
      "source": [
        "Figyeljük meg, a fenti példában hogy ágyazódik egymás alá a **`for`** és az **`if`**! "
      ]
    },
    {
      "cell_type": "markdown",
      "metadata": {
        "id": "E1QrChuxn3A9"
      },
      "source": [
        "A for utasításhoz hasonlóan a `while` utasítást is használhatjuk ciklusok szervezésére. A `while` utasítás (magyarul kb. csinálj valamit addig ameddig ... ) alkalmazására vizsgáljuk meg az alábbi példát: "
      ]
    },
    {
      "cell_type": "code",
      "metadata": {
        "id": "j6pz-qKGn3A9",
        "outputId": "554aba0c-dc73-4051-b21b-79645f191b4f"
      },
      "source": [
        "i=0\n",
        "while i<10:\n",
        "    print(i)\n",
        "    i+=1"
      ],
      "execution_count": null,
      "outputs": [
        {
          "output_type": "stream",
          "text": [
            "0\n",
            "1\n",
            "2\n",
            "3\n",
            "4\n",
            "5\n",
            "6\n",
            "7\n",
            "8\n",
            "9\n"
          ],
          "name": "stdout"
        }
      ]
    },
    {
      "cell_type": "markdown",
      "metadata": {
        "id": "sH3Gm23Yn3A-"
      },
      "source": [
        "*Figyelem*:  a `while` — ha nem figyelünk oda — potenciálisan végtelen ciklust eredményez. Például az alábbi ciklus, amennyiben nem szakítjuk meg a kernel futását a Kernel menü Interrupt menüpontjával (vagy az `I` billentyű kétszeri megnyomásával szerkesztés módon kívül), sosem áll meg:\n",
        "```python\n",
        "while 1==1:\n",
        "    print('Allitsák meg a világot, ki akarok szállni!!')\n",
        "```"
      ]
    },
    {
      "cell_type": "markdown",
      "metadata": {
        "id": "1HYbLlIbn3A-"
      },
      "source": [
        "A `while` ciklust az `else` utasítással kiegészítve megadhatunk egy olyan kódrészletet, ami akkor hajtódik végre, ha a `while` utasítás feltétele már nem teljesül:"
      ]
    },
    {
      "cell_type": "code",
      "metadata": {
        "id": "IHHMueLAn3A_",
        "outputId": "aa3931dd-e7db-4451-dc4b-90cd58ee20e0"
      },
      "source": [
        "i=0\n",
        "while i<10:\n",
        "    print(i)\n",
        "    i+=1\n",
        "else:\n",
        "    print('Itt a vége, fuss el véle!')"
      ],
      "execution_count": null,
      "outputs": [
        {
          "output_type": "stream",
          "text": [
            "0\n",
            "1\n",
            "2\n",
            "3\n",
            "4\n",
            "5\n",
            "6\n",
            "7\n",
            "8\n",
            "9\n",
            "Itt a vége, fuss el véle!\n"
          ],
          "name": "stdout"
        }
      ]
    },
    {
      "cell_type": "markdown",
      "metadata": {
        "id": "2aONXPGPn3A_"
      },
      "source": [
        "A `break` utasítás — más nyelvekhez hasonlóan — a `break`-et tartalmazó legmélyebb `for` vagy `while` ciklusból ugrik ki. "
      ]
    },
    {
      "cell_type": "code",
      "metadata": {
        "id": "jA8nb2Ybn3BA",
        "outputId": "72709115-712d-47c1-e658-2d7cd7df265c"
      },
      "source": [
        "for n in range(2, 10):\n",
        "    for x in range(2, n):\n",
        "        if n % x == 0:\n",
        "            print(n, 'felbontható:', x, '*', n/x)\n",
        "            break\n",
        "        else:\n",
        "            print(n, 'prímszám.')"
      ],
      "execution_count": null,
      "outputs": [
        {
          "output_type": "stream",
          "text": [
            "3 prímszám.\n",
            "4 felbontható: 2 * 2.0\n",
            "5 prímszám.\n",
            "5 prímszám.\n",
            "5 prímszám.\n",
            "6 felbontható: 2 * 3.0\n",
            "7 prímszám.\n",
            "7 prímszám.\n",
            "7 prímszám.\n",
            "7 prímszám.\n",
            "7 prímszám.\n",
            "8 felbontható: 2 * 4.0\n",
            "9 prímszám.\n",
            "9 felbontható: 3 * 3.0\n"
          ],
          "name": "stdout"
        }
      ]
    },
    {
      "cell_type": "markdown",
      "metadata": {
        "id": "KU0SxLPGn3BB"
      },
      "source": [
        "A `break` utasításról (és néhány további vezérlő utasításról) az alábbi [magyar](http://pythontutorial.pergamen.hu/downloads/html/tut/node7.html#SECTION007400000000000000000) illetve [angol](https://docs.python.org/3.6/tutorial/controlflow.html#break-and-continue-statements-and-else-clauses-on-loops) Python-dokumentációban lehet többet megtudni."
      ]
    },
    {
      "cell_type": "markdown",
      "metadata": {
        "id": "QY4MB0-9n3BB"
      },
      "source": [
        "## Egy példaprogram: Fibbonacci-sorozat\n",
        "A [Fibonacci](http://en.wikipedia.org/wiki/Fibonacci_number)-sorozat első két eleme 0 és 1, majd a következő elemet mindig az előző kettő összegéből számoljuk ki: 0,1,1,2,3,5,8,13,21,34,55,89,...\n",
        "\n",
        "Ha nagyobb $n$ értékekre is ki akarjuk számolni a sorozatot, ez kiváló feladat lehet egy fáradhatatlan és gyors számítógépnek!"
      ]
    },
    {
      "cell_type": "code",
      "metadata": {
        "id": "-5h6pDwtn3BC",
        "outputId": "f67d74e8-b9d5-4465-d5fa-de8a378187e1"
      },
      "source": [
        "n = 10 # ennyi elemet szeretnénk meghatározni\n",
        "sequence = [0,1] # az első két elem\n",
        "for i in range(2,n): # számok 2-től n-ig, Figyelni kell, hogy n ne legyen kisebb mint 2!!\n",
        "    sequence.append(sequence[i-1]+sequence[i-2])\n",
        "print (sequence)"
      ],
      "execution_count": null,
      "outputs": [
        {
          "output_type": "stream",
          "text": [
            "[0, 1, 1, 2, 3, 5, 8, 13, 21, 34]\n"
          ],
          "name": "stdout"
        }
      ]
    },
    {
      "cell_type": "markdown",
      "metadata": {
        "id": "CMgczwwnn3BC"
      },
      "source": [
        "Nézzük végig lépésről lépésre! Először $n$ értékét, azaz a kiszámolandó sorozat hosszát állítjuk be 10-re. A sorozatot majdan tároló listát **`sequence`**-nek neveztük el, és *inicializáltuk* az első két értékkel. A \"kézi munka\" után következhet a gép automatikus munkája, az iteráció.\n",
        "\n",
        "Az iterációt 2-vel kezdjük (ez ugye a 0-s indexelés miatt a 3. elem lesz, hisz az első kettőt már mi megadtuk) és $n$-ig, a megadott listaméretig számolunk. \n",
        "\n",
        "A ciklus törzsében az addig kiszámolt lista végére hozzátűzzük (**`append`** parancsról kicsit bővebben [itt](http://django.arek.uni-obuda.hu/python3-doc/html/tutorial/datastructures.html#a-listakrol-bovebben)) az előző két tag összegét. A ciklus vége után kiíratjuk az eredményt.\n",
        "\n",
        "Nézzük meg, hogyan lehet ugyanezt a problémát egy `while` szerkezettel is megoldani:"
      ]
    },
    {
      "cell_type": "code",
      "metadata": {
        "id": "7f0WgQ98n3BD",
        "outputId": "19ccf578-fd5b-48fb-fdbb-c9a5089a8871"
      },
      "source": [
        "sequence=[0,1]\n",
        "while len(sequence)<10:\n",
        "    sequence.append(sequence[-1]+sequence[-2])\n",
        "print (sequence)"
      ],
      "execution_count": null,
      "outputs": [
        {
          "output_type": "stream",
          "text": [
            "[0, 1, 1, 2, 3, 5, 8, 13, 21, 34]\n"
          ],
          "name": "stdout"
        }
      ]
    },
    {
      "cell_type": "markdown",
      "metadata": {
        "id": "e2-nUKLJn3BD"
      },
      "source": [
        "# Függvények\n",
        "\n",
        "Számos programozási nyelvben szokás a felhasználó által megalkotott bonyolultabb utasításokat függvényekbe szervezni. Jól megírt függvények használata általában rövidebbé és jobban átláthatóvá teszi a programokat.\n",
        "\n",
        "## Függvények deklarálása\n",
        "Ha más hosszúságú sorozatot szeretnénk, átmásolhatjuk a fenti kódot egy új cellába, és átírhatjuk az **`n=10`**-et pl. **`n=100`**-ra. Van azonban egy hatékonyabb módszer, új *függvény*-ként definiálhatjuk a **def** utasítás segítségével:"
      ]
    },
    {
      "cell_type": "code",
      "metadata": {
        "id": "BwypSjG7n3BD"
      },
      "source": [
        "def fibonacci(sequence_length):\n",
        "    \"A Fibonacci sorozat elso *sequence_length* darab eleme\" # ez csak a 'help'-hez kell\n",
        "    sequence = [0,1]\n",
        "    if 0 < sequence_length < 3:\n",
        "        return sequence[:sequence_length]\n",
        "    for i in range(2,sequence_length): \n",
        "        sequence.append(sequence[i-1]+sequence[i-2])\n",
        "    return sequence"
      ],
      "execution_count": 7,
      "outputs": []
    },
    {
      "cell_type": "markdown",
      "metadata": {
        "id": "e3jhiRDAn3BE"
      },
      "source": [
        "Most már *meghívhatjuk* a **`fibonacci()`** függvényt különböző hosszakra:"
      ]
    },
    {
      "cell_type": "code",
      "metadata": {
        "colab": {
          "base_uri": "https://localhost:8080/"
        },
        "id": "CVpQtgLsn3BE",
        "outputId": "295d03c6-c4d7-4423-dc97-3cae88695be9"
      },
      "source": [
        "fibonacci(100)"
      ],
      "execution_count": 16,
      "outputs": [
        {
          "output_type": "execute_result",
          "data": {
            "text/plain": [
              "[0,\n",
              " 1,\n",
              " 1,\n",
              " 2,\n",
              " 3,\n",
              " 5,\n",
              " 8,\n",
              " 13,\n",
              " 21,\n",
              " 34,\n",
              " 55,\n",
              " 89,\n",
              " 144,\n",
              " 233,\n",
              " 377,\n",
              " 610,\n",
              " 987,\n",
              " 1597,\n",
              " 2584,\n",
              " 4181,\n",
              " 6765,\n",
              " 10946,\n",
              " 17711,\n",
              " 28657,\n",
              " 46368,\n",
              " 75025,\n",
              " 121393,\n",
              " 196418,\n",
              " 317811,\n",
              " 514229,\n",
              " 832040,\n",
              " 1346269,\n",
              " 2178309,\n",
              " 3524578,\n",
              " 5702887,\n",
              " 9227465,\n",
              " 14930352,\n",
              " 24157817,\n",
              " 39088169,\n",
              " 63245986,\n",
              " 102334155,\n",
              " 165580141,\n",
              " 267914296,\n",
              " 433494437,\n",
              " 701408733,\n",
              " 1134903170,\n",
              " 1836311903,\n",
              " 2971215073,\n",
              " 4807526976,\n",
              " 7778742049,\n",
              " 12586269025,\n",
              " 20365011074,\n",
              " 32951280099,\n",
              " 53316291173,\n",
              " 86267571272,\n",
              " 139583862445,\n",
              " 225851433717,\n",
              " 365435296162,\n",
              " 591286729879,\n",
              " 956722026041,\n",
              " 1548008755920,\n",
              " 2504730781961,\n",
              " 4052739537881,\n",
              " 6557470319842,\n",
              " 10610209857723,\n",
              " 17167680177565,\n",
              " 27777890035288,\n",
              " 44945570212853,\n",
              " 72723460248141,\n",
              " 117669030460994,\n",
              " 190392490709135,\n",
              " 308061521170129,\n",
              " 498454011879264,\n",
              " 806515533049393,\n",
              " 1304969544928657,\n",
              " 2111485077978050,\n",
              " 3416454622906707,\n",
              " 5527939700884757,\n",
              " 8944394323791464,\n",
              " 14472334024676221,\n",
              " 23416728348467685,\n",
              " 37889062373143906,\n",
              " 61305790721611591,\n",
              " 99194853094755497,\n",
              " 160500643816367088,\n",
              " 259695496911122585,\n",
              " 420196140727489673,\n",
              " 679891637638612258,\n",
              " 1100087778366101931,\n",
              " 1779979416004714189,\n",
              " 2880067194370816120,\n",
              " 4660046610375530309,\n",
              " 7540113804746346429,\n",
              " 12200160415121876738,\n",
              " 19740274219868223167,\n",
              " 31940434634990099905,\n",
              " 51680708854858323072,\n",
              " 83621143489848422977,\n",
              " 135301852344706746049,\n",
              " 218922995834555169026]"
            ]
          },
          "metadata": {
            "tags": []
          },
          "execution_count": 16
        }
      ]
    },
    {
      "cell_type": "markdown",
      "metadata": {
        "id": "Gn_sSC1Qn3BF"
      },
      "source": [
        "Elemezzük a fenti kódot! A már megszokott módon a kettőspont és behúzás határozza meg a függvénydefinícióhoz tartozó kódblokkot. \n",
        "A 2. sorban idézőjelek közt szerepel a [\"**docstring**\"](http://django.arek.uni-obuda.hu/python3-doc/html/tutorial/controlflow.html#a-dokumentacios-karakterlancok), ami a függvény működését magyarázza el röviden, és később a **help** paranccsal hívható elő:"
      ]
    },
    {
      "cell_type": "code",
      "metadata": {
        "colab": {
          "base_uri": "https://localhost:8080/"
        },
        "id": "IOXa4T3qn3BF",
        "outputId": "9ea3e1f6-faa2-46e8-e57c-cdb22b95be97"
      },
      "source": [
        "help(fibonacci)"
      ],
      "execution_count": 17,
      "outputs": [
        {
          "output_type": "stream",
          "text": [
            "Help on function fibonacci in module __main__:\n",
            "\n",
            "fibonacci(sequence_length)\n",
            "    A Fibonacci sorozat elso *sequence_length* darab eleme\n",
            "\n"
          ],
          "name": "stdout"
        }
      ]
    },
    {
      "cell_type": "markdown",
      "metadata": {
        "id": "4qZveEtun3BG"
      },
      "source": [
        "A notebookos környezetben a docstring a ? segítségével is elérhető:"
      ]
    },
    {
      "cell_type": "code",
      "metadata": {
        "collapsed": true,
        "id": "GMoSNvGjn3BH"
      },
      "source": [
        "?fibonacci"
      ],
      "execution_count": 19,
      "outputs": []
    },
    {
      "cell_type": "markdown",
      "metadata": {
        "id": "4bNtXjQzn3BH"
      },
      "source": [
        "A `docstring`-et `jupyter` környezetben úgy is megtekinthetjük, ha egyes függvények hasában, azaz a zárójelek között SHIFT+TAB-ot nyomunk. Próbáld ki ezt az alábbi cellán (anélkül hogy lefuttatnád azt)! (A SHIFT-et nyomva tartva a TAB többszöri megnyomásával a docstringet akár kiteheted a böngészőablakod alsó felére is.)"
      ]
    },
    {
      "cell_type": "code",
      "metadata": {
        "colab": {
          "base_uri": "https://localhost:8080/"
        },
        "id": "vi36me9Hn3BH",
        "outputId": "104a7ef8-db74-4741-82ee-3247e96b0b50"
      },
      "source": [
        "fibonacci(5)"
      ],
      "execution_count": 20,
      "outputs": [
        {
          "output_type": "execute_result",
          "data": {
            "text/plain": [
              "[0, 1, 1, 2, 3]"
            ]
          },
          "metadata": {
            "tags": []
          },
          "execution_count": 20
        }
      ]
    },
    {
      "cell_type": "markdown",
      "metadata": {
        "id": "136HoqMmn3BI"
      },
      "source": [
        "A függvény kimenetelét a **`return`** kulcsszó határozza meg. Ha a fügvény definiálása során nem használtunk **`return`** utasítást, akkor a függvény **None** (semmi) értéket ad vissza. Ha egy függvény lefutott, és nem hajtott végre **`return`** utasítást, akkor is **None** értékkel tér vissza. A **fibonacci** függvény például egy listát ad vissza:"
      ]
    },
    {
      "cell_type": "code",
      "metadata": {
        "id": "6Ag720ZEn3BI",
        "outputId": "90cd62f2-df6f-4c56-a953-fd877901b340"
      },
      "source": [
        "x=fibonacci(10)\n",
        "x"
      ],
      "execution_count": null,
      "outputs": [
        {
          "output_type": "execute_result",
          "data": {
            "text/plain": [
              "[0, 1, 1, 2, 3, 5, 8, 13, 21, 34]"
            ]
          },
          "metadata": {
            "tags": []
          },
          "execution_count": 20
        }
      ]
    },
    {
      "cell_type": "markdown",
      "metadata": {
        "id": "0V3hjTBCn3BI"
      },
      "source": [
        "Ez a függvény viszont nem tér vissza sehol:"
      ]
    },
    {
      "cell_type": "code",
      "metadata": {
        "id": "85Evmjemn3BJ"
      },
      "source": [
        "def ures_fuggveny(x):\n",
        "    print('Én egy ures fuggvény vagyok,\\nannak ellenére hogy beszélek,\\nnem térek vissza változóval!!')\n",
        "    y=x-2;"
      ],
      "execution_count": 21,
      "outputs": []
    },
    {
      "cell_type": "markdown",
      "metadata": {
        "id": "2DRXE8zhn3BJ"
      },
      "source": [
        "Így a **z** válltozóban nem tárolódik semmilyen érték!"
      ]
    },
    {
      "cell_type": "code",
      "metadata": {
        "colab": {
          "base_uri": "https://localhost:8080/"
        },
        "id": "odMn_firn3BK",
        "outputId": "c542286d-441d-4138-91dc-f6dc5de4a13b"
      },
      "source": [
        "z=ures_fuggveny(3)\n",
        "z"
      ],
      "execution_count": 22,
      "outputs": [
        {
          "output_type": "stream",
          "text": [
            "Én egy ures fuggvény vagyok,\n",
            "annak ellenére hogy beszélek,\n",
            "nem térek vissza változóval!!\n"
          ],
          "name": "stdout"
        }
      ]
    },
    {
      "cell_type": "code",
      "metadata": {
        "colab": {
          "base_uri": "https://localhost:8080/"
        },
        "id": "Mh-3gqoGn3BK",
        "outputId": "2ec6a286-f847-42f6-afb6-825d258cf4aa"
      },
      "source": [
        "print(z)"
      ],
      "execution_count": 23,
      "outputs": [
        {
          "output_type": "stream",
          "text": [
            "None\n"
          ],
          "name": "stdout"
        }
      ]
    },
    {
      "cell_type": "markdown",
      "metadata": {
        "id": "_1b07Rpjn3BK"
      },
      "source": [
        "Egy függvénynek lehet több bemeneti változója is:"
      ]
    },
    {
      "cell_type": "code",
      "metadata": {
        "collapsed": true,
        "id": "iAcvntEOn3BL"
      },
      "source": [
        "def osszead(a,b):\n",
        "    return a+b"
      ],
      "execution_count": 24,
      "outputs": []
    },
    {
      "cell_type": "markdown",
      "metadata": {
        "id": "PpwB7cAUn3BL"
      },
      "source": [
        "Az is előfordulhat, hogy több értéket szeretnénk visszakapni egy függvényből. Ezt például az alábbiak alapján tehetjük meg:"
      ]
    },
    {
      "cell_type": "code",
      "metadata": {
        "collapsed": true,
        "id": "v5prAANvn3BL"
      },
      "source": [
        "def plusminus(a,b):\n",
        "    return a+b,a-b"
      ],
      "execution_count": 25,
      "outputs": []
    },
    {
      "cell_type": "code",
      "metadata": {
        "colab": {
          "base_uri": "https://localhost:8080/"
        },
        "id": "Gx7UFAbtn3BL",
        "outputId": "80f2f286-d074-451b-b3f4-905a2f89aa94"
      },
      "source": [
        "p,m=plusminus(2,3)\n",
        "print (p)\n",
        "print (m)"
      ],
      "execution_count": 26,
      "outputs": [
        {
          "output_type": "stream",
          "text": [
            "5\n",
            "-1\n"
          ],
          "name": "stdout"
        }
      ]
    },
    {
      "cell_type": "markdown",
      "metadata": {
        "id": "6VJNTTdTn3BM"
      },
      "source": [
        "## Paraméterlista és a \"kicsomagolás\""
      ]
    },
    {
      "cell_type": "markdown",
      "metadata": {
        "id": "fZH8GDfEn3BM"
      },
      "source": [
        "Előfordulhat, hogy egy függvénynek sok bemenő paramétere van, vagy hogy egy függvény bemenő paramétereit egy másik függvény eleve egy listába rendezi. Egy tipikus ilyen példa — amint azt későb látni fogjuk — a függvényillesztés esete. Ilyenkor a paramétereket tartalmazó lista \"kicsomagolásával\" — amit a \\*-jellel tehetünk meg — kompaktabb kódot érhetünk el. Vegyünk például egy olyan esetet, amikor egy adatsorra egy ötödfokú polinomot illesztünk. "
      ]
    },
    {
      "cell_type": "markdown",
      "metadata": {
        "id": "-SSewuYdn3BM"
      },
      "source": [
        "$$f(x)=a_0+a_1x+a_2x^2+a_3x^3+a_4x^4+a_5x^5$$"
      ]
    },
    {
      "cell_type": "markdown",
      "metadata": {
        "id": "cVnMYMIbn3BM"
      },
      "source": [
        "Definiáljunk egy függvényt, ami egy \"futó\" $x$ változó és az ötödfokú polinomnak megfelelően hat darab \"paraméter\" $a_i$ változó segítségével kiértékeli a fenti polinomot:"
      ]
    },
    {
      "cell_type": "code",
      "metadata": {
        "collapsed": true,
        "id": "nS08xtj_n3BN"
      },
      "source": [
        "# ez lesz az illesztendő függvény\n",
        "def poly5(x,a0,a1,a2,a3,a4,a5):\n",
        "    return a0+a1*x+a2*x**2+a3*x**3+a4*x**4+a5*x**5"
      ],
      "execution_count": 27,
      "outputs": []
    },
    {
      "cell_type": "markdown",
      "metadata": {
        "id": "SuLtn7_pn3BN"
      },
      "source": [
        "Az illesztés során hat darab illesztési paramétert határozunk meg: $a_0,a_1,a_2,a_3,a_4,a_5$, ám ezeket az illesztő program egy listába rendezve adja a kezünkbe:"
      ]
    },
    {
      "cell_type": "code",
      "metadata": {
        "collapsed": true,
        "id": "diP-8mhTn3BO"
      },
      "source": [
        "# ezek az illesztés során meghatározott paraméterek\n",
        "# az alábbi sorrendnek megfelelően\n",
        "# params=[a0,a1,a2,a3,a4,a5]\n",
        "params=[ 2.27171539, -1.1368942 ,  0.65380304, -0.25005187, -0.1751268 , -0.48828309];"
      ],
      "execution_count": 28,
      "outputs": []
    },
    {
      "cell_type": "markdown",
      "metadata": {
        "id": "5eVp7LEWn3BO"
      },
      "source": [
        "Ha ki szeretnénk értékelni az illesztett polinomot az $x=0.3$ helyen, akkor azt megtehetjük az alábbi módon:"
      ]
    },
    {
      "cell_type": "code",
      "metadata": {
        "colab": {
          "base_uri": "https://localhost:8080/"
        },
        "id": "M-jYPcWkn3BO",
        "outputId": "66d240c9-1a8e-4886-886d-98e295074e7c"
      },
      "source": [
        "poly5(0.3,params[0],params[1],params[2],params[3],params[4],params[5])"
      ],
      "execution_count": 29,
      "outputs": [
        {
          "output_type": "execute_result",
          "data": {
            "text/plain": [
              "1.9801329481213"
            ]
          },
          "metadata": {
            "tags": []
          },
          "execution_count": 29
        }
      ]
    },
    {
      "cell_type": "markdown",
      "metadata": {
        "id": "NVUwNt23n3BP"
      },
      "source": [
        "vagy az ennél sokkal kompaktabb módszerrel:"
      ]
    },
    {
      "cell_type": "code",
      "metadata": {
        "colab": {
          "base_uri": "https://localhost:8080/"
        },
        "id": "1uOnHb1mn3BP",
        "outputId": "252799d2-4724-40db-cc5b-44c03e51fcdc"
      },
      "source": [
        "poly5(0.3,*params)"
      ],
      "execution_count": 34,
      "outputs": [
        {
          "output_type": "execute_result",
          "data": {
            "text/plain": [
              "1.9801329481213"
            ]
          },
          "metadata": {
            "tags": []
          },
          "execution_count": 34
        }
      ]
    },
    {
      "cell_type": "markdown",
      "metadata": {
        "id": "J_3uNryPn3BP"
      },
      "source": [
        "Ez a konstrukció lehetővé teszi, hogy a függvény definiálása során felkészítsük a függvényt arra, hogy a bemenő\n",
        "paraméterek száma ne legyen rögzített. Ha a függvénydeklaráció során egy paraméter elé **\\***-t teszünk, akkor az a paraméter tetszőleges hosszúságú lehet! Vizsgáljuk meg az alábbi példát:"
      ]
    },
    {
      "cell_type": "code",
      "metadata": {
        "collapsed": true,
        "id": "SvBNrDeqn3BQ"
      },
      "source": [
        "def adok_mit_kapok(*argv):                                            #Így, a *-al, készítünk fel egy függvényt \n",
        "                                                                      #változó számú paraméter fogadására\n",
        "    print(\"Nekem \",len(argv),\"db bemenő paraméterem jött\")\n",
        "    for arg in argv:\n",
        "        print (\"Ez egy paraméter :\", arg)\n",
        "    return argv[-1]                                                 #a bemenő paraméterek elemeire mint \n",
        "                                                                    #szokványos lista elemekre hivatkozunk"
      ],
      "execution_count": 35,
      "outputs": []
    },
    {
      "cell_type": "markdown",
      "metadata": {
        "id": "E6rSX5zcn3BQ"
      },
      "source": [
        "A fenti blokkban definiált függvény tetszőleges számú bemenő paramétert elfogad! A futás során közli, hogy hány paraméter érkezett, kiírja azokat, illetve a paraméterlista utolsó tagját a függvény visszatérési értékének állítja be."
      ]
    },
    {
      "cell_type": "code",
      "metadata": {
        "colab": {
          "base_uri": "https://localhost:8080/",
          "height": 102
        },
        "id": "hJMW-WMKn3BQ",
        "outputId": "559b88a4-459f-4b39-c7cb-ba0fe86d64a6"
      },
      "source": [
        "adok_mit_kapok('Gáspár','Menyhért','Boldizsár')"
      ],
      "execution_count": 36,
      "outputs": [
        {
          "output_type": "stream",
          "text": [
            "Nekem  3 db bemenő paraméterem jött\n",
            "Ez egy paraméter : Gáspár\n",
            "Ez egy paraméter : Menyhért\n",
            "Ez egy paraméter : Boldizsár\n"
          ],
          "name": "stdout"
        },
        {
          "output_type": "execute_result",
          "data": {
            "application/vnd.google.colaboratory.intrinsic+json": {
              "type": "string"
            },
            "text/plain": [
              "'Boldizsár'"
            ]
          },
          "metadata": {
            "tags": []
          },
          "execution_count": 36
        }
      ]
    },
    {
      "cell_type": "markdown",
      "metadata": {
        "id": "QBWmlm4Bn3BR"
      },
      "source": [
        "Természetesen a tetszőleges számú paraméter helyett egy \"kicsomagolt\" tetszőleges hosszúságú listát is használhatunk!"
      ]
    },
    {
      "cell_type": "code",
      "metadata": {
        "colab": {
          "base_uri": "https://localhost:8080/"
        },
        "id": "u5Ge199Cn3BR",
        "outputId": "a59828b0-5ed1-4cd1-b751-a8874ee10bbb"
      },
      "source": [
        "adok_mit_kapok(*params) #természetesen itt is működik a kicsomagolás.."
      ],
      "execution_count": 37,
      "outputs": [
        {
          "output_type": "stream",
          "text": [
            "Nekem  6 db bemenő paraméterem jött\n",
            "Ez egy paraméter : 2.27171539\n",
            "Ez egy paraméter : -1.1368942\n",
            "Ez egy paraméter : 0.65380304\n",
            "Ez egy paraméter : -0.25005187\n",
            "Ez egy paraméter : -0.1751268\n",
            "Ez egy paraméter : -0.48828309\n"
          ],
          "name": "stdout"
        },
        {
          "output_type": "execute_result",
          "data": {
            "text/plain": [
              "-0.48828309"
            ]
          },
          "metadata": {
            "tags": []
          },
          "execution_count": 37
        }
      ]
    },
    {
      "cell_type": "markdown",
      "metadata": {
        "id": "7M3bZVcQn3BS"
      },
      "source": [
        "## Függvények kulcsszavakkal"
      ]
    },
    {
      "cell_type": "markdown",
      "metadata": {
        "id": "_lpWr_Fnn3BT"
      },
      "source": [
        "Azon kívül, hogy a szótárak már önmagukban is igen hasznos adatstruktúrák, később látni fogjuk, hogy sokszor függvények bizonyos paramétereit is szokás szótárakba szedni. Az ilyen paramétereket szokás kulcsszavas változóknak vagy kulcsszavas argumentumnak (angol nyelven keyword argument) hívni. Ezek használata olvashatóbbá és emberi szemmel is jóval értelmezhetőbbé teszi a programot, ezen felül további flexibilitást is ad a programozó kezébe. \n",
        "Nézzük ezt meg az alábbi példán:"
      ]
    },
    {
      "cell_type": "code",
      "metadata": {
        "collapsed": true,
        "id": "0gKNueCvn3BT"
      },
      "source": [
        "#Így adunk meg alapértelmezett értékeket\n",
        "def students(ido, allapot='lelkesen figyelik a tanárt', tevekenyseg='kísérletezés', ora='fizika'):\n",
        "    print(\"Ezek a diákok \"+ora+\"órán \"+tevekenyseg+\" közben mindig \"+allapot+\"!\");\n",
        "    print(\"Még akkor is, ha épp \",ido,\"-t mutat az óra!\");"
      ],
      "execution_count": 38,
      "outputs": []
    },
    {
      "cell_type": "markdown",
      "metadata": {
        "id": "C64ZhRCan3BU"
      },
      "source": [
        "A függvény első paraméterét meg kell adnunk. Ha nem adunk többet, akkor az alapértelmezett értékeket fogja használni a kulcsszavas argumentumokra:"
      ]
    },
    {
      "cell_type": "code",
      "metadata": {
        "colab": {
          "base_uri": "https://localhost:8080/"
        },
        "id": "NycKgIn_n3BU",
        "outputId": "49cba654-a2b7-4e27-e240-006cd2b08bea"
      },
      "source": [
        "students('17:00') "
      ],
      "execution_count": 39,
      "outputs": [
        {
          "output_type": "stream",
          "text": [
            "Ezek a diákok fizikaórán kísérletezés közben mindig lelkesen figyelik a tanárt!\n",
            "Még akkor is, ha épp  17:00 -t mutat az óra!\n"
          ],
          "name": "stdout"
        }
      ]
    },
    {
      "cell_type": "markdown",
      "metadata": {
        "id": "TSPulyZen3BV"
      },
      "source": [
        "Ha egy kulcsszavas argumentumot kap a függvény, akkor azt értelemszerűen használja:"
      ]
    },
    {
      "cell_type": "code",
      "metadata": {
        "colab": {
          "base_uri": "https://localhost:8080/"
        },
        "id": "rHkb6Ktkn3BW",
        "outputId": "525d1c4f-186f-41c5-d921-9e63d5a90447"
      },
      "source": [
        "students('8:00',allapot='unott képet vágnak')"
      ],
      "execution_count": 40,
      "outputs": [
        {
          "output_type": "stream",
          "text": [
            "Ezek a diákok fizikaórán kísérletezés közben mindig unott képet vágnak!\n",
            "Még akkor is, ha épp  8:00 -t mutat az óra!\n"
          ],
          "name": "stdout"
        }
      ]
    },
    {
      "cell_type": "markdown",
      "metadata": {
        "id": "vVBus9YJn3BW"
      },
      "source": [
        "A kulcsszavas argumentumok sorrendjére nem kell figyelni:"
      ]
    },
    {
      "cell_type": "code",
      "metadata": {
        "colab": {
          "base_uri": "https://localhost:8080/"
        },
        "id": "UeAkHsRNn3BX",
        "outputId": "0a9e3532-8207-49d7-c543-c0727d4fd9c6"
      },
      "source": [
        "students('8:00',ora='ógörög',allapot='pánikolva izzadnak',tevekenyseg='TÉMAZÁRÓ')"
      ],
      "execution_count": 41,
      "outputs": [
        {
          "output_type": "stream",
          "text": [
            "Ezek a diákok ógörögórán TÉMAZÁRÓ közben mindig pánikolva izzadnak!\n",
            "Még akkor is, ha épp  8:00 -t mutat az óra!\n"
          ],
          "name": "stdout"
        }
      ]
    },
    {
      "cell_type": "markdown",
      "metadata": {
        "id": "Kw1AyxeOn3BY"
      },
      "source": [
        "Ha a deklaráció során nem használt kulcsszót adunk meg, akkor hibát kapunk:"
      ]
    },
    {
      "cell_type": "code",
      "metadata": {
        "colab": {
          "base_uri": "https://localhost:8080/",
          "height": 162
        },
        "id": "lFgCPUlen3BY",
        "outputId": "66896e97-3f3b-4d64-d637-34d81cd3d98c"
      },
      "source": [
        "students('17:00',tanar='Mici néni')"
      ],
      "execution_count": 42,
      "outputs": [
        {
          "output_type": "error",
          "ename": "TypeError",
          "evalue": "ignored",
          "traceback": [
            "\u001b[0;31m---------------------------------------------------------------------------\u001b[0m",
            "\u001b[0;31mTypeError\u001b[0m                                 Traceback (most recent call last)",
            "\u001b[0;32m<ipython-input-42-f1d97138db97>\u001b[0m in \u001b[0;36m<module>\u001b[0;34m()\u001b[0m\n\u001b[0;32m----> 1\u001b[0;31m \u001b[0mstudents\u001b[0m\u001b[0;34m(\u001b[0m\u001b[0;34m'17:00'\u001b[0m\u001b[0;34m,\u001b[0m\u001b[0mtanar\u001b[0m\u001b[0;34m=\u001b[0m\u001b[0;34m'Mici néni'\u001b[0m\u001b[0;34m)\u001b[0m\u001b[0;34m\u001b[0m\u001b[0;34m\u001b[0m\u001b[0m\n\u001b[0m",
            "\u001b[0;31mTypeError\u001b[0m: students() got an unexpected keyword argument 'tanar'"
          ]
        }
      ]
    },
    {
      "cell_type": "markdown",
      "metadata": {
        "id": "_JMIY80Tn3BZ"
      },
      "source": [
        "Hasonlóan problémába ütközünk, ha egy kulcsszót kétszer is alkalmazunk:"
      ]
    },
    {
      "cell_type": "code",
      "metadata": {
        "colab": {
          "base_uri": "https://localhost:8080/",
          "height": 128
        },
        "id": "I_EZnBRgn3Ba",
        "outputId": "d5a736ac-a39d-42d7-989d-9161bd34f9d3"
      },
      "source": [
        "students('8:00',ora='ógörög',ora='kémia')"
      ],
      "execution_count": 43,
      "outputs": [
        {
          "output_type": "error",
          "ename": "SyntaxError",
          "evalue": "ignored",
          "traceback": [
            "\u001b[0;36m  File \u001b[0;32m\"<ipython-input-43-fb585f153a1e>\"\u001b[0;36m, line \u001b[0;32m1\u001b[0m\n\u001b[0;31m    students('8:00',ora='ógörög',ora='kémia')\u001b[0m\n\u001b[0m                                   ^\u001b[0m\n\u001b[0;31mSyntaxError\u001b[0m\u001b[0;31m:\u001b[0m keyword argument repeated\n"
          ]
        }
      ]
    },
    {
      "cell_type": "markdown",
      "metadata": {
        "id": "mmGw6GAEn3Bc"
      },
      "source": [
        "Kulcsszavas argumentumok szótárának kicsomagolása \\*\\*-jel segítségével történik:"
      ]
    },
    {
      "cell_type": "code",
      "metadata": {
        "colab": {
          "base_uri": "https://localhost:8080/"
        },
        "id": "vtfD-hnun3Bc",
        "outputId": "17cfe0ec-c252-46bb-b7c9-0b8415cce501"
      },
      "source": [
        "diak_hozzaallas={'ora':'ének','allapot':'nyüszítenek'};\n",
        "students(12,**diak_hozzaallas)"
      ],
      "execution_count": 44,
      "outputs": [
        {
          "output_type": "stream",
          "text": [
            "Ezek a diákok énekórán kísérletezés közben mindig nyüszítenek!\n",
            "Még akkor is, ha épp  12 -t mutat az óra!\n"
          ],
          "name": "stdout"
        }
      ]
    },
    {
      "cell_type": "markdown",
      "metadata": {
        "id": "zATQS5lEn3Bc"
      },
      "source": [
        "Amint a sima paramétereknél is, itt is előfordulhat az, hogy tetszőleges hosszúságú dict-et szeretnénk feldolgozni. Erre példa, ha egy olyan függvényt írunk, amely esetleg több más függvényt hív, melyeknek tovább akarjuk adni a bejövő paraméterek egy részét. \n",
        "\n",
        "Az alábbi függvény egy tetszőleges szótárat vár a bemenetre, megnézi, hogy milyen hosszú, és ha a szótárban van 'hamburger' címkéjű kulcsszó, akkor annak az értékét adja vissza:"
      ]
    },
    {
      "cell_type": "code",
      "metadata": {
        "collapsed": true,
        "id": "eSk-Sx39n3Be"
      },
      "source": [
        "def kulcsot_adok_amit_kapok(**szotar):\n",
        "    print('A szótár hossza:',len(szotar))\n",
        "    if 'hamburger' in szotar:\n",
        "        print('Van hamburger!')\n",
        "        return szotar['hamburger']"
      ],
      "execution_count": 45,
      "outputs": []
    },
    {
      "cell_type": "code",
      "metadata": {
        "colab": {
          "base_uri": "https://localhost:8080/"
        },
        "id": "Gbn7DnXun3Bf",
        "outputId": "1a2cfb6a-2f3c-4450-8825-87bbae2a38e0"
      },
      "source": [
        "kulcsot_adok_amit_kapok(makaróni=1,torta='finom') #itt már nem jelent hibát ha előre meg nem határozott kulcsszavaink vannak!"
      ],
      "execution_count": 46,
      "outputs": [
        {
          "output_type": "stream",
          "text": [
            "A szótár hossza: 2\n"
          ],
          "name": "stdout"
        }
      ]
    },
    {
      "cell_type": "code",
      "metadata": {
        "colab": {
          "base_uri": "https://localhost:8080/"
        },
        "id": "YJu_hy1Mn3Bg",
        "outputId": "ca94d047-bd44-4fe0-b857-a62070de3f22"
      },
      "source": [
        "kaja={'makaróni':1,'torta':'finom','hamburger':137,'saláta':'nincs'}\n",
        "kulcsot_adok_amit_kapok(**kaja) "
      ],
      "execution_count": 47,
      "outputs": [
        {
          "output_type": "stream",
          "text": [
            "A szótár hossza: 4\n",
            "Van hamburger!\n"
          ],
          "name": "stdout"
        },
        {
          "output_type": "execute_result",
          "data": {
            "text/plain": [
              "137"
            ]
          },
          "metadata": {
            "tags": []
          },
          "execution_count": 47
        }
      ]
    },
    {
      "cell_type": "markdown",
      "metadata": {
        "id": "Gb-DFL-vn3Bh"
      },
      "source": [
        "## Általános függvénydeklarációs szokások"
      ]
    },
    {
      "cell_type": "markdown",
      "metadata": {
        "id": "chWXHN6cn3Bi"
      },
      "source": [
        "Amint azt a fentiekben láttuk, függvényeknek többféleképpen is adhatunk paramétereket:\n",
        "\n",
        "1. változók (ezek lehetnek sima változók, meghatározott hosszúságú listák, vagy akár kulcsszavas változók is);\n",
        "2. előre meg nem határozott hosszúságú változó lista;\n",
        "3. kulcsszavas változók tetszőleges hosszú listája.\n",
        "\n",
        "Sokszor előfordul, hogy egy függvénynek mind a négy fajta bemenete is lehet. Illetve hogy néhány változónak alapértelmezett értéket is adunk. Függvények definiálásánál használjuk a fenti sorrendet!\n",
        "\n",
        "Például:"
      ]
    },
    {
      "cell_type": "code",
      "metadata": {
        "id": "zBNSeyp5n3Bi"
      },
      "source": [
        "def bonyolult_fuggveny(valtozo1,valtozo2,valtozo3='ELZETT',*args,**kwargs):\n",
        "    if ((len(args)==0 and len(kwargs)==0)):\n",
        "        return valtozo3+str(valtozo2)+str(valtozo1)\n",
        "    elif (len(args)!=0 and len(kwargs)==0):\n",
        "        return 'Van valami az args-ban!'\n",
        "    elif (len(args)==0 and len(kwargs)!=0):\n",
        "        return 'Van valami az kwargs-ban!'\n",
        "    else:\n",
        "        return 'Mindenféle változónk van:'+str(valtozo1)+str(valtozo2)+valtozo3+str(args)+str(kwargs)"
      ],
      "execution_count": null,
      "outputs": []
    },
    {
      "cell_type": "markdown",
      "metadata": {
        "collapsed": true,
        "id": "czyK0AWln3Bi"
      },
      "source": [
        "A fenti függvény első két változója \"sima\" változó, a harmadik egy kulcsszavas változó az alapértelmezett 'ELZETT' értékkel, és ezen kívül megengedünk még egyéb tetszőleges hosszú \"sima\" változók listáját (args), illetve tetszőleges hosszú kulcsszavas változók listáját (kwargs). Nézzük meg hogy a notebook során korábban definiált változókat felhasználva milyen viselkedést mutat a fent deklarált függvény:"
      ]
    },
    {
      "cell_type": "code",
      "metadata": {
        "id": "N2DIxOCvn3Bj",
        "outputId": "17be3d54-d84d-4a26-9497-11a8b9fec94b"
      },
      "source": [
        "bonyolult_fuggveny(1,2)"
      ],
      "execution_count": null,
      "outputs": [
        {
          "output_type": "execute_result",
          "data": {
            "text/plain": [
              "'ELZETT21'"
            ]
          },
          "metadata": {
            "tags": []
          },
          "execution_count": 45
        }
      ]
    },
    {
      "cell_type": "code",
      "metadata": {
        "id": "KRyt5YcTn3Bk",
        "outputId": "1d9a3c8a-e58a-4442-b953-0cf2c6731a9f"
      },
      "source": [
        "bonyolult_fuggveny(1,2,valtozo3='MULTLOCK')"
      ],
      "execution_count": null,
      "outputs": [
        {
          "output_type": "execute_result",
          "data": {
            "text/plain": [
              "'MULTLOCK21'"
            ]
          },
          "metadata": {
            "tags": []
          },
          "execution_count": 46
        }
      ]
    },
    {
      "cell_type": "code",
      "metadata": {
        "id": "QQtMAchPn3Bl",
        "outputId": "3b929271-4807-42b8-a825-52ec4c8288f3"
      },
      "source": [
        "bonyolult_fuggveny(1,2,*days_of_the_week)"
      ],
      "execution_count": null,
      "outputs": [
        {
          "output_type": "execute_result",
          "data": {
            "text/plain": [
              "'Van valami az args-ban!'"
            ]
          },
          "metadata": {
            "tags": []
          },
          "execution_count": 47
        }
      ]
    },
    {
      "cell_type": "code",
      "metadata": {
        "id": "iK5Fgm38n3Bl",
        "outputId": "a05f0394-e152-4355-f777-9c74b19b528d"
      },
      "source": [
        "bonyolult_fuggveny(1,2,**kaja)"
      ],
      "execution_count": null,
      "outputs": [
        {
          "output_type": "execute_result",
          "data": {
            "text/plain": [
              "'Van valami az kwargs-ban!'"
            ]
          },
          "metadata": {
            "tags": []
          },
          "execution_count": 48
        }
      ]
    },
    {
      "cell_type": "code",
      "metadata": {
        "id": "IyetoaOWn3Bn",
        "outputId": "26fb66c3-860f-444e-a67c-17a558509293"
      },
      "source": [
        "bonyolult_fuggveny(1,2,*days_of_the_week,**kaja)"
      ],
      "execution_count": null,
      "outputs": [
        {
          "output_type": "execute_result",
          "data": {
            "text/plain": [
              "\"Mindenféle változónk van:12Sunday('Monday', 'Tuesday', 'Wednesday', 'Thursday', 'Friday', 'Saturday'){'hamburger': 137, 'torta': 'finom', 'saláta': 'nincs', 'makaróni': 1}\""
            ]
          },
          "metadata": {
            "tags": []
          },
          "execution_count": 49
        }
      ]
    },
    {
      "cell_type": "markdown",
      "metadata": {
        "id": "-fzLhXL6n3Bn"
      },
      "source": [
        "## A [Lambda](http://www.secnetix.de/olli/Python/lambda_functions.hawk)-formák \n",
        "\n",
        "Egy függvénynek nemcsak változókat, hanem más függvényeket is megadhatunk bemenetként. Például gondolhatunk egy olyan függvényre, ami egy matematikai függvényt ábrázol! \n",
        "Ilyen esetekben, amikor egy függvény a bemenetére másik függvényt vár, sokszor előfordul, hogy hosszadalmas külön definiálni a bemeneti függvényt. Ekkor tömörebb használni az úgynevezett `lambda`-formákat.\n",
        "Nézzünk erre egy példát! Definiáljunk egy függvényt, ami egy másik függvényt értékel ki egy adott helyen, kiírja a kiértékelési helyet, és visszatér a kiértékelt függvényértékkel:"
      ]
    },
    {
      "cell_type": "code",
      "metadata": {
        "collapsed": true,
        "id": "hsr7UFQwn3Bo"
      },
      "source": [
        "def funfun(g,x):\n",
        "    print('Ez volt az x változó: ',x)\n",
        "    return g(x)"
      ],
      "execution_count": 48,
      "outputs": []
    },
    {
      "cell_type": "code",
      "metadata": {
        "colab": {
          "base_uri": "https://localhost:8080/"
        },
        "id": "fRKHhjqmn3Bo",
        "outputId": "c089ad26-49f8-4f25-ba12-f50eb33b610a"
      },
      "source": [
        "def fx(x):\n",
        "    return x**2-1/x;\n",
        "funfun(fx,0.1)"
      ],
      "execution_count": 49,
      "outputs": [
        {
          "output_type": "stream",
          "text": [
            "Ez volt az x változó:  0.1\n"
          ],
          "name": "stdout"
        },
        {
          "output_type": "execute_result",
          "data": {
            "text/plain": [
              "-9.99"
            ]
          },
          "metadata": {
            "tags": []
          },
          "execution_count": 49
        }
      ]
    },
    {
      "cell_type": "markdown",
      "metadata": {
        "id": "zUWOygl-n3Bq"
      },
      "source": [
        "Ekkor egy úgynevezett `lambda`-forma segítségével alkalmazhatjuk az ennél kicsivel kompaktabb kifejezést (megúszva a függvénydeklarációt):"
      ]
    },
    {
      "cell_type": "code",
      "metadata": {
        "id": "xHqZq_lRn3Bq",
        "outputId": "a70b97a1-fb4e-4932-9fda-579a4a161ede"
      },
      "source": [
        "funfun(lambda x:x**2-1/x,0.1)"
      ],
      "execution_count": null,
      "outputs": [
        {
          "output_type": "stream",
          "text": [
            "Ez volt az x változó:  0.1\n"
          ],
          "name": "stdout"
        },
        {
          "output_type": "execute_result",
          "data": {
            "text/plain": [
              "-9.99"
            ]
          },
          "metadata": {
            "tags": []
          },
          "execution_count": 52
        }
      ]
    },
    {
      "cell_type": "markdown",
      "metadata": {
        "id": "J1piEZiVn3Br"
      },
      "source": [
        "A fenti kifejezésben a \n",
        ">```Python\n",
        "lambda x:x**2-1/x\n",
        "```\n",
        "\n",
        "kódrészlet egy \"anonim\" függvényt definiál, amely az $x$ változóhoz hozzárendeli az $x^2-1/x$-et."
      ]
    },
    {
      "cell_type": "markdown",
      "metadata": {
        "id": "xXcnS-6an3Bs"
      },
      "source": [
        "A `lambda`-kifejezésekkel lehet többváltozós függvényeket is definiálni. Például az alábbi\n",
        ">```python\n",
        "lambda x,y:x**2-1/y\n",
        "```\n",
        "\n",
        "kifejezés a\n",
        "\n",
        ">```python\n",
        "def fxy(x,y):\n",
        "    return x**2-1/y\n",
        "```\n",
        "\n",
        "függvénnyel ekvivalens."
      ]
    }
  ]
}