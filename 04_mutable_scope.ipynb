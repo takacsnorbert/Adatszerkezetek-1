{
  "nbformat": 4,
  "nbformat_minor": 0,
  "metadata": {
    "anaconda-cloud": {},
    "hide_input": false,
    "kernelspec": {
      "display_name": "Python 3",
      "language": "python",
      "name": "python3"
    },
    "language_info": {
      "codemirror_mode": {
        "name": "ipython",
        "version": 3
      },
      "file_extension": ".py",
      "mimetype": "text/x-python",
      "name": "python",
      "nbconvert_exporter": "python",
      "pygments_lexer": "ipython3",
      "version": "3.5.2"
    },
    "colab": {
      "name": "04_mutable_scope.ipynb",
      "provenance": []
    }
  },
  "cells": [
    {
      "cell_type": "markdown",
      "metadata": {
        "id": "sWthlXU-s17I"
      },
      "source": [
        "# Hivatkozások, megváltoztathatóság, láthatóság\n",
        "\n",
        "---"
      ]
    },
    {
      "cell_type": "code",
      "metadata": {
        "id": "Enp8Nud0s17L",
        "outputId": "0c44c782-ca42-4545-ee6b-88dcc9b1b614"
      },
      "source": [
        "%pylab inline"
      ],
      "execution_count": null,
      "outputs": [
        {
          "output_type": "stream",
          "text": [
            "Populating the interactive namespace from numpy and matplotlib\n"
          ],
          "name": "stdout"
        }
      ]
    },
    {
      "cell_type": "markdown",
      "metadata": {
        "id": "DVMEYeSYs17N"
      },
      "source": [
        "## Hivatkozások \n",
        "\n",
        "\n",
        "### Változók viselkedése értékadásnál\n",
        "\n",
        "Hogyan gondoljunk arra, amikor leütjük a következő kifejezést?\n",
        "\n",
        "**`a = 1`**\n",
        "\n",
        "- **`a`** : név \n",
        "- az **`a`** tartalma: hivatkozás (referencia) egy objektumra\n",
        "- 1: maga az objektum, amire hivatkozunk"
      ]
    },
    {
      "cell_type": "code",
      "metadata": {
        "collapsed": true,
        "id": "zO8CCFjis17N"
      },
      "source": [
        "a = 1"
      ],
      "execution_count": 1,
      "outputs": []
    },
    {
      "cell_type": "markdown",
      "metadata": {
        "id": "DsXJpQ8Os17O"
      },
      "source": [
        "Az `id()` függvénnyel lekérdezhetjük az objektum egyedi azonosítóját."
      ]
    },
    {
      "cell_type": "code",
      "metadata": {
        "id": "F7R97IHRs17O",
        "outputId": "ca9f14a9-1092-4b62-b901-d651d70811a0",
        "colab": {
          "base_uri": "https://localhost:8080/"
        }
      },
      "source": [
        "id(a)"
      ],
      "execution_count": 2,
      "outputs": [
        {
          "output_type": "execute_result",
          "data": {
            "text/plain": [
              "94531876055552"
            ]
          },
          "metadata": {
            "tags": []
          },
          "execution_count": 2
        }
      ]
    },
    {
      "cell_type": "code",
      "metadata": {
        "id": "4PeWAVGVs17P",
        "outputId": "ae7f9ebf-4533-48f9-e421-fde1985c2718",
        "colab": {
          "base_uri": "https://localhost:8080/"
        }
      },
      "source": [
        "id(1)"
      ],
      "execution_count": 5,
      "outputs": [
        {
          "output_type": "execute_result",
          "data": {
            "text/plain": [
              "94531876055552"
            ]
          },
          "metadata": {
            "tags": []
          },
          "execution_count": 5
        }
      ]
    },
    {
      "cell_type": "markdown",
      "metadata": {
        "id": "uy4y7jYIs17P"
      },
      "source": [
        "Ha több összetett típusú változót külön hozunk létre, akkor azok mindig különböző objektumokra mutatnak."
      ]
    },
    {
      "cell_type": "code",
      "metadata": {
        "id": "vs88ZvYds17Q",
        "outputId": "4bb263e3-cd6b-404b-bae4-52e6448ea32f",
        "colab": {
          "base_uri": "https://localhost:8080/"
        }
      },
      "source": [
        "a=[0,1]\n",
        "b=[0,1]\n",
        "id(a),id(b)"
      ],
      "execution_count": 6,
      "outputs": [
        {
          "output_type": "execute_result",
          "data": {
            "text/plain": [
              "(140468122595728, 140468061569104)"
            ]
          },
          "metadata": {
            "tags": []
          },
          "execution_count": 6
        }
      ]
    },
    {
      "cell_type": "markdown",
      "metadata": {
        "id": "6BXx-5E8s17Q"
      },
      "source": [
        "Így is."
      ]
    },
    {
      "cell_type": "code",
      "metadata": {
        "id": "tbCt3tC0s17Q",
        "outputId": "205e2882-ea87-4346-a700-4411bf043898",
        "colab": {
          "base_uri": "https://localhost:8080/"
        }
      },
      "source": [
        "a,b=[0,1],[0,1]\n",
        "id(a),id(b)"
      ],
      "execution_count": 7,
      "outputs": [
        {
          "output_type": "execute_result",
          "data": {
            "text/plain": [
              "(140468061605232, 140468122813376)"
            ]
          },
          "metadata": {
            "tags": []
          },
          "execution_count": 7
        }
      ]
    },
    {
      "cell_type": "markdown",
      "metadata": {
        "id": "xDLWIW91s17R"
      },
      "source": [
        "Leggyakoribb használata az azonosítóknak, hogy az `is` függvénnyel leelenőrizhetjük, hogy két objektum id értéke megegyezik-e. Két objektum azonos-e."
      ]
    },
    {
      "cell_type": "code",
      "metadata": {
        "id": "oNsW7O09s17R",
        "outputId": "585b0329-4750-47f3-8d3c-fab2c414186c"
      },
      "source": [
        "a is a"
      ],
      "execution_count": null,
      "outputs": [
        {
          "output_type": "execute_result",
          "data": {
            "text/plain": [
              "True"
            ]
          },
          "metadata": {
            "tags": []
          },
          "execution_count": 7
        }
      ]
    },
    {
      "cell_type": "code",
      "metadata": {
        "id": "ykRTljG7s17S",
        "outputId": "4600791a-788a-4f25-d0b6-f35be968793a"
      },
      "source": [
        "a is b"
      ],
      "execution_count": null,
      "outputs": [
        {
          "output_type": "execute_result",
          "data": {
            "text/plain": [
              "False"
            ]
          },
          "metadata": {
            "tags": []
          },
          "execution_count": 8
        }
      ]
    },
    {
      "cell_type": "code",
      "metadata": {
        "id": "qd9zAyx8s17S",
        "outputId": "ef1377e3-1a12-4931-ce93-41dc5247b441"
      },
      "source": [
        "a is [0,1]"
      ],
      "execution_count": null,
      "outputs": [
        {
          "output_type": "execute_result",
          "data": {
            "text/plain": [
              "False"
            ]
          },
          "metadata": {
            "tags": []
          },
          "execution_count": 9
        }
      ]
    },
    {
      "cell_type": "markdown",
      "metadata": {
        "id": "Re53cN93s17S"
      },
      "source": [
        "Trükkös dolgok: Ha nem mentjük el a objektumot, amit éppen most hoztuk létre, a Python újrahasznosítja."
      ]
    },
    {
      "cell_type": "code",
      "metadata": {
        "id": "CTC5l8Acs17T",
        "outputId": "a2f4e693-9b34-4832-d1ff-ef041153d74e"
      },
      "source": [
        "id([0,1]),id([0,1])"
      ],
      "execution_count": null,
      "outputs": [
        {
          "output_type": "execute_result",
          "data": {
            "text/plain": [
              "(139774089219912, 139774089219912)"
            ]
          },
          "metadata": {
            "tags": []
          },
          "execution_count": 10
        }
      ]
    },
    {
      "cell_type": "markdown",
      "metadata": {
        "id": "jK7paY9Ms17T"
      },
      "source": [
        "Számok, kis karakterláncok esetén nem feltétlenül kapunk különböző objektumot, ha értéket adunk egy változónak."
      ]
    },
    {
      "cell_type": "code",
      "metadata": {
        "id": "xAG_U6kzs17T",
        "outputId": "95d63742-1bd4-4b56-b530-dc3f21f66a76"
      },
      "source": [
        "a=1\n",
        "b=1\n",
        "id(a),id(b)"
      ],
      "execution_count": null,
      "outputs": [
        {
          "output_type": "execute_result",
          "data": {
            "text/plain": [
              "(139776461195808, 139776461195808)"
            ]
          },
          "metadata": {
            "tags": []
          },
          "execution_count": 11
        }
      ]
    },
    {
      "cell_type": "code",
      "metadata": {
        "id": "X6z6lX7As17U",
        "outputId": "27a50492-1372-41c1-a7e3-18fc11489432"
      },
      "source": [
        "a='a'\n",
        "b='a'\n",
        "id(a),id(b)"
      ],
      "execution_count": null,
      "outputs": [
        {
          "output_type": "execute_result",
          "data": {
            "text/plain": [
              "(139776439460504, 139776439460504)"
            ]
          },
          "metadata": {
            "tags": []
          },
          "execution_count": 12
        }
      ]
    },
    {
      "cell_type": "markdown",
      "metadata": {
        "id": "PnkqewiCs17U"
      },
      "source": [
        "Kellően nagy számra/karakterláncra már különbözőt kapunk."
      ]
    },
    {
      "cell_type": "code",
      "metadata": {
        "id": "ZOVjsOMXs17V",
        "outputId": "1cd6679c-e7ef-45f9-c421-945764b7ad48"
      },
      "source": [
        "a=1000\n",
        "b=1000\n",
        "id(a),id(b)"
      ],
      "execution_count": null,
      "outputs": [
        {
          "output_type": "execute_result",
          "data": {
            "text/plain": [
              "(139774107020592, 139774107020528)"
            ]
          },
          "metadata": {
            "tags": []
          },
          "execution_count": 13
        }
      ]
    },
    {
      "cell_type": "code",
      "metadata": {
        "id": "AaSGQR9as17V",
        "outputId": "b974c58f-479a-49df-ceb3-67925556a8be"
      },
      "source": [
        "a='gfuybgnwfewfcewmgcyuwgrc'\n",
        "b='gfuybgnwfewfcewmgcyuwgrc'\n",
        "id(a),id(b)"
      ],
      "execution_count": null,
      "outputs": [
        {
          "output_type": "execute_result",
          "data": {
            "text/plain": [
              "(139774090552144, 139774090552144)"
            ]
          },
          "metadata": {
            "tags": []
          },
          "execution_count": 14
        }
      ]
    },
    {
      "cell_type": "markdown",
      "metadata": {
        "id": "ldmBZsTgs17V"
      },
      "source": [
        "( De például, ha egy sorban csináljuk, akkor már ugyanazt az objektumot kapjuk)"
      ]
    },
    {
      "cell_type": "code",
      "metadata": {
        "id": "vUgyN4yWs17W",
        "outputId": "ff4c7377-12c4-4fc4-8d16-8fcc540b5502"
      },
      "source": [
        "a,b=1000,1000\n",
        "id(a),id(b)"
      ],
      "execution_count": null,
      "outputs": [
        {
          "output_type": "execute_result",
          "data": {
            "text/plain": [
              "(139774107020432, 139774107020432)"
            ]
          },
          "metadata": {
            "tags": []
          },
          "execution_count": 15
        }
      ]
    },
    {
      "cell_type": "code",
      "metadata": {
        "id": "qlwolU_Hs17W",
        "outputId": "4fad9a6b-68bc-4e92-8d7f-edb8f3667a5a"
      },
      "source": [
        "a,b='gfuybgnwfewfcewmgcyuwgrc','gfuybgnwfewfcewmgcyuwgrc'\n",
        "id(a),id(b)"
      ],
      "execution_count": null,
      "outputs": [
        {
          "output_type": "execute_result",
          "data": {
            "text/plain": [
              "(139774090551344, 139774090551344)"
            ]
          },
          "metadata": {
            "tags": []
          },
          "execution_count": 16
        }
      ]
    },
    {
      "cell_type": "markdown",
      "metadata": {
        "id": "JNo4cEcYs17W"
      },
      "source": [
        "#### Összeségében: Az is parancsot összetett típusokra használjuk csak (lista,tuple,array,...) . Ne használuk az is parancsot, vagy az id-t számokkal, ugyanis nem triviális, hogy mi történik!\n",
        "\n",
        "----"
      ]
    },
    {
      "cell_type": "markdown",
      "metadata": {
        "id": "aiDb72s8s17X"
      },
      "source": [
        "### Új referenciák létrejötte\n",
        "\n",
        "\n",
        "Mi történik, ha egy új változónak értékadáskor egy előző változót adtok meg értékül?\n",
        "\n",
        "A `sys.getrefcount()` nevű függvény megmondja, hogy egy objektumra hány hivatkozás létezik. (Vigyázzunk, mindig 1-gyel többet mond, mert a meghívása során létrejön még egy új hivatkozás az objektumra!)\n",
        "\n",
        "A következő példában egy **tuple**-t találunk, mert kis **int** számokra túl sok minden hivatkozik, ezért nem lenne szemléletes velük a példa."
      ]
    },
    {
      "cell_type": "code",
      "metadata": {
        "id": "mvZKPpY5s17X",
        "outputId": "4e942edf-f23b-4cb3-dbd8-a849546358db",
        "colab": {
          "base_uri": "https://localhost:8080/"
        }
      },
      "source": [
        "import sys\n",
        "\n",
        "a=(1,)   # létrehozzuk az új (1) objektumot\n",
        "        # 'a'-ba beleírjuk az (1)-re mutató referenciát\n",
        "print(\"Erre az objektumra mutat 'a': \", id(a))\n",
        "print(sys.getrefcount(a))  # 2 referenciát számolunk, mert a függvény megghívásakor is létrejön egy\n",
        "\n",
        "b=a # 'b'-be belekerül egy új referencia, ami ugyanarra az objektumra mutat, az (1)-re\n",
        "print(\"Erre az objektumra mutat 'b': \", id(b))\n",
        "print(sys.getrefcount(a))  # 3 referenciát számolunk, mert már 'b' is az (1)-re mutat\n",
        "\n",
        "b=(1,) # létrehozunk egy új (1) objektumot\n",
        "      # 'b'-be beleírjuk az új (1)-re mutató referenciát\n",
        "print(\"Most már másik objektumra mutat 'b'! \", id(b))\n",
        "print(sys.getrefcount(a))  # 2 referenciát számolunk, mert 'b' már egy másik (1)-es objektumra mutat"
      ],
      "execution_count": 8,
      "outputs": [
        {
          "output_type": "stream",
          "text": [
            "Erre az objektumra mutat 'a':  140468122593040\n",
            "2\n",
            "Erre az objektumra mutat 'b':  140468122593040\n",
            "3\n",
            "Most már másik objektumra mutat 'b'!  140468122666832\n",
            "2\n"
          ],
          "name": "stdout"
        }
      ]
    },
    {
      "cell_type": "markdown",
      "metadata": {
        "id": "lSP4aUU4s17Y"
      },
      "source": [
        "## Megváltoztathatóság"
      ]
    },
    {
      "cell_type": "markdown",
      "metadata": {
        "id": "JNenay4us17Y"
      },
      "source": [
        "#### Megváltoztathatatlan objektumok: int,float,string,tuple.\n",
        "\n",
        "Amikor a megváltoztathatatlan objektumra mutató változónak új értéket adunk (pl. az integert megnöveljük eggyel), akkor nem az objektumot változtatjuk meg, hanem az eredeti névhez egy új hivatkozást rendelünk, ami most már egy másik objektumra mutat.\n",
        "\n",
        "Az `id()` függvény megadja az objektumok egyedi azonosítóját. A következő példában figyeljük meg, hogy más értéket ad vissza a változtatás után, hiszen az **int** típusú objektum megváltoztathatatlan."
      ]
    },
    {
      "cell_type": "code",
      "metadata": {
        "id": "SO_8OgqNs17Y",
        "outputId": "679d9fb9-c4f7-4bfd-a564-0998c65e73a1"
      },
      "source": [
        "a=1 # 'a'-ba beleírjuk az 1-re mutató referenciát\n",
        "print(id(a)) \n",
        "a+=1 # 'a'-ba beírjuk a 2-re mutató referenciát\n",
        "print(id(a)) # most másik objektumra mutat az 'a'\n",
        "print(a)"
      ],
      "execution_count": null,
      "outputs": [
        {
          "output_type": "stream",
          "text": [
            "139776461195808\n",
            "139776461195840\n",
            "2\n"
          ],
          "name": "stdout"
        }
      ]
    },
    {
      "cell_type": "markdown",
      "metadata": {
        "id": "8jMDFTMss17Z"
      },
      "source": [
        "#### Megváltoztatható objektumok: lista, array stb.\n",
        "\n",
        "Amikor a megváltoztatható objektumra mutató változónak adunk új értéket, vagy módosítjuk, akkor magát az objektumot módosítjuk, a hivatkozás érintetlen marad.\n",
        "\n",
        "Figyeljük meg, hogy a következő példában a változó módosítása után is ugyanazt az azonosítót adja vissza az `id()` függvény."
      ]
    },
    {
      "cell_type": "code",
      "metadata": {
        "id": "nczJ8HnQs17Z",
        "outputId": "57fa7c11-f878-4817-afdb-875e8e17dd05"
      },
      "source": [
        "a=[1] # a ba beleirjuk az [1] re mutato referenciat\n",
        "print(id(a)) \n",
        "a+=[1]\n",
        "print(id(a)) #ugyanarra az objektumra mutat\n",
        "print(a) # de az objektum megvaltozott"
      ],
      "execution_count": null,
      "outputs": [
        {
          "output_type": "stream",
          "text": [
            "140451873502152\n",
            "140451873502152\n",
            "[1, 1]\n"
          ],
          "name": "stdout"
        }
      ]
    },
    {
      "cell_type": "markdown",
      "metadata": {
        "id": "LO38ivEbs17Z"
      },
      "source": [
        "### Következmények"
      ]
    },
    {
      "cell_type": "markdown",
      "metadata": {
        "id": "mD4umCFws17a"
      },
      "source": [
        "**Megváltoztathatatlan** objektumok esetén, ha két változó ugyanarra az objektumra mutat, akkor hiába módosítjuk az egyik változót, a másik változatlan marad. \n",
        "\n",
        "Ez természetesen az elvárt viselkedés. Két különböző mennyiség teljesen nyugodtan felveheti ugyanazt az értéket egymástól függetlenül, ennek a későbbi viselkedésüket nem kell befolyásolnia.\n",
        "\n",
        "Azt, hogy két változó ugyanarra az objektumra mutat-e, az `is` művelet segítségével ellenőrizhetjük.\n",
        "\n",
        "<div id=\"immutable2\"></div>"
      ]
    },
    {
      "cell_type": "code",
      "metadata": {
        "id": "cFDGe5xjs17b",
        "outputId": "f87224ca-7b6e-4a2b-ba7d-0182a3555edf"
      },
      "source": [
        "#integerrel\n",
        "a=1 # 'a' az 1-re mutat\n",
        "b=a # 'b' is az 1-re mutat, ez egy új referencia\n",
        "print(a is b) # a két változó ugyanarra az objektumra mutat\n",
        "\n",
        "b+=2 # 'b' most már a 3-ra mutat\n",
        "print(a is b) # a két változó már nem ugyanarra az objektumra mutat\n",
        "print(a,b) # 'a' nem változik (megváltoztathatatlan volt!)"
      ],
      "execution_count": null,
      "outputs": [
        {
          "output_type": "stream",
          "text": [
            "True\n",
            "False\n",
            "1 3\n"
          ],
          "name": "stdout"
        }
      ]
    },
    {
      "cell_type": "code",
      "metadata": {
        "id": "wRpuBGTls17b",
        "outputId": "ac45d1f8-3b6a-4373-d739-34196a442718"
      },
      "source": [
        "#stringgel\n",
        "a='a'\n",
        "b=a\n",
        "print(a is b)\n",
        "\n",
        "b+='b'\n",
        "print(a is b)\n",
        "print(a,b)"
      ],
      "execution_count": null,
      "outputs": [
        {
          "output_type": "stream",
          "text": [
            "True\n",
            "False\n",
            "a ab\n"
          ],
          "name": "stdout"
        }
      ]
    },
    {
      "cell_type": "code",
      "metadata": {
        "id": "kLWnFoQJs17c",
        "outputId": "f1838173-c7ad-4a88-934b-4a950fec1a14"
      },
      "source": [
        "#tuple-lel\n",
        "a=(1,2)\n",
        "b=a\n",
        "print(a is b)\n",
        "\n",
        "b+=(2,3)\n",
        "print(a is b)\n",
        "print(a,b)"
      ],
      "execution_count": null,
      "outputs": [
        {
          "output_type": "stream",
          "text": [
            "True\n",
            "False\n",
            "(1, 2) (1, 2, 2, 3)\n"
          ],
          "name": "stdout"
        }
      ]
    },
    {
      "cell_type": "markdown",
      "metadata": {
        "id": "3sdU_rVWs17c"
      },
      "source": [
        "**Megváltoztatható** objektumok esetén ha két változó ugyanarra az objektumra mutat, akkor az egyik változót módosítva maga az objektum változik meg, tehát a másik változó is meg fog változni!\n",
        "\n",
        "Ezért általában nem szerencsés, ha egy megváltoztatható objektumra több névvel is hivatkozunk. De látni fogjuk, hogy `for` ciklusban és függvényekben előfordul ez az eset, ezért tudni kell mi történik pontosan. <div id=\"mutable1\"></div>"
      ]
    },
    {
      "cell_type": "code",
      "metadata": {
        "id": "LiJgpX4ss17c",
        "outputId": "afa3d4e3-6142-4b8d-ace3-144e7f3b9c39"
      },
      "source": [
        "#listával\n",
        "a=[1,2] # 'a' az [1,2]-re mutat\n",
        "b=a # 'b' is az [1,2]-re mutat már\n",
        "print(a is b) # a két változó ugyanarra az objektumra mutat\n",
        "\n",
        "b+=[2,3] # megváltoztatom az objektumot\n",
        "print(a is b) # a két változó még mindig ugyanarra az objektumra mutat\n",
        "print(a,b) # mivel az objektum változott meg, de a hivatkozások nem, ezért 'a' is megváltozott!"
      ],
      "execution_count": null,
      "outputs": [
        {
          "output_type": "stream",
          "text": [
            "True\n",
            "True\n",
            "[1, 2, 2, 3] [1, 2, 2, 3]\n"
          ],
          "name": "stdout"
        }
      ]
    },
    {
      "cell_type": "code",
      "metadata": {
        "id": "U4AZs2ILs17e",
        "outputId": "db65d243-3488-4811-b4ab-25c0e96387f4"
      },
      "source": [
        "#array-jel\n",
        "a=array([1,2])\n",
        "b=a\n",
        "print(a is b)\n",
        "\n",
        "b+=array([2,3])\n",
        "print(a is b)\n",
        "print(a,b)"
      ],
      "execution_count": null,
      "outputs": [
        {
          "output_type": "stream",
          "text": [
            "True\n",
            "True\n",
            "[3 5] [3 5]\n"
          ],
          "name": "stdout"
        }
      ]
    },
    {
      "cell_type": "markdown",
      "metadata": {
        "id": "I7Z5oA3Ss17e"
      },
      "source": [
        "No de mi történik, ha ezután `b`-nek új értéket adok, nem csak módosítom? <div id=\"mutable2\"></div>"
      ]
    },
    {
      "cell_type": "code",
      "metadata": {
        "id": "t-RdCA3us17f",
        "outputId": "32521508-a472-4513-acbc-48b8d8003d83"
      },
      "source": [
        "a=[1,2]\n",
        "b=a\n",
        "print (a is b)\n",
        "\n",
        "b=[2,3]\n",
        "print (a is b)\n",
        "print(a,b)"
      ],
      "execution_count": null,
      "outputs": [
        {
          "output_type": "stream",
          "text": [
            "True\n",
            "False\n",
            "[1, 2] [2, 3]\n"
          ],
          "name": "stdout"
        }
      ]
    },
    {
      "cell_type": "markdown",
      "metadata": {
        "id": "nnaSYotIs17f"
      },
      "source": [
        "Vegyük észre, hogy most viszont 'b' már új objektumra hivatkozik, így 'a' értéke nem változott."
      ]
    },
    {
      "cell_type": "markdown",
      "metadata": {
        "id": "w4GhjEkks17f"
      },
      "source": [
        "### For ciklus\n",
        "\n",
        "A végigszaladás közben egy-egy új hivatkozást kapunk az objektumokra!\n",
        "\n"
      ]
    },
    {
      "cell_type": "code",
      "metadata": {
        "id": "GN7XEoMts17f",
        "outputId": "f6eb7880-eca1-4d85-9430-66b55b0e055e"
      },
      "source": [
        "a=[1,2]\n",
        "b=[1,2]\n",
        "print(sys.getrefcount(a),end=', ') # 2, ahogy eddig is láttuk\n",
        "print(sys.getrefcount(b)) # 2, ahogy eddig is láttuk\n",
        "\n",
        "c=[a,a,b,b]\n",
        "print(sys.getrefcount(a),end=', ')# 4, mert c elemei is 'a'-ra és 'b'-re mutatnak\n",
        "print(sys.getrefcount(b)) # 4, mert c elemei is 'a'-ra és 'b'-re mutatnak\n",
        "\n",
        "for elem in c:\n",
        "    print(sys.getrefcount(a),end=', ') # aktuálisra 4+1, másikra továbbra is 4\n",
        "    print(sys.getrefcount(b)) # # aktuálisra 4+1, másikra továbbra is 4"
      ],
      "execution_count": null,
      "outputs": [
        {
          "output_type": "stream",
          "text": [
            "2, 2\n",
            "4, 4\n",
            "5, 4\n",
            "5, 4\n",
            "4, 5\n",
            "4, 5\n"
          ],
          "name": "stdout"
        }
      ]
    },
    {
      "cell_type": "markdown",
      "metadata": {
        "id": "2efO3Si6s17g"
      },
      "source": [
        "#### Következmény megváltoztathatatlan objektumok esetén\n",
        "\n",
        "Ha van egy megváltoztathatatlan objektumokból (pl. int, float) álló listánk (bármi, ami iterálható), akkor a `for` ciklusban a ciklusváltozóként használt elemmel bármit csinálunk, az eredeti lista nem fog megváltozni.\n",
        "\n",
        "A ciklusváltozó ugyanis egy új változó, ami egy új referenciát tartalmaz ugyanarra az objektumra, mint az eredeti változó. Megváltoztathatatlan obektumok esetén a ciklusváltozót nyugodt szívvel módosíthatjuk, mert ekkor egy másik objektumra való hivatkozást fog tartalmazni. (Ugyanaz történik a ciklusváltozóval, mintha a megváltoztathatatlan változók esetére [visszalapozunk](#immutable2).)"
      ]
    },
    {
      "cell_type": "code",
      "metadata": {
        "id": "B4ALwngZs17g",
        "outputId": "78a59ac3-dd4c-4e05-8794-a32a2b0eca50"
      },
      "source": [
        "x=[1,2,3,4]\n",
        "for xi in x:\n",
        "    print(id(xi),end=\", \")\n",
        "    xi+=5\n",
        "    print(id(xi))\n",
        "    # xi egy uj referenciat tartalmaz ugyanarra az objektumra\n",
        "    # mint x adott eleme\n",
        "    # ha xi-t megvaltoztatom akkor nem a szamot valtoztatom meg\n",
        "    # hanem xi-t lecserelem egy masik szamra mutato referenciara\n",
        "    # x elemei meg mindig ugyanarra a szamra mutatnak \n",
        "x"
      ],
      "execution_count": null,
      "outputs": [
        {
          "output_type": "stream",
          "text": [
            "140452173875744, 140452173875904\n",
            "140452173875776, 140452173875936\n",
            "140452173875808, 140452173875968\n",
            "140452173875840, 140452173876000\n"
          ],
          "name": "stdout"
        },
        {
          "output_type": "execute_result",
          "data": {
            "text/plain": [
              "[1, 2, 3, 4]"
            ]
          },
          "metadata": {
            "tags": []
          },
          "execution_count": 27
        }
      ]
    },
    {
      "cell_type": "markdown",
      "metadata": {
        "id": "Banwkp7fs17g"
      },
      "source": [
        "*Itt szerintem félrevezető volt az eredeti szöveg.* Megtehetem azt is, hogy a ciklusváltozó segítségével módosítom az eredeti listám elemeit. Mivel az csak megváltoztathatatlan objektumokat tartalmazott, ezért a módosítás után a listában új objektumok lesznek. Ez ismét a [már látott](#immutable2) jelenség."
      ]
    },
    {
      "cell_type": "code",
      "metadata": {
        "id": "tqZ_Dpnfs17g",
        "outputId": "1a1d1652-37dd-4d67-bf58-260120579199"
      },
      "source": [
        "x=[1,2,3,4]\n",
        "for i in range(len(x)):\n",
        "    print(id(x[i]),end=\", \")\n",
        "    x[i]+=5\n",
        "    print(id(x[i]))\n",
        "x"
      ],
      "execution_count": null,
      "outputs": [
        {
          "output_type": "stream",
          "text": [
            "140452173875744, 140452173875904\n",
            "140452173875776, 140452173875936\n",
            "140452173875808, 140452173875968\n",
            "140452173875840, 140452173876000\n"
          ],
          "name": "stdout"
        },
        {
          "output_type": "execute_result",
          "data": {
            "text/plain": [
              "[6, 7, 8, 9]"
            ]
          },
          "metadata": {
            "tags": []
          },
          "execution_count": 28
        }
      ]
    },
    {
      "cell_type": "markdown",
      "metadata": {
        "id": "BH9Ht6Pgs17h"
      },
      "source": [
        "#### Következmény megváltoztatható objektumok esetén\n",
        "\n",
        "Megváltoztatható objektumok esetén más a helyzet. Az új változót módosítva magát az objektumot változtatjuk meg, tehát az eredeti változó is a megváltoztatott objektumra mutat már. ([Előző eset.](#mutable1))"
      ]
    },
    {
      "cell_type": "code",
      "metadata": {
        "id": "JjFyprQOs17h",
        "outputId": "8710d476-3825-4491-fc83-298d17e1851a"
      },
      "source": [
        "x=[[1],[1]]\n",
        "for i in x:\n",
        "    print(id(i),end=\", \")\n",
        "    i+=[2]\n",
        "    print(id(i))\n",
        "x"
      ],
      "execution_count": null,
      "outputs": [
        {
          "output_type": "stream",
          "text": [
            "140451873520072, 140451873520072\n",
            "140451873520136, 140451873520136\n"
          ],
          "name": "stdout"
        },
        {
          "output_type": "execute_result",
          "data": {
            "text/plain": [
              "[[1, 2], [1, 2]]"
            ]
          },
          "metadata": {
            "tags": []
          },
          "execution_count": 29
        }
      ]
    },
    {
      "cell_type": "markdown",
      "metadata": {
        "id": "JDKrJywIs17h"
      },
      "source": [
        "Viszont ha a ciklusváltozónak új értéket adunk, akkor az eredeti lista nem változik, mert a ciklusváltozó az újonnan létrehozott objektumra fog hivatkozni, de a régi listában változatlanok maradtak a hivatkozások. ([Előző eset.](#mutable2))"
      ]
    },
    {
      "cell_type": "code",
      "metadata": {
        "id": "W5gRiXqWs17h",
        "outputId": "fb3241bc-90cc-4f54-d279-c2b9cfd1a183"
      },
      "source": [
        "x=[[1],[1]]\n",
        "for i in x:\n",
        "    print(id(i),end=\", \")\n",
        "    i=[2]\n",
        "    print(id(i))\n",
        "x"
      ],
      "execution_count": null,
      "outputs": [
        {
          "output_type": "stream",
          "text": [
            "140451456813704, 140451458900040\n",
            "140451456793608, 140451458900040\n"
          ],
          "name": "stdout"
        },
        {
          "output_type": "execute_result",
          "data": {
            "text/plain": [
              "[[1], [1]]"
            ]
          },
          "metadata": {
            "tags": []
          },
          "execution_count": 30
        }
      ]
    },
    {
      "cell_type": "markdown",
      "metadata": {
        "id": "DlhnpLFhs17i"
      },
      "source": [
        "### Függvények"
      ]
    },
    {
      "cell_type": "markdown",
      "metadata": {
        "id": "C-7jLxnvs17i"
      },
      "source": [
        "A függvényekben is új hivatkozast kapunk az argumentumokra. "
      ]
    },
    {
      "cell_type": "code",
      "metadata": {
        "id": "rGtHI2Ers17i",
        "outputId": "de1e700e-3471-431b-9c49-d08b435ce078"
      },
      "source": [
        "a=[1]\n",
        "print(sys.getrefcount(a)) # 2, ahogy eddig is lattuk\n",
        "\n",
        "def f(x): # itt az egyik\n",
        "    print(sys.getrefcount(x)) # 2-vel tobb\n",
        "\n",
        "f(a) #itt a masik"
      ],
      "execution_count": null,
      "outputs": [
        {
          "output_type": "stream",
          "text": [
            "2\n",
            "4\n"
          ],
          "name": "stdout"
        }
      ]
    },
    {
      "cell_type": "markdown",
      "metadata": {
        "id": "j13wn4oKs17j"
      },
      "source": [
        "#### Következménye mgeváltoztathatatlan objektumok esetén\n",
        "\n",
        "Ha az argumentum megváltoztathatatlan objektum, akkor a függvényben az argumentummal bármit csinálunk, az eredeti változó nem fog megváltozni!\n",
        "\n",
        "A függvényen belüli változó egy új változó, ami egy új referenciát tartalmaz ugyanarra az objektumra, mint az eredeti változó. Bármit is csinálunk ezzel a referenciával, az eredeti változóval ez semmit sem csinál."
      ]
    },
    {
      "cell_type": "code",
      "metadata": {
        "id": "BuMLr-PXs17j",
        "outputId": "dc14f908-a954-4e94-8c0a-0db71b2e065c"
      },
      "source": [
        "#int\n",
        "def f(valami):\n",
        "    valami+=1\n",
        "    return\n",
        "\n",
        "x=6\n",
        "f(x)\n",
        "x"
      ],
      "execution_count": null,
      "outputs": [
        {
          "output_type": "execute_result",
          "data": {
            "text/plain": [
              "6"
            ]
          },
          "metadata": {
            "tags": []
          },
          "execution_count": 32
        }
      ]
    },
    {
      "cell_type": "code",
      "metadata": {
        "id": "PvclrpOvs17j",
        "outputId": "3e1f06e9-e54d-42f0-e1bc-a238e9d9f43f"
      },
      "source": [
        "#string\n",
        "def f(valami):\n",
        "    valami+='fajta'\n",
        "    return\n",
        "\n",
        "x='majom'\n",
        "f(x)\n",
        "x"
      ],
      "execution_count": null,
      "outputs": [
        {
          "output_type": "execute_result",
          "data": {
            "text/plain": [
              "'majom'"
            ]
          },
          "metadata": {
            "tags": []
          },
          "execution_count": 33
        }
      ]
    },
    {
      "cell_type": "code",
      "metadata": {
        "id": "QgYMAKFns17k",
        "outputId": "84eaa295-9398-4bd4-c9c6-ebed13d2b021"
      },
      "source": [
        "#tuple\n",
        "def f(valami):\n",
        "    valami+=(1,2,3)\n",
        "    return\n",
        "\n",
        "x=(0,1,2)\n",
        "f(x)\n",
        "x"
      ],
      "execution_count": null,
      "outputs": [
        {
          "output_type": "execute_result",
          "data": {
            "text/plain": [
              "(0, 1, 2)"
            ]
          },
          "metadata": {
            "tags": []
          },
          "execution_count": 34
        }
      ]
    },
    {
      "cell_type": "markdown",
      "metadata": {
        "id": "GD-KReAUs17k"
      },
      "source": [
        "#### Következménye mgeváltoztatható objektumok esetén\n",
        "\n",
        "Megváltoztatható objektumok esetén más a helyzet. Az új változót megváltoztatva magát az objektumot változtatjuk meg, és nem csak a referenciát írjuk át, tehát az eredeti referencia is már a megváltoztatott objektumra mutat."
      ]
    },
    {
      "cell_type": "code",
      "metadata": {
        "id": "uUppaeUws17l",
        "outputId": "b3883121-456f-41a8-f63f-e5be8e80d937"
      },
      "source": [
        "def f(valami):\n",
        "    valami+=[4,5,6]\n",
        "    return\n",
        "\n",
        "x=[0,1,2]\n",
        "print(id(x))\n",
        "f(x)\n",
        "print(id(x))\n",
        "x"
      ],
      "execution_count": null,
      "outputs": [
        {
          "output_type": "stream",
          "text": [
            "140451873401608\n",
            "140451873401608\n"
          ],
          "name": "stdout"
        },
        {
          "output_type": "execute_result",
          "data": {
            "text/plain": [
              "[0, 1, 2, 4, 5, 6]"
            ]
          },
          "metadata": {
            "tags": []
          },
          "execution_count": 35
        }
      ]
    },
    {
      "cell_type": "code",
      "metadata": {
        "id": "0HbjO6Sys17l",
        "outputId": "0e9d51e7-19c1-4d8d-ae41-d23786ae2da1"
      },
      "source": [
        "def f(valami):\n",
        "    valami+=5\n",
        "    return\n",
        "\n",
        "x=array([0,1,2])\n",
        "print(id(x))\n",
        "f(x)\n",
        "print(id(x))\n",
        "x"
      ],
      "execution_count": null,
      "outputs": [
        {
          "output_type": "stream",
          "text": [
            "140451873487808\n",
            "140451873487808\n"
          ],
          "name": "stdout"
        },
        {
          "output_type": "execute_result",
          "data": {
            "text/plain": [
              "array([5, 6, 7])"
            ]
          },
          "metadata": {
            "tags": []
          },
          "execution_count": 36
        }
      ]
    },
    {
      "cell_type": "markdown",
      "metadata": {
        "id": "tzJBxAa5s17l"
      },
      "source": [
        "Ha nem módosítás, hanem értékadás történik (mint [korábban](#mutable2)), akkor `ezmostmi` másik objektumra fog hivatkozni."
      ]
    },
    {
      "cell_type": "code",
      "metadata": {
        "id": "UX59fpyns17l",
        "outputId": "202f8114-4426-4864-def8-2b318bf5572b"
      },
      "source": [
        "def g(ezmostmi):\n",
        "    ezmostmi=[3,4,5]\n",
        "    print(ezmostmi, id(ezmostmi))\n",
        "\n",
        "x=[0,1,2]\n",
        "print(id(x))\n",
        "g(x)\n",
        "print(id(x))\n",
        "x"
      ],
      "execution_count": null,
      "outputs": [
        {
          "output_type": "stream",
          "text": [
            "140451456790600\n",
            "[3, 4, 5] 140451456813448\n",
            "140451456790600\n"
          ],
          "name": "stdout"
        },
        {
          "output_type": "execute_result",
          "data": {
            "text/plain": [
              "[0, 1, 2]"
            ]
          },
          "metadata": {
            "tags": []
          },
          "execution_count": 37
        }
      ]
    },
    {
      "cell_type": "markdown",
      "metadata": {
        "id": "Xowtosq_s17m"
      },
      "source": [
        "----\n",
        "\n",
        "## Láthatóság\n",
        "\n",
        "\n",
        "Hol tudjuk használni a létrehozott változókat?\n",
        "\n",
        "----"
      ]
    },
    {
      "cell_type": "markdown",
      "metadata": {
        "id": "U9fUDbh9s17m"
      },
      "source": [
        "Amit egy függvényen belül hozunk létre (és nem adjuk vissza), az egyszerűen eltűnik."
      ]
    },
    {
      "cell_type": "code",
      "metadata": {
        "id": "mogCZkwxs17m",
        "outputId": "0b86c238-1204-4c6d-e73c-f01d38734db4"
      },
      "source": [
        "def g():\n",
        "    volt_nincs='Itt meg megvolt'\n",
        "    print(volt_nincs)\n",
        "    \n",
        "g()\n",
        "volt_nincs"
      ],
      "execution_count": null,
      "outputs": [
        {
          "output_type": "stream",
          "text": [
            "Itt meg megvolt\n"
          ],
          "name": "stdout"
        },
        {
          "output_type": "error",
          "ename": "NameError",
          "evalue": "name 'volt_nincs' is not defined",
          "traceback": [
            "\u001b[1;31m---------------------------------------------------------------------------\u001b[0m",
            "\u001b[1;31mNameError\u001b[0m                                 Traceback (most recent call last)",
            "\u001b[1;32m<ipython-input-38-18cdffe77a7a>\u001b[0m in \u001b[0;36m<module>\u001b[1;34m()\u001b[0m\n\u001b[0;32m      4\u001b[0m \u001b[1;33m\u001b[0m\u001b[0m\n\u001b[0;32m      5\u001b[0m \u001b[0mg\u001b[0m\u001b[1;33m(\u001b[0m\u001b[1;33m)\u001b[0m\u001b[1;33m\u001b[0m\u001b[0m\n\u001b[1;32m----> 6\u001b[1;33m \u001b[0mvolt_nincs\u001b[0m\u001b[1;33m\u001b[0m\u001b[0m\n\u001b[0m",
            "\u001b[1;31mNameError\u001b[0m: name 'volt_nincs' is not defined"
          ]
        }
      ]
    },
    {
      "cell_type": "markdown",
      "metadata": {
        "id": "4-cqVqOrs17m"
      },
      "source": [
        "Ez a függvényekre is vonatkozik!"
      ]
    },
    {
      "cell_type": "code",
      "metadata": {
        "id": "tkmgkI9hs17n",
        "outputId": "5af7a251-0d7c-42d0-e885-6e1fdeaab854"
      },
      "source": [
        "def g():\n",
        "    def volt_nincs():\n",
        "        print('Itt meg megvan')\n",
        "    volt_nincs()\n",
        "    \n",
        "g()\n",
        "volt_nincs()"
      ],
      "execution_count": null,
      "outputs": [
        {
          "output_type": "stream",
          "text": [
            "Itt meg megvan\n"
          ],
          "name": "stdout"
        },
        {
          "output_type": "error",
          "ename": "NameError",
          "evalue": "name 'volt_nincs' is not defined",
          "traceback": [
            "\u001b[1;31m---------------------------------------------------------------------------\u001b[0m",
            "\u001b[1;31mNameError\u001b[0m                                 Traceback (most recent call last)",
            "\u001b[1;32m<ipython-input-39-dd1d1ad67643>\u001b[0m in \u001b[0;36m<module>\u001b[1;34m()\u001b[0m\n\u001b[0;32m      5\u001b[0m \u001b[1;33m\u001b[0m\u001b[0m\n\u001b[0;32m      6\u001b[0m \u001b[0mg\u001b[0m\u001b[1;33m(\u001b[0m\u001b[1;33m)\u001b[0m\u001b[1;33m\u001b[0m\u001b[0m\n\u001b[1;32m----> 7\u001b[1;33m \u001b[0mvolt_nincs\u001b[0m\u001b[1;33m(\u001b[0m\u001b[1;33m)\u001b[0m\u001b[1;33m\u001b[0m\u001b[0m\n\u001b[0m",
            "\u001b[1;31mNameError\u001b[0m: name 'volt_nincs' is not defined"
          ]
        }
      ]
    },
    {
      "cell_type": "markdown",
      "metadata": {
        "id": "16YRsoays17o"
      },
      "source": [
        "A fejlebb (balrább) definiált változók lejjebb (jobbrább) látszanak!"
      ]
    },
    {
      "cell_type": "code",
      "metadata": {
        "id": "LSXwSmDis17o",
        "outputId": "6bb06e1e-56bb-4468-fe69-3b89859ea479"
      },
      "source": [
        "latom='latom'\n",
        "def g():\n",
        "    print(latom)\n",
        "g()"
      ],
      "execution_count": null,
      "outputs": [
        {
          "output_type": "stream",
          "text": [
            "latom\n"
          ],
          "name": "stdout"
        }
      ]
    },
    {
      "cell_type": "code",
      "metadata": {
        "id": "5V9kkPp9s17p",
        "outputId": "dd22b93a-4aef-4d7f-bfc7-6d8ccc684153"
      },
      "source": [
        "def f():\n",
        "    eztislatom='nana'\n",
        "    def g():\n",
        "        print(eztislatom)\n",
        "    g()\n",
        "f()"
      ],
      "execution_count": null,
      "outputs": [
        {
          "output_type": "stream",
          "text": [
            "nana\n"
          ],
          "name": "stdout"
        }
      ]
    },
    {
      "cell_type": "markdown",
      "metadata": {
        "id": "SzQIr4aMs17p"
      },
      "source": [
        "De ha ugyanazt a nevet felhasználjuk argumentumnévként, akkor azzal elfedjük a külső változót."
      ]
    },
    {
      "cell_type": "code",
      "metadata": {
        "id": "j-vV3MP-s17p",
        "outputId": "2cfc5cf0-76e2-4013-cb63-d7cb3d30a4d3",
        "colab": {
          "base_uri": "https://localhost:8080/",
          "height": 52
        }
      },
      "source": [
        "latom='latom'\n",
        "def g():\n",
        "  global latom\n",
        "  latom = 'asd'\n",
        "  print(latom)\n",
        "g()\n",
        "latom"
      ],
      "execution_count": 19,
      "outputs": [
        {
          "output_type": "stream",
          "text": [
            "asd\n"
          ],
          "name": "stdout"
        },
        {
          "output_type": "execute_result",
          "data": {
            "application/vnd.google.colaboratory.intrinsic+json": {
              "type": "string"
            },
            "text/plain": [
              "'asd'"
            ]
          },
          "metadata": {
            "tags": []
          },
          "execution_count": 19
        }
      ]
    },
    {
      "cell_type": "markdown",
      "metadata": {
        "id": "w1wTjLKos17p"
      },
      "source": [
        "Ha új referenciát rendelünk bármilyen módon a névhez, azzal elfedjük a globális változót.\n",
        "Így nem írhatjuk át a név tartalmát, azaz nem cserélhetjük le a referenciát."
      ]
    },
    {
      "cell_type": "code",
      "metadata": {
        "id": "hXIvGsm6s17q",
        "outputId": "5e5e5a8a-69a7-47d9-a54b-18228a3c4792"
      },
      "source": [
        "latom='latom'\n",
        "def g():\n",
        "    latom='nem is'\n",
        "    print(latom)\n",
        "g()\n",
        "latom"
      ],
      "execution_count": null,
      "outputs": [
        {
          "output_type": "stream",
          "text": [
            "nem is\n"
          ],
          "name": "stdout"
        },
        {
          "output_type": "execute_result",
          "data": {
            "text/plain": [
              "'latom'"
            ]
          },
          "metadata": {
            "tags": []
          },
          "execution_count": 43
        }
      ]
    },
    {
      "cell_type": "markdown",
      "metadata": {
        "id": "pgTADpcDs17q"
      },
      "source": [
        "Az objektumot, amire mutat, természetesen módosíthatjuk, ha megváltoztatható."
      ]
    },
    {
      "cell_type": "code",
      "metadata": {
        "id": "fPtQYWPXs17q",
        "outputId": "2034c63c-bc28-4fa1-d46d-36e17298863f"
      },
      "source": [
        "latom=[1,2,3]\n",
        "def g():\n",
        "    latom.append(4)\n",
        "    print(latom)\n",
        "g()\n",
        "latom"
      ],
      "execution_count": null,
      "outputs": [
        {
          "output_type": "stream",
          "text": [
            "[1, 2, 3, 4]\n"
          ],
          "name": "stdout"
        },
        {
          "output_type": "execute_result",
          "data": {
            "text/plain": [
              "[1, 2, 3, 4]"
            ]
          },
          "metadata": {
            "tags": []
          },
          "execution_count": 44
        }
      ]
    },
    {
      "cell_type": "markdown",
      "metadata": {
        "id": "sdcR0XORs17q"
      },
      "source": [
        "Ha külön kérjük, a referenciát is átírhatjuk."
      ]
    },
    {
      "cell_type": "code",
      "metadata": {
        "id": "BdkVX-GFs17r",
        "outputId": "acb7f6f8-036f-424d-88bc-1bd7641d4921"
      },
      "source": [
        "latom='latom'\n",
        "def g():\n",
        "    global latom\n",
        "    latom='igy igen'\n",
        "    print(latom)\n",
        "g()\n",
        "latom"
      ],
      "execution_count": null,
      "outputs": [
        {
          "output_type": "stream",
          "text": [
            "igy igen\n"
          ],
          "name": "stdout"
        },
        {
          "output_type": "execute_result",
          "data": {
            "text/plain": [
              "'igy igen'"
            ]
          },
          "metadata": {
            "tags": []
          },
          "execution_count": 45
        }
      ]
    },
    {
      "cell_type": "markdown",
      "metadata": {
        "id": "BAM_V3X9s17r"
      },
      "source": [
        "A függvény definíciója után létrehozott globális nevek is látszanak a függvényben."
      ]
    },
    {
      "cell_type": "code",
      "metadata": {
        "id": "R9zTo98_s17r",
        "outputId": "14fe3d78-2ddf-4799-9685-0fdaec2c59ed",
        "colab": {
          "base_uri": "https://localhost:8080/"
        }
      },
      "source": [
        "def f():\n",
        "    print(hatdeezmegnemisvolthogyhogyhasznalhatom)\n",
        "    \n",
        "hatdeezmegnemisvolthogyhogyhasznalhatom='nem ugy van az'\n",
        "f()"
      ],
      "execution_count": 10,
      "outputs": [
        {
          "output_type": "stream",
          "text": [
            "nem ugy van az\n"
          ],
          "name": "stdout"
        }
      ]
    },
    {
      "cell_type": "markdown",
      "metadata": {
        "id": "NBSxKIC8s17r"
      },
      "source": [
        "A for cikluson belül létrehozott változók azon kívül is látszanak."
      ]
    },
    {
      "cell_type": "code",
      "metadata": {
        "id": "VhjypZjQs17s",
        "outputId": "b6eeabaf-1798-403b-a03d-8a8748f08377"
      },
      "source": [
        "for i in range(3):\n",
        "    eztmindekilatja='jah'\n",
        "eztmindekilatja"
      ],
      "execution_count": null,
      "outputs": [
        {
          "output_type": "execute_result",
          "data": {
            "text/plain": [
              "'jah'"
            ]
          },
          "metadata": {
            "tags": []
          },
          "execution_count": 47
        }
      ]
    },
    {
      "cell_type": "markdown",
      "metadata": {
        "id": "9ouH52als17s"
      },
      "source": [
        "Tehát for ciklus változója még a for után is látszik!"
      ]
    },
    {
      "cell_type": "code",
      "metadata": {
        "id": "lfradSacs17s",
        "outputId": "236d4256-ebb2-410e-e7bf-5eeed3bfba39",
        "colab": {
          "base_uri": "https://localhost:8080/"
        }
      },
      "source": [
        "for i in range(3):\n",
        "    eztmindekilatja='jah'\n",
        "i"
      ],
      "execution_count": 9,
      "outputs": [
        {
          "output_type": "execute_result",
          "data": {
            "text/plain": [
              "2"
            ]
          },
          "metadata": {
            "tags": []
          },
          "execution_count": 9
        }
      ]
    }
  ]
}